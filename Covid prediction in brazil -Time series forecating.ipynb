{
 "cells": [
  {
   "cell_type": "markdown",
   "metadata": {},
   "source": [
    "#### This is the sql query to retrieve top 5 countries which was affected by covid\n",
    "SELECT country_region,sum(n2_17_21)as confirmed FROM \"bitdotio/csse_covid_19_data\".\"time_series_covid19_confirmed_global\"\n",
    "group by country_region having sum(n2_17_21) is not null\n",
    "order by confirmed desc limit 5"
   ]
  },
  {
   "cell_type": "markdown",
   "metadata": {},
   "source": [
    "#### This is the sql query to retrieve 3 rd top country of confirmed cases\n",
    "select * from \"bitdotio/csse_covid_19_data\".\"time_series_covid19_confirmed_global\" where country_region='Brazil'"
   ]
  },
  {
   "cell_type": "markdown",
   "metadata": {},
   "source": [
    "#### This is the sql query to retrieve 3 rd top country of recovered cases¶\n",
    "select * from \"bitdotio/csse_covid_19_data\".\"time_series_covid19_recovered_global\" where country_region='Brazil'"
   ]
  },
  {
   "cell_type": "code",
   "execution_count": 1,
   "metadata": {},
   "outputs": [],
   "source": [
    "import pandas as pd\n",
    "import os\n",
    "import matplotlib.pyplot as plt\n",
    "import numpy as np"
   ]
  },
  {
   "cell_type": "code",
   "execution_count": 2,
   "metadata": {},
   "outputs": [],
   "source": [
    "confirmed = pd.read_csv('C:\\\\Users\\\\Narayanan\\\\Downloads\\\\confirmed_global.csv')\n",
    "recovered = pd.read_csv('C:\\\\Users\\\\Narayanan\\\\Downloads\\\\recoverd_global.csv')"
   ]
  },
  {
   "cell_type": "code",
   "execution_count": 3,
   "metadata": {},
   "outputs": [],
   "source": [
    "df= confirmed.append(recovered, ignore_index=True)"
   ]
  },
  {
   "cell_type": "code",
   "execution_count": 4,
   "metadata": {},
   "outputs": [],
   "source": [
    "df.drop(['country_region','province_state','lat','long'],axis=1,inplace=True)"
   ]
  },
  {
   "cell_type": "code",
   "execution_count": 5,
   "metadata": {},
   "outputs": [
    {
     "data": {
      "text/plain": [
       "Index(['n1_22_20', 'n1_23_20', 'n1_24_20', 'n1_25_20', 'n1_26_20', 'n1_27_20',\n",
       "       'n1_28_20', 'n1_29_20', 'n1_30_20', 'n1_31_20',\n",
       "       ...\n",
       "       'n2_8_21', 'n2_9_21', 'n2_10_21', 'n2_11_21', 'n2_12_21', 'n2_13_21',\n",
       "       'n2_14_21', 'n2_15_21', 'n2_16_21', 'n2_17_21'],\n",
       "      dtype='object', length=393)"
      ]
     },
     "execution_count": 5,
     "metadata": {},
     "output_type": "execute_result"
    }
   ],
   "source": [
    "df.columns"
   ]
  },
  {
   "cell_type": "code",
   "execution_count": 6,
   "metadata": {},
   "outputs": [],
   "source": [
    "df.loc['ratio'] = df.iloc[1]/df.iloc[0]"
   ]
  },
  {
   "cell_type": "code",
   "execution_count": 7,
   "metadata": {},
   "outputs": [
    {
     "data": {
      "text/html": [
       "<div>\n",
       "<style scoped>\n",
       "    .dataframe tbody tr th:only-of-type {\n",
       "        vertical-align: middle;\n",
       "    }\n",
       "\n",
       "    .dataframe tbody tr th {\n",
       "        vertical-align: top;\n",
       "    }\n",
       "\n",
       "    .dataframe thead th {\n",
       "        text-align: right;\n",
       "    }\n",
       "</style>\n",
       "<table border=\"1\" class=\"dataframe\">\n",
       "  <thead>\n",
       "    <tr style=\"text-align: right;\">\n",
       "      <th></th>\n",
       "      <th>n1_22_20</th>\n",
       "      <th>n1_23_20</th>\n",
       "      <th>n1_24_20</th>\n",
       "      <th>n1_25_20</th>\n",
       "      <th>n1_26_20</th>\n",
       "      <th>n1_27_20</th>\n",
       "      <th>n1_28_20</th>\n",
       "      <th>n1_29_20</th>\n",
       "      <th>n1_30_20</th>\n",
       "      <th>n1_31_20</th>\n",
       "      <th>...</th>\n",
       "      <th>n2_8_21</th>\n",
       "      <th>n2_9_21</th>\n",
       "      <th>n2_10_21</th>\n",
       "      <th>n2_11_21</th>\n",
       "      <th>n2_12_21</th>\n",
       "      <th>n2_13_21</th>\n",
       "      <th>n2_14_21</th>\n",
       "      <th>n2_15_21</th>\n",
       "      <th>n2_16_21</th>\n",
       "      <th>n2_17_21</th>\n",
       "    </tr>\n",
       "  </thead>\n",
       "  <tbody>\n",
       "    <tr>\n",
       "      <th>0</th>\n",
       "      <td>0.0</td>\n",
       "      <td>0.0</td>\n",
       "      <td>0.0</td>\n",
       "      <td>0.0</td>\n",
       "      <td>0.0</td>\n",
       "      <td>0.0</td>\n",
       "      <td>0.0</td>\n",
       "      <td>0.0</td>\n",
       "      <td>0.0</td>\n",
       "      <td>0.0</td>\n",
       "      <td>...</td>\n",
       "      <td>9.524640e+06</td>\n",
       "      <td>9.599565e+06</td>\n",
       "      <td>9.659167e+06</td>\n",
       "      <td>9.713909e+06</td>\n",
       "      <td>9.765455e+06</td>\n",
       "      <td>9.809754e+06</td>\n",
       "      <td>9.834513e+06</td>\n",
       "      <td>9.866710e+06</td>\n",
       "      <td>9.921981e+06</td>\n",
       "      <td>9.978747e+06</td>\n",
       "    </tr>\n",
       "    <tr>\n",
       "      <th>1</th>\n",
       "      <td>0.0</td>\n",
       "      <td>0.0</td>\n",
       "      <td>0.0</td>\n",
       "      <td>0.0</td>\n",
       "      <td>0.0</td>\n",
       "      <td>0.0</td>\n",
       "      <td>0.0</td>\n",
       "      <td>0.0</td>\n",
       "      <td>0.0</td>\n",
       "      <td>0.0</td>\n",
       "      <td>...</td>\n",
       "      <td>8.478818e+06</td>\n",
       "      <td>8.577207e+06</td>\n",
       "      <td>8.616282e+06</td>\n",
       "      <td>8.637050e+06</td>\n",
       "      <td>8.691664e+06</td>\n",
       "      <td>8.740445e+06</td>\n",
       "      <td>8.765048e+06</td>\n",
       "      <td>8.821887e+06</td>\n",
       "      <td>8.847264e+06</td>\n",
       "      <td>8.933402e+06</td>\n",
       "    </tr>\n",
       "    <tr>\n",
       "      <th>ratio</th>\n",
       "      <td>NaN</td>\n",
       "      <td>NaN</td>\n",
       "      <td>NaN</td>\n",
       "      <td>NaN</td>\n",
       "      <td>NaN</td>\n",
       "      <td>NaN</td>\n",
       "      <td>NaN</td>\n",
       "      <td>NaN</td>\n",
       "      <td>NaN</td>\n",
       "      <td>NaN</td>\n",
       "      <td>...</td>\n",
       "      <td>8.901983e-01</td>\n",
       "      <td>8.934995e-01</td>\n",
       "      <td>8.920316e-01</td>\n",
       "      <td>8.891426e-01</td>\n",
       "      <td>8.900419e-01</td>\n",
       "      <td>8.909953e-01</td>\n",
       "      <td>8.912539e-01</td>\n",
       "      <td>8.941062e-01</td>\n",
       "      <td>8.916832e-01</td>\n",
       "      <td>8.952429e-01</td>\n",
       "    </tr>\n",
       "  </tbody>\n",
       "</table>\n",
       "<p>3 rows × 393 columns</p>\n",
       "</div>"
      ],
      "text/plain": [
       "       n1_22_20  n1_23_20  n1_24_20  n1_25_20  n1_26_20  n1_27_20  n1_28_20  \\\n",
       "0           0.0       0.0       0.0       0.0       0.0       0.0       0.0   \n",
       "1           0.0       0.0       0.0       0.0       0.0       0.0       0.0   \n",
       "ratio       NaN       NaN       NaN       NaN       NaN       NaN       NaN   \n",
       "\n",
       "       n1_29_20  n1_30_20  n1_31_20  ...       n2_8_21       n2_9_21  \\\n",
       "0           0.0       0.0       0.0  ...  9.524640e+06  9.599565e+06   \n",
       "1           0.0       0.0       0.0  ...  8.478818e+06  8.577207e+06   \n",
       "ratio       NaN       NaN       NaN  ...  8.901983e-01  8.934995e-01   \n",
       "\n",
       "           n2_10_21      n2_11_21      n2_12_21      n2_13_21      n2_14_21  \\\n",
       "0      9.659167e+06  9.713909e+06  9.765455e+06  9.809754e+06  9.834513e+06   \n",
       "1      8.616282e+06  8.637050e+06  8.691664e+06  8.740445e+06  8.765048e+06   \n",
       "ratio  8.920316e-01  8.891426e-01  8.900419e-01  8.909953e-01  8.912539e-01   \n",
       "\n",
       "           n2_15_21      n2_16_21      n2_17_21  \n",
       "0      9.866710e+06  9.921981e+06  9.978747e+06  \n",
       "1      8.821887e+06  8.847264e+06  8.933402e+06  \n",
       "ratio  8.941062e-01  8.916832e-01  8.952429e-01  \n",
       "\n",
       "[3 rows x 393 columns]"
      ]
     },
     "execution_count": 7,
     "metadata": {},
     "output_type": "execute_result"
    }
   ],
   "source": [
    "df"
   ]
  },
  {
   "cell_type": "code",
   "execution_count": 8,
   "metadata": {},
   "outputs": [
    {
     "data": {
      "text/plain": [
       "0         0\n",
       "1         0\n",
       "ratio    35\n",
       "dtype: int64"
      ]
     },
     "execution_count": 8,
     "metadata": {},
     "output_type": "execute_result"
    }
   ],
   "source": [
    "df.isnull().sum(axis=1)"
   ]
  },
  {
   "cell_type": "code",
   "execution_count": 9,
   "metadata": {},
   "outputs": [],
   "source": [
    "df=df.dropna(axis=1)"
   ]
  },
  {
   "cell_type": "code",
   "execution_count": 10,
   "metadata": {},
   "outputs": [
    {
     "data": {
      "text/html": [
       "<div>\n",
       "<style scoped>\n",
       "    .dataframe tbody tr th:only-of-type {\n",
       "        vertical-align: middle;\n",
       "    }\n",
       "\n",
       "    .dataframe tbody tr th {\n",
       "        vertical-align: top;\n",
       "    }\n",
       "\n",
       "    .dataframe thead th {\n",
       "        text-align: right;\n",
       "    }\n",
       "</style>\n",
       "<table border=\"1\" class=\"dataframe\">\n",
       "  <thead>\n",
       "    <tr style=\"text-align: right;\">\n",
       "      <th></th>\n",
       "      <th>n2_26_20</th>\n",
       "      <th>n2_27_20</th>\n",
       "      <th>n2_28_20</th>\n",
       "      <th>n2_29_20</th>\n",
       "      <th>n3_1_20</th>\n",
       "      <th>n3_2_20</th>\n",
       "      <th>n3_3_20</th>\n",
       "      <th>n3_4_20</th>\n",
       "      <th>n3_5_20</th>\n",
       "      <th>n3_6_20</th>\n",
       "      <th>...</th>\n",
       "      <th>n2_8_21</th>\n",
       "      <th>n2_9_21</th>\n",
       "      <th>n2_10_21</th>\n",
       "      <th>n2_11_21</th>\n",
       "      <th>n2_12_21</th>\n",
       "      <th>n2_13_21</th>\n",
       "      <th>n2_14_21</th>\n",
       "      <th>n2_15_21</th>\n",
       "      <th>n2_16_21</th>\n",
       "      <th>n2_17_21</th>\n",
       "    </tr>\n",
       "  </thead>\n",
       "  <tbody>\n",
       "    <tr>\n",
       "      <th>0</th>\n",
       "      <td>1.0</td>\n",
       "      <td>1.0</td>\n",
       "      <td>1.0</td>\n",
       "      <td>2.0</td>\n",
       "      <td>2.0</td>\n",
       "      <td>2.0</td>\n",
       "      <td>2.0</td>\n",
       "      <td>4.0</td>\n",
       "      <td>4.0</td>\n",
       "      <td>13.0</td>\n",
       "      <td>...</td>\n",
       "      <td>9.524640e+06</td>\n",
       "      <td>9.599565e+06</td>\n",
       "      <td>9.659167e+06</td>\n",
       "      <td>9.713909e+06</td>\n",
       "      <td>9.765455e+06</td>\n",
       "      <td>9.809754e+06</td>\n",
       "      <td>9.834513e+06</td>\n",
       "      <td>9.866710e+06</td>\n",
       "      <td>9.921981e+06</td>\n",
       "      <td>9.978747e+06</td>\n",
       "    </tr>\n",
       "    <tr>\n",
       "      <th>1</th>\n",
       "      <td>0.0</td>\n",
       "      <td>0.0</td>\n",
       "      <td>0.0</td>\n",
       "      <td>0.0</td>\n",
       "      <td>0.0</td>\n",
       "      <td>0.0</td>\n",
       "      <td>0.0</td>\n",
       "      <td>0.0</td>\n",
       "      <td>0.0</td>\n",
       "      <td>0.0</td>\n",
       "      <td>...</td>\n",
       "      <td>8.478818e+06</td>\n",
       "      <td>8.577207e+06</td>\n",
       "      <td>8.616282e+06</td>\n",
       "      <td>8.637050e+06</td>\n",
       "      <td>8.691664e+06</td>\n",
       "      <td>8.740445e+06</td>\n",
       "      <td>8.765048e+06</td>\n",
       "      <td>8.821887e+06</td>\n",
       "      <td>8.847264e+06</td>\n",
       "      <td>8.933402e+06</td>\n",
       "    </tr>\n",
       "    <tr>\n",
       "      <th>ratio</th>\n",
       "      <td>0.0</td>\n",
       "      <td>0.0</td>\n",
       "      <td>0.0</td>\n",
       "      <td>0.0</td>\n",
       "      <td>0.0</td>\n",
       "      <td>0.0</td>\n",
       "      <td>0.0</td>\n",
       "      <td>0.0</td>\n",
       "      <td>0.0</td>\n",
       "      <td>0.0</td>\n",
       "      <td>...</td>\n",
       "      <td>8.901983e-01</td>\n",
       "      <td>8.934995e-01</td>\n",
       "      <td>8.920316e-01</td>\n",
       "      <td>8.891426e-01</td>\n",
       "      <td>8.900419e-01</td>\n",
       "      <td>8.909953e-01</td>\n",
       "      <td>8.912539e-01</td>\n",
       "      <td>8.941062e-01</td>\n",
       "      <td>8.916832e-01</td>\n",
       "      <td>8.952429e-01</td>\n",
       "    </tr>\n",
       "  </tbody>\n",
       "</table>\n",
       "<p>3 rows × 358 columns</p>\n",
       "</div>"
      ],
      "text/plain": [
       "       n2_26_20  n2_27_20  n2_28_20  n2_29_20  n3_1_20  n3_2_20  n3_3_20  \\\n",
       "0           1.0       1.0       1.0       2.0      2.0      2.0      2.0   \n",
       "1           0.0       0.0       0.0       0.0      0.0      0.0      0.0   \n",
       "ratio       0.0       0.0       0.0       0.0      0.0      0.0      0.0   \n",
       "\n",
       "       n3_4_20  n3_5_20  n3_6_20  ...       n2_8_21       n2_9_21  \\\n",
       "0          4.0      4.0     13.0  ...  9.524640e+06  9.599565e+06   \n",
       "1          0.0      0.0      0.0  ...  8.478818e+06  8.577207e+06   \n",
       "ratio      0.0      0.0      0.0  ...  8.901983e-01  8.934995e-01   \n",
       "\n",
       "           n2_10_21      n2_11_21      n2_12_21      n2_13_21      n2_14_21  \\\n",
       "0      9.659167e+06  9.713909e+06  9.765455e+06  9.809754e+06  9.834513e+06   \n",
       "1      8.616282e+06  8.637050e+06  8.691664e+06  8.740445e+06  8.765048e+06   \n",
       "ratio  8.920316e-01  8.891426e-01  8.900419e-01  8.909953e-01  8.912539e-01   \n",
       "\n",
       "           n2_15_21      n2_16_21      n2_17_21  \n",
       "0      9.866710e+06  9.921981e+06  9.978747e+06  \n",
       "1      8.821887e+06  8.847264e+06  8.933402e+06  \n",
       "ratio  8.941062e-01  8.916832e-01  8.952429e-01  \n",
       "\n",
       "[3 rows x 358 columns]"
      ]
     },
     "execution_count": 10,
     "metadata": {},
     "output_type": "execute_result"
    }
   ],
   "source": [
    "df"
   ]
  },
  {
   "cell_type": "code",
   "execution_count": 11,
   "metadata": {},
   "outputs": [
    {
     "data": {
      "image/png": "[encoded data removed]",
      "text/plain": [
       "<Figure size 432x288 with 1 Axes>"
      ]
     },
     "metadata": {
      "needs_background": "light"
     },
     "output_type": "display_data"
    }
   ],
   "source": [
    "plt.plot(np.arange(1,len(df.columns)+1),df.loc['ratio'])\n",
    "plt.xlabel('Date increase')\n",
    "plt.ylabel('Recovery Ratio')\n",
    "plt.title('Recovery Ratio in different days')\n",
    "plt.show()"
   ]
  },
  {
   "cell_type": "code",
   "execution_count": 12,
   "metadata": {},
   "outputs": [],
   "source": [
    "df = df.T"
   ]
  },
  {
   "cell_type": "code",
   "execution_count": 13,
   "metadata": {},
   "outputs": [
    {
     "data": {
      "text/html": [
       "<div>\n",
       "<style scoped>\n",
       "    .dataframe tbody tr th:only-of-type {\n",
       "        vertical-align: middle;\n",
       "    }\n",
       "\n",
       "    .dataframe tbody tr th {\n",
       "        vertical-align: top;\n",
       "    }\n",
       "\n",
       "    .dataframe thead th {\n",
       "        text-align: right;\n",
       "    }\n",
       "</style>\n",
       "<table border=\"1\" class=\"dataframe\">\n",
       "  <thead>\n",
       "    <tr style=\"text-align: right;\">\n",
       "      <th></th>\n",
       "      <th>0</th>\n",
       "      <th>1</th>\n",
       "      <th>ratio</th>\n",
       "    </tr>\n",
       "  </thead>\n",
       "  <tbody>\n",
       "    <tr>\n",
       "      <th>n2_26_20</th>\n",
       "      <td>1.0</td>\n",
       "      <td>0.0</td>\n",
       "      <td>0.000000</td>\n",
       "    </tr>\n",
       "    <tr>\n",
       "      <th>n2_27_20</th>\n",
       "      <td>1.0</td>\n",
       "      <td>0.0</td>\n",
       "      <td>0.000000</td>\n",
       "    </tr>\n",
       "    <tr>\n",
       "      <th>n2_28_20</th>\n",
       "      <td>1.0</td>\n",
       "      <td>0.0</td>\n",
       "      <td>0.000000</td>\n",
       "    </tr>\n",
       "    <tr>\n",
       "      <th>n2_29_20</th>\n",
       "      <td>2.0</td>\n",
       "      <td>0.0</td>\n",
       "      <td>0.000000</td>\n",
       "    </tr>\n",
       "    <tr>\n",
       "      <th>n3_1_20</th>\n",
       "      <td>2.0</td>\n",
       "      <td>0.0</td>\n",
       "      <td>0.000000</td>\n",
       "    </tr>\n",
       "    <tr>\n",
       "      <th>...</th>\n",
       "      <td>...</td>\n",
       "      <td>...</td>\n",
       "      <td>...</td>\n",
       "    </tr>\n",
       "    <tr>\n",
       "      <th>n2_13_21</th>\n",
       "      <td>9809754.0</td>\n",
       "      <td>8740445.0</td>\n",
       "      <td>0.890995</td>\n",
       "    </tr>\n",
       "    <tr>\n",
       "      <th>n2_14_21</th>\n",
       "      <td>9834513.0</td>\n",
       "      <td>8765048.0</td>\n",
       "      <td>0.891254</td>\n",
       "    </tr>\n",
       "    <tr>\n",
       "      <th>n2_15_21</th>\n",
       "      <td>9866710.0</td>\n",
       "      <td>8821887.0</td>\n",
       "      <td>0.894106</td>\n",
       "    </tr>\n",
       "    <tr>\n",
       "      <th>n2_16_21</th>\n",
       "      <td>9921981.0</td>\n",
       "      <td>8847264.0</td>\n",
       "      <td>0.891683</td>\n",
       "    </tr>\n",
       "    <tr>\n",
       "      <th>n2_17_21</th>\n",
       "      <td>9978747.0</td>\n",
       "      <td>8933402.0</td>\n",
       "      <td>0.895243</td>\n",
       "    </tr>\n",
       "  </tbody>\n",
       "</table>\n",
       "<p>358 rows × 3 columns</p>\n",
       "</div>"
      ],
      "text/plain": [
       "                  0          1     ratio\n",
       "n2_26_20        1.0        0.0  0.000000\n",
       "n2_27_20        1.0        0.0  0.000000\n",
       "n2_28_20        1.0        0.0  0.000000\n",
       "n2_29_20        2.0        0.0  0.000000\n",
       "n3_1_20         2.0        0.0  0.000000\n",
       "...             ...        ...       ...\n",
       "n2_13_21  9809754.0  8740445.0  0.890995\n",
       "n2_14_21  9834513.0  8765048.0  0.891254\n",
       "n2_15_21  9866710.0  8821887.0  0.894106\n",
       "n2_16_21  9921981.0  8847264.0  0.891683\n",
       "n2_17_21  9978747.0  8933402.0  0.895243\n",
       "\n",
       "[358 rows x 3 columns]"
      ]
     },
     "execution_count": 13,
     "metadata": {},
     "output_type": "execute_result"
    }
   ],
   "source": [
    "df"
   ]
  },
  {
   "cell_type": "code",
   "execution_count": 14,
   "metadata": {},
   "outputs": [],
   "source": [
    "df.reset_index(level=0, inplace=True)"
   ]
  },
  {
   "cell_type": "code",
   "execution_count": 15,
   "metadata": {},
   "outputs": [],
   "source": [
    "df['index'] = df['index'].map(lambda x: x.lstrip('n'))"
   ]
  },
  {
   "cell_type": "code",
   "execution_count": 16,
   "metadata": {},
   "outputs": [
    {
     "data": {
      "text/html": [
       "<div>\n",
       "<style scoped>\n",
       "    .dataframe tbody tr th:only-of-type {\n",
       "        vertical-align: middle;\n",
       "    }\n",
       "\n",
       "    .dataframe tbody tr th {\n",
       "        vertical-align: top;\n",
       "    }\n",
       "\n",
       "    .dataframe thead th {\n",
       "        text-align: right;\n",
       "    }\n",
       "</style>\n",
       "<table border=\"1\" class=\"dataframe\">\n",
       "  <thead>\n",
       "    <tr style=\"text-align: right;\">\n",
       "      <th></th>\n",
       "      <th>index</th>\n",
       "      <th>0</th>\n",
       "      <th>1</th>\n",
       "      <th>ratio</th>\n",
       "    </tr>\n",
       "  </thead>\n",
       "  <tbody>\n",
       "    <tr>\n",
       "      <th>0</th>\n",
       "      <td>2_26_20</td>\n",
       "      <td>1.0</td>\n",
       "      <td>0.0</td>\n",
       "      <td>0.000000</td>\n",
       "    </tr>\n",
       "    <tr>\n",
       "      <th>1</th>\n",
       "      <td>2_27_20</td>\n",
       "      <td>1.0</td>\n",
       "      <td>0.0</td>\n",
       "      <td>0.000000</td>\n",
       "    </tr>\n",
       "    <tr>\n",
       "      <th>2</th>\n",
       "      <td>2_28_20</td>\n",
       "      <td>1.0</td>\n",
       "      <td>0.0</td>\n",
       "      <td>0.000000</td>\n",
       "    </tr>\n",
       "    <tr>\n",
       "      <th>3</th>\n",
       "      <td>2_29_20</td>\n",
       "      <td>2.0</td>\n",
       "      <td>0.0</td>\n",
       "      <td>0.000000</td>\n",
       "    </tr>\n",
       "    <tr>\n",
       "      <th>4</th>\n",
       "      <td>3_1_20</td>\n",
       "      <td>2.0</td>\n",
       "      <td>0.0</td>\n",
       "      <td>0.000000</td>\n",
       "    </tr>\n",
       "    <tr>\n",
       "      <th>...</th>\n",
       "      <td>...</td>\n",
       "      <td>...</td>\n",
       "      <td>...</td>\n",
       "      <td>...</td>\n",
       "    </tr>\n",
       "    <tr>\n",
       "      <th>353</th>\n",
       "      <td>2_13_21</td>\n",
       "      <td>9809754.0</td>\n",
       "      <td>8740445.0</td>\n",
       "      <td>0.890995</td>\n",
       "    </tr>\n",
       "    <tr>\n",
       "      <th>354</th>\n",
       "      <td>2_14_21</td>\n",
       "      <td>9834513.0</td>\n",
       "      <td>8765048.0</td>\n",
       "      <td>0.891254</td>\n",
       "    </tr>\n",
       "    <tr>\n",
       "      <th>355</th>\n",
       "      <td>2_15_21</td>\n",
       "      <td>9866710.0</td>\n",
       "      <td>8821887.0</td>\n",
       "      <td>0.894106</td>\n",
       "    </tr>\n",
       "    <tr>\n",
       "      <th>356</th>\n",
       "      <td>2_16_21</td>\n",
       "      <td>9921981.0</td>\n",
       "      <td>8847264.0</td>\n",
       "      <td>0.891683</td>\n",
       "    </tr>\n",
       "    <tr>\n",
       "      <th>357</th>\n",
       "      <td>2_17_21</td>\n",
       "      <td>9978747.0</td>\n",
       "      <td>8933402.0</td>\n",
       "      <td>0.895243</td>\n",
       "    </tr>\n",
       "  </tbody>\n",
       "</table>\n",
       "<p>358 rows × 4 columns</p>\n",
       "</div>"
      ],
      "text/plain": [
       "       index          0          1     ratio\n",
       "0    2_26_20        1.0        0.0  0.000000\n",
       "1    2_27_20        1.0        0.0  0.000000\n",
       "2    2_28_20        1.0        0.0  0.000000\n",
       "3    2_29_20        2.0        0.0  0.000000\n",
       "4     3_1_20        2.0        0.0  0.000000\n",
       "..       ...        ...        ...       ...\n",
       "353  2_13_21  9809754.0  8740445.0  0.890995\n",
       "354  2_14_21  9834513.0  8765048.0  0.891254\n",
       "355  2_15_21  9866710.0  8821887.0  0.894106\n",
       "356  2_16_21  9921981.0  8847264.0  0.891683\n",
       "357  2_17_21  9978747.0  8933402.0  0.895243\n",
       "\n",
       "[358 rows x 4 columns]"
      ]
     },
     "execution_count": 16,
     "metadata": {},
     "output_type": "execute_result"
    }
   ],
   "source": [
    "df"
   ]
  },
  {
   "cell_type": "code",
   "execution_count": 17,
   "metadata": {},
   "outputs": [],
   "source": [
    "df['index']=pd.to_datetime(df['index'],format=\"%m_%d_%y\")"
   ]
  },
  {
   "cell_type": "code",
   "execution_count": 18,
   "metadata": {},
   "outputs": [],
   "source": [
    "df1=df[['index','ratio']]"
   ]
  },
  {
   "cell_type": "code",
   "execution_count": 19,
   "metadata": {},
   "outputs": [],
   "source": [
    "df1.set_index('index',inplace=True)"
   ]
  },
  {
   "cell_type": "code",
   "execution_count": 20,
   "metadata": {},
   "outputs": [
    {
     "data": {
      "text/html": [
       "<div>\n",
       "<style scoped>\n",
       "    .dataframe tbody tr th:only-of-type {\n",
       "        vertical-align: middle;\n",
       "    }\n",
       "\n",
       "    .dataframe tbody tr th {\n",
       "        vertical-align: top;\n",
       "    }\n",
       "\n",
       "    .dataframe thead th {\n",
       "        text-align: right;\n",
       "    }\n",
       "</style>\n",
       "<table border=\"1\" class=\"dataframe\">\n",
       "  <thead>\n",
       "    <tr style=\"text-align: right;\">\n",
       "      <th></th>\n",
       "      <th>ratio</th>\n",
       "    </tr>\n",
       "    <tr>\n",
       "      <th>index</th>\n",
       "      <th></th>\n",
       "    </tr>\n",
       "  </thead>\n",
       "  <tbody>\n",
       "    <tr>\n",
       "      <th>2020-02-26</th>\n",
       "      <td>0.000000</td>\n",
       "    </tr>\n",
       "    <tr>\n",
       "      <th>2020-02-27</th>\n",
       "      <td>0.000000</td>\n",
       "    </tr>\n",
       "    <tr>\n",
       "      <th>2020-02-28</th>\n",
       "      <td>0.000000</td>\n",
       "    </tr>\n",
       "    <tr>\n",
       "      <th>2020-02-29</th>\n",
       "      <td>0.000000</td>\n",
       "    </tr>\n",
       "    <tr>\n",
       "      <th>2020-03-01</th>\n",
       "      <td>0.000000</td>\n",
       "    </tr>\n",
       "    <tr>\n",
       "      <th>...</th>\n",
       "      <td>...</td>\n",
       "    </tr>\n",
       "    <tr>\n",
       "      <th>2021-02-13</th>\n",
       "      <td>0.890995</td>\n",
       "    </tr>\n",
       "    <tr>\n",
       "      <th>2021-02-14</th>\n",
       "      <td>0.891254</td>\n",
       "    </tr>\n",
       "    <tr>\n",
       "      <th>2021-02-15</th>\n",
       "      <td>0.894106</td>\n",
       "    </tr>\n",
       "    <tr>\n",
       "      <th>2021-02-16</th>\n",
       "      <td>0.891683</td>\n",
       "    </tr>\n",
       "    <tr>\n",
       "      <th>2021-02-17</th>\n",
       "      <td>0.895243</td>\n",
       "    </tr>\n",
       "  </tbody>\n",
       "</table>\n",
       "<p>358 rows × 1 columns</p>\n",
       "</div>"
      ],
      "text/plain": [
       "               ratio\n",
       "index               \n",
       "2020-02-26  0.000000\n",
       "2020-02-27  0.000000\n",
       "2020-02-28  0.000000\n",
       "2020-02-29  0.000000\n",
       "2020-03-01  0.000000\n",
       "...              ...\n",
       "2021-02-13  0.890995\n",
       "2021-02-14  0.891254\n",
       "2021-02-15  0.894106\n",
       "2021-02-16  0.891683\n",
       "2021-02-17  0.895243\n",
       "\n",
       "[358 rows x 1 columns]"
      ]
     },
     "execution_count": 20,
     "metadata": {},
     "output_type": "execute_result"
    }
   ],
   "source": [
    "df1"
   ]
  },
  {
   "cell_type": "code",
   "execution_count": 21,
   "metadata": {},
   "outputs": [],
   "source": [
    "from statsmodels.tsa.stattools import adfuller"
   ]
  },
  {
   "cell_type": "code",
   "execution_count": 22,
   "metadata": {},
   "outputs": [],
   "source": [
    "df1=df1.dropna()"
   ]
  },
  {
   "cell_type": "code",
   "execution_count": 23,
   "metadata": {},
   "outputs": [],
   "source": [
    "test_result=adfuller(df1['ratio'])"
   ]
  },
  {
   "cell_type": "code",
   "execution_count": 24,
   "metadata": {},
   "outputs": [],
   "source": [
    "#Ho: It is non stationary\n",
    "#H1: It is stationary\n",
    "\n",
    "def adfuller_test(ratio):\n",
    "    result=adfuller(ratio)\n",
    "    labels = ['ADF Test Statistic','p-value','#Lags Used','Number of Observations Used']\n",
    "    for value,label in zip(result,labels):\n",
    "        print(label+' : '+str(value) )\n",
    "    if result[1] <= 0.05:\n",
    "        print(\"strong evidence against the null hypothesis(Ho), reject the null hypothesis. Data has no unit root and is stationary\")\n",
    "    else:\n",
    "        print(\"weak evidence against null hypothesis, time series has a unit root, indicating it is non-stationary \")\n",
    "    "
   ]
  },
  {
   "cell_type": "code",
   "execution_count": 25,
   "metadata": {},
   "outputs": [
    {
     "name": "stdout",
     "output_type": "stream",
     "text": [
      "ADF Test Statistic : -2.3082317590788035\n",
      "p-value : 0.1693268087114363\n",
      "#Lags Used : 11\n",
      "Number of Observations Used : 346\n",
      "weak evidence against null hypothesis, time series has a unit root, indicating it is non-stationary \n"
     ]
    }
   ],
   "source": [
    "adfuller_test(df1['ratio'])"
   ]
  },
  {
   "cell_type": "code",
   "execution_count": 26,
   "metadata": {},
   "outputs": [],
   "source": [
    "df1['ratio First Difference'] = df1['ratio'] - df1['ratio'].shift(1)"
   ]
  },
  {
   "cell_type": "code",
   "execution_count": 27,
   "metadata": {},
   "outputs": [
    {
     "data": {
      "text/html": [
       "<div>\n",
       "<style scoped>\n",
       "    .dataframe tbody tr th:only-of-type {\n",
       "        vertical-align: middle;\n",
       "    }\n",
       "\n",
       "    .dataframe tbody tr th {\n",
       "        vertical-align: top;\n",
       "    }\n",
       "\n",
       "    .dataframe thead th {\n",
       "        text-align: right;\n",
       "    }\n",
       "</style>\n",
       "<table border=\"1\" class=\"dataframe\">\n",
       "  <thead>\n",
       "    <tr style=\"text-align: right;\">\n",
       "      <th></th>\n",
       "      <th>ratio</th>\n",
       "      <th>ratio First Difference</th>\n",
       "    </tr>\n",
       "    <tr>\n",
       "      <th>index</th>\n",
       "      <th></th>\n",
       "      <th></th>\n",
       "    </tr>\n",
       "  </thead>\n",
       "  <tbody>\n",
       "    <tr>\n",
       "      <th>2020-02-26</th>\n",
       "      <td>0.000000</td>\n",
       "      <td>NaN</td>\n",
       "    </tr>\n",
       "    <tr>\n",
       "      <th>2020-02-27</th>\n",
       "      <td>0.000000</td>\n",
       "      <td>0.000000</td>\n",
       "    </tr>\n",
       "    <tr>\n",
       "      <th>2020-02-28</th>\n",
       "      <td>0.000000</td>\n",
       "      <td>0.000000</td>\n",
       "    </tr>\n",
       "    <tr>\n",
       "      <th>2020-02-29</th>\n",
       "      <td>0.000000</td>\n",
       "      <td>0.000000</td>\n",
       "    </tr>\n",
       "    <tr>\n",
       "      <th>2020-03-01</th>\n",
       "      <td>0.000000</td>\n",
       "      <td>0.000000</td>\n",
       "    </tr>\n",
       "    <tr>\n",
       "      <th>...</th>\n",
       "      <td>...</td>\n",
       "      <td>...</td>\n",
       "    </tr>\n",
       "    <tr>\n",
       "      <th>2021-02-13</th>\n",
       "      <td>0.890995</td>\n",
       "      <td>0.000953</td>\n",
       "    </tr>\n",
       "    <tr>\n",
       "      <th>2021-02-14</th>\n",
       "      <td>0.891254</td>\n",
       "      <td>0.000259</td>\n",
       "    </tr>\n",
       "    <tr>\n",
       "      <th>2021-02-15</th>\n",
       "      <td>0.894106</td>\n",
       "      <td>0.002852</td>\n",
       "    </tr>\n",
       "    <tr>\n",
       "      <th>2021-02-16</th>\n",
       "      <td>0.891683</td>\n",
       "      <td>-0.002423</td>\n",
       "    </tr>\n",
       "    <tr>\n",
       "      <th>2021-02-17</th>\n",
       "      <td>0.895243</td>\n",
       "      <td>0.003560</td>\n",
       "    </tr>\n",
       "  </tbody>\n",
       "</table>\n",
       "<p>358 rows × 2 columns</p>\n",
       "</div>"
      ],
      "text/plain": [
       "               ratio  ratio First Difference\n",
       "index                                       \n",
       "2020-02-26  0.000000                     NaN\n",
       "2020-02-27  0.000000                0.000000\n",
       "2020-02-28  0.000000                0.000000\n",
       "2020-02-29  0.000000                0.000000\n",
       "2020-03-01  0.000000                0.000000\n",
       "...              ...                     ...\n",
       "2021-02-13  0.890995                0.000953\n",
       "2021-02-14  0.891254                0.000259\n",
       "2021-02-15  0.894106                0.002852\n",
       "2021-02-16  0.891683               -0.002423\n",
       "2021-02-17  0.895243                0.003560\n",
       "\n",
       "[358 rows x 2 columns]"
      ]
     },
     "execution_count": 27,
     "metadata": {},
     "output_type": "execute_result"
    }
   ],
   "source": [
    "df1"
   ]
  },
  {
   "cell_type": "code",
   "execution_count": 28,
   "metadata": {},
   "outputs": [
    {
     "name": "stdout",
     "output_type": "stream",
     "text": [
      "ADF Test Statistic : -6.408023329481739\n",
      "p-value : 1.921569342269522e-08\n",
      "#Lags Used : 7\n",
      "Number of Observations Used : 349\n",
      "strong evidence against the null hypothesis(Ho), reject the null hypothesis. Data has no unit root and is stationary\n"
     ]
    }
   ],
   "source": [
    "adfuller_test(df1['ratio First Difference'].dropna())"
   ]
  },
  {
   "cell_type": "code",
   "execution_count": 29,
   "metadata": {},
   "outputs": [
    {
     "data": {
      "text/plain": [
       "<AxesSubplot:xlabel='index'>"
      ]
     },
     "execution_count": 29,
     "metadata": {},
     "output_type": "execute_result"
    },
    {
     "data": {
      "image/png": "[encoded data removed]",
      "text/plain": [
       "<Figure size 432x288 with 1 Axes>"
      ]
     },
     "metadata": {
      "needs_background": "light"
     },
     "output_type": "display_data"
    }
   ],
   "source": [
    "df1['ratio First Difference'].plot()"
   ]
  },
  {
   "cell_type": "code",
   "execution_count": 30,
   "metadata": {},
   "outputs": [],
   "source": [
    "import statsmodels.api as sm"
   ]
  },
  {
   "cell_type": "code",
   "execution_count": 31,
   "metadata": {},
   "outputs": [],
   "source": [
    "from statsmodels.graphics.tsaplots import plot_acf,plot_pacf"
   ]
  },
  {
   "cell_type": "code",
   "execution_count": 32,
   "metadata": {},
   "outputs": [
    {
     "data": {
      "image/png": "[encoded data removed]",
      "text/plain": [
       "<Figure size 864x576 with 2 Axes>"
      ]
     },
     "metadata": {
      "needs_background": "light"
     },
     "output_type": "display_data"
    }
   ],
   "source": [
    "fig = plt.figure(figsize=(12,8))\n",
    "ax1 = fig.add_subplot(211)\n",
    "fig = sm.graphics.tsa.plot_acf(df1['ratio First Difference'].dropna(),lags=40,ax=ax1)\n",
    "ax2 = fig.add_subplot(212)\n",
    "fig = sm.graphics.tsa.plot_pacf(df1['ratio First Difference'].dropna(),lags=40,ax=ax2)"
   ]
  },
  {
   "cell_type": "code",
   "execution_count": 33,
   "metadata": {},
   "outputs": [],
   "source": [
    "from statsmodels.tsa.arima_model import ARIMA"
   ]
  },
  {
   "cell_type": "code",
   "execution_count": 34,
   "metadata": {},
   "outputs": [
    {
     "name": "stderr",
     "output_type": "stream",
     "text": [
      "C:\\ProgramData\\Anaconda3\\lib\\site-packages\\statsmodels\\tsa\\base\\tsa_model.py:524: ValueWarning: No frequency information was provided, so inferred frequency D will be used.\n",
      "  warnings.warn('No frequency information was'\n",
      "C:\\ProgramData\\Anaconda3\\lib\\site-packages\\statsmodels\\tsa\\base\\tsa_model.py:524: ValueWarning: No frequency information was provided, so inferred frequency D will be used.\n",
      "  warnings.warn('No frequency information was'\n"
     ]
    }
   ],
   "source": [
    "model=sm.tsa.statespace.SARIMAX(df1['ratio'],order=(1, 1, 1))\n",
    "results=model.fit()"
   ]
  },
  {
   "cell_type": "code",
   "execution_count": 35,
   "metadata": {},
   "outputs": [
    {
     "data": {
      "text/html": [
       "<table class=\"simpletable\">\n",
       "<caption>SARIMAX Results</caption>\n",
       "<tr>\n",
       "  <th>Dep. Variable:</th>         <td>ratio</td>      <th>  No. Observations:  </th>    <td>358</td>   \n",
       "</tr>\n",
       "<tr>\n",
       "  <th>Model:</th>           <td>SARIMAX(1, 1, 1)</td> <th>  Log Likelihood     </th>  <td>807.179</td> \n",
       "</tr>\n",
       "<tr>\n",
       "  <th>Date:</th>            <td>Wed, 08 Dec 2021</td> <th>  AIC                </th> <td>-1608.359</td>\n",
       "</tr>\n",
       "<tr>\n",
       "  <th>Time:</th>                <td>15:05:00</td>     <th>  BIC                </th> <td>-1596.726</td>\n",
       "</tr>\n",
       "<tr>\n",
       "  <th>Sample:</th>             <td>02-26-2020</td>    <th>  HQIC               </th> <td>-1603.732</td>\n",
       "</tr>\n",
       "<tr>\n",
       "  <th></th>                   <td>- 02-17-2021</td>   <th>                     </th>     <td> </td>    \n",
       "</tr>\n",
       "<tr>\n",
       "  <th>Covariance Type:</th>        <td>opg</td>       <th>                     </th>     <td> </td>    \n",
       "</tr>\n",
       "</table>\n",
       "<table class=\"simpletable\">\n",
       "<tr>\n",
       "     <td></td>       <th>coef</th>     <th>std err</th>      <th>z</th>      <th>P>|z|</th>  <th>[0.025</th>    <th>0.975]</th>  \n",
       "</tr>\n",
       "<tr>\n",
       "  <th>ar.L1</th>  <td>   -0.1454</td> <td>    0.302</td> <td>   -0.482</td> <td> 0.630</td> <td>   -0.737</td> <td>    0.446</td>\n",
       "</tr>\n",
       "<tr>\n",
       "  <th>ma.L1</th>  <td>    0.2681</td> <td>    0.302</td> <td>    0.886</td> <td> 0.375</td> <td>   -0.325</td> <td>    0.861</td>\n",
       "</tr>\n",
       "<tr>\n",
       "  <th>sigma2</th> <td>    0.0006</td> <td> 8.44e-06</td> <td>   75.315</td> <td> 0.000</td> <td>    0.001</td> <td>    0.001</td>\n",
       "</tr>\n",
       "</table>\n",
       "<table class=\"simpletable\">\n",
       "<tr>\n",
       "  <th>Ljung-Box (L1) (Q):</th>     <td>0.13</td> <th>  Jarque-Bera (JB):  </th> <td>241938.02</td>\n",
       "</tr>\n",
       "<tr>\n",
       "  <th>Prob(Q):</th>                <td>0.72</td> <th>  Prob(JB):          </th>   <td>0.00</td>   \n",
       "</tr>\n",
       "<tr>\n",
       "  <th>Heteroskedasticity (H):</th> <td>0.03</td> <th>  Skew:              </th>   <td>9.92</td>   \n",
       "</tr>\n",
       "<tr>\n",
       "  <th>Prob(H) (two-sided):</th>    <td>0.00</td> <th>  Kurtosis:          </th>  <td>128.98</td>  \n",
       "</tr>\n",
       "</table><br/><br/>Warnings:<br/>[1] Covariance matrix calculated using the outer product of gradients (complex-step)."
      ],
      "text/plain": [
       "<class 'statsmodels.iolib.summary.Summary'>\n",
       "\"\"\"\n",
       "                               SARIMAX Results                                \n",
       "==============================================================================\n",
       "Dep. Variable:                  ratio   No. Observations:                  358\n",
       "Model:               SARIMAX(1, 1, 1)   Log Likelihood                 807.179\n",
       "Date:                Wed, 08 Dec 2021   AIC                          -1608.359\n",
       "Time:                        15:05:00   BIC                          -1596.726\n",
       "Sample:                    02-26-2020   HQIC                         -1603.732\n",
       "                         - 02-17-2021                                         \n",
       "Covariance Type:                  opg                                         \n",
       "==============================================================================\n",
       "                 coef    std err          z      P>|z|      [0.025      0.975]\n",
       "------------------------------------------------------------------------------\n",
       "ar.L1         -0.1454      0.302     -0.482      0.630      -0.737       0.446\n",
       "ma.L1          0.2681      0.302      0.886      0.375      -0.325       0.861\n",
       "sigma2         0.0006   8.44e-06     75.315      0.000       0.001       0.001\n",
       "===================================================================================\n",
       "Ljung-Box (L1) (Q):                   0.13   Jarque-Bera (JB):            241938.02\n",
       "Prob(Q):                              0.72   Prob(JB):                         0.00\n",
       "Heteroskedasticity (H):               0.03   Skew:                             9.92\n",
       "Prob(H) (two-sided):                  0.00   Kurtosis:                       128.98\n",
       "===================================================================================\n",
       "\n",
       "Warnings:\n",
       "[1] Covariance matrix calculated using the outer product of gradients (complex-step).\n",
       "\"\"\""
      ]
     },
     "execution_count": 35,
     "metadata": {},
     "output_type": "execute_result"
    }
   ],
   "source": [
    "results.summary()"
   ]
  },
  {
   "cell_type": "code",
   "execution_count": 36,
   "metadata": {},
   "outputs": [
    {
     "data": {
      "text/plain": [
       "<AxesSubplot:xlabel='index'>"
      ]
     },
     "execution_count": 36,
     "metadata": {},
     "output_type": "execute_result"
    },
    {
     "data": {
      "image/png": "[encoded data removed]",
      "text/plain": [
       "<Figure size 864x576 with 1 Axes>"
      ]
     },
     "metadata": {
      "needs_background": "light"
     },
     "output_type": "display_data"
    }
   ],
   "source": [
    "df1['forecast']=results.predict(start=300,end=358,dynamic=True)\n",
    "df1[['ratio', 'forecast']].plot(figsize=(12, 8)) "
   ]
  },
  {
   "cell_type": "code",
   "execution_count": 37,
   "metadata": {},
   "outputs": [],
   "source": [
    "from pandas.tseries.offsets import DateOffset"
   ]
  },
  {
   "cell_type": "code",
   "execution_count": 38,
   "metadata": {},
   "outputs": [],
   "source": [
    "future_dates=[df1.index[-1]+ DateOffset(days=x)for x in range(0,180)]"
   ]
  },
  {
   "cell_type": "code",
   "execution_count": 39,
   "metadata": {},
   "outputs": [],
   "source": [
    "future_datest_df=pd.DataFrame(index=future_dates[1:],columns=df1.columns)"
   ]
  },
  {
   "cell_type": "code",
   "execution_count": 40,
   "metadata": {},
   "outputs": [
    {
     "data": {
      "text/html": [
       "<div>\n",
       "<style scoped>\n",
       "    .dataframe tbody tr th:only-of-type {\n",
       "        vertical-align: middle;\n",
       "    }\n",
       "\n",
       "    .dataframe tbody tr th {\n",
       "        vertical-align: top;\n",
       "    }\n",
       "\n",
       "    .dataframe thead th {\n",
       "        text-align: right;\n",
       "    }\n",
       "</style>\n",
       "<table border=\"1\" class=\"dataframe\">\n",
       "  <thead>\n",
       "    <tr style=\"text-align: right;\">\n",
       "      <th></th>\n",
       "      <th>ratio</th>\n",
       "      <th>ratio First Difference</th>\n",
       "      <th>forecast</th>\n",
       "    </tr>\n",
       "  </thead>\n",
       "  <tbody>\n",
       "    <tr>\n",
       "      <th>2021-02-18</th>\n",
       "      <td>NaN</td>\n",
       "      <td>NaN</td>\n",
       "      <td>NaN</td>\n",
       "    </tr>\n",
       "    <tr>\n",
       "      <th>2021-02-19</th>\n",
       "      <td>NaN</td>\n",
       "      <td>NaN</td>\n",
       "      <td>NaN</td>\n",
       "    </tr>\n",
       "    <tr>\n",
       "      <th>2021-02-20</th>\n",
       "      <td>NaN</td>\n",
       "      <td>NaN</td>\n",
       "      <td>NaN</td>\n",
       "    </tr>\n",
       "    <tr>\n",
       "      <th>2021-02-21</th>\n",
       "      <td>NaN</td>\n",
       "      <td>NaN</td>\n",
       "      <td>NaN</td>\n",
       "    </tr>\n",
       "    <tr>\n",
       "      <th>2021-02-22</th>\n",
       "      <td>NaN</td>\n",
       "      <td>NaN</td>\n",
       "      <td>NaN</td>\n",
       "    </tr>\n",
       "  </tbody>\n",
       "</table>\n",
       "</div>"
      ],
      "text/plain": [
       "           ratio ratio First Difference forecast\n",
       "2021-02-18   NaN                    NaN      NaN\n",
       "2021-02-19   NaN                    NaN      NaN\n",
       "2021-02-20   NaN                    NaN      NaN\n",
       "2021-02-21   NaN                    NaN      NaN\n",
       "2021-02-22   NaN                    NaN      NaN"
      ]
     },
     "execution_count": 40,
     "metadata": {},
     "output_type": "execute_result"
    }
   ],
   "source": [
    "future_datest_df.head()"
   ]
  },
  {
   "cell_type": "code",
   "execution_count": 41,
   "metadata": {},
   "outputs": [],
   "source": [
    "future_df=pd.concat([df,future_datest_df])"
   ]
  },
  {
   "cell_type": "code",
   "execution_count": 42,
   "metadata": {},
   "outputs": [],
   "source": [
    "future_df['forecast'] = results.predict(start = 358, end = 523, dynamic= True)  "
   ]
  },
  {
   "cell_type": "code",
   "execution_count": 43,
   "metadata": {},
   "outputs": [
    {
     "data": {
      "text/plain": [
       "<AxesSubplot:>"
      ]
     },
     "execution_count": 43,
     "metadata": {},
     "output_type": "execute_result"
    },
    {
     "data": {
      "image/png": "[encoded data removed]",
      "text/plain": [
       "<Figure size 864x576 with 1 Axes>"
      ]
     },
     "metadata": {
      "needs_background": "light"
     },
     "output_type": "display_data"
    }
   ],
   "source": [
    "future_df[['ratio', 'forecast']].plot(figsize=(12, 8)) \n"
   ]
  },
  {
   "cell_type": "markdown",
   "metadata": {},
   "source": [
    "This is the Forecasting for covid prediction for next 6 months in brazil. The p, d,q value was calculated by the acf and pacf graph. the prediction could be done better if the seasonal forecast is calculated. "
   ]
  },
  {
   "cell_type": "markdown",
   "metadata": {},
   "source": [
    "# Forecast using anticipy"
   ]
  },
  {
   "cell_type": "code",
   "execution_count": 44,
   "metadata": {},
   "outputs": [],
   "source": [
    "from anticipy import forecast, forecast_models, forecast_plot"
   ]
  },
  {
   "cell_type": "code",
   "execution_count": 45,
   "metadata": {},
   "outputs": [
    {
     "data": {
      "text/html": [
       "<div>\n",
       "<style scoped>\n",
       "    .dataframe tbody tr th:only-of-type {\n",
       "        vertical-align: middle;\n",
       "    }\n",
       "\n",
       "    .dataframe tbody tr th {\n",
       "        vertical-align: top;\n",
       "    }\n",
       "\n",
       "    .dataframe thead th {\n",
       "        text-align: right;\n",
       "    }\n",
       "</style>\n",
       "<table border=\"1\" class=\"dataframe\">\n",
       "  <thead>\n",
       "    <tr style=\"text-align: right;\">\n",
       "      <th></th>\n",
       "      <th>ratio</th>\n",
       "      <th>ratio First Difference</th>\n",
       "      <th>forecast</th>\n",
       "    </tr>\n",
       "    <tr>\n",
       "      <th>index</th>\n",
       "      <th></th>\n",
       "      <th></th>\n",
       "      <th></th>\n",
       "    </tr>\n",
       "  </thead>\n",
       "  <tbody>\n",
       "    <tr>\n",
       "      <th>2020-02-26</th>\n",
       "      <td>0.000000</td>\n",
       "      <td>NaN</td>\n",
       "      <td>NaN</td>\n",
       "    </tr>\n",
       "    <tr>\n",
       "      <th>2020-02-27</th>\n",
       "      <td>0.000000</td>\n",
       "      <td>0.000000</td>\n",
       "      <td>NaN</td>\n",
       "    </tr>\n",
       "    <tr>\n",
       "      <th>2020-02-28</th>\n",
       "      <td>0.000000</td>\n",
       "      <td>0.000000</td>\n",
       "      <td>NaN</td>\n",
       "    </tr>\n",
       "    <tr>\n",
       "      <th>2020-02-29</th>\n",
       "      <td>0.000000</td>\n",
       "      <td>0.000000</td>\n",
       "      <td>NaN</td>\n",
       "    </tr>\n",
       "    <tr>\n",
       "      <th>2020-03-01</th>\n",
       "      <td>0.000000</td>\n",
       "      <td>0.000000</td>\n",
       "      <td>NaN</td>\n",
       "    </tr>\n",
       "    <tr>\n",
       "      <th>...</th>\n",
       "      <td>...</td>\n",
       "      <td>...</td>\n",
       "      <td>...</td>\n",
       "    </tr>\n",
       "    <tr>\n",
       "      <th>2021-02-13</th>\n",
       "      <td>0.890995</td>\n",
       "      <td>0.000953</td>\n",
       "      <td>0.891258</td>\n",
       "    </tr>\n",
       "    <tr>\n",
       "      <th>2021-02-14</th>\n",
       "      <td>0.891254</td>\n",
       "      <td>0.000259</td>\n",
       "      <td>0.891258</td>\n",
       "    </tr>\n",
       "    <tr>\n",
       "      <th>2021-02-15</th>\n",
       "      <td>0.894106</td>\n",
       "      <td>0.002852</td>\n",
       "      <td>0.891258</td>\n",
       "    </tr>\n",
       "    <tr>\n",
       "      <th>2021-02-16</th>\n",
       "      <td>0.891683</td>\n",
       "      <td>-0.002423</td>\n",
       "      <td>0.891258</td>\n",
       "    </tr>\n",
       "    <tr>\n",
       "      <th>2021-02-17</th>\n",
       "      <td>0.895243</td>\n",
       "      <td>0.003560</td>\n",
       "      <td>0.891258</td>\n",
       "    </tr>\n",
       "  </tbody>\n",
       "</table>\n",
       "<p>358 rows × 3 columns</p>\n",
       "</div>"
      ],
      "text/plain": [
       "               ratio  ratio First Difference  forecast\n",
       "index                                                 \n",
       "2020-02-26  0.000000                     NaN       NaN\n",
       "2020-02-27  0.000000                0.000000       NaN\n",
       "2020-02-28  0.000000                0.000000       NaN\n",
       "2020-02-29  0.000000                0.000000       NaN\n",
       "2020-03-01  0.000000                0.000000       NaN\n",
       "...              ...                     ...       ...\n",
       "2021-02-13  0.890995                0.000953  0.891258\n",
       "2021-02-14  0.891254                0.000259  0.891258\n",
       "2021-02-15  0.894106                0.002852  0.891258\n",
       "2021-02-16  0.891683               -0.002423  0.891258\n",
       "2021-02-17  0.895243                0.003560  0.891258\n",
       "\n",
       "[358 rows x 3 columns]"
      ]
     },
     "execution_count": 45,
     "metadata": {},
     "output_type": "execute_result"
    }
   ],
   "source": [
    "df1"
   ]
  },
  {
   "cell_type": "code",
   "execution_count": 46,
   "metadata": {},
   "outputs": [],
   "source": [
    "df1 = pd.DataFrame({'y': df1['ratio'],'date':df1.index})"
   ]
  },
  {
   "cell_type": "code",
   "execution_count": 47,
   "metadata": {},
   "outputs": [
    {
     "name": "stdout",
     "output_type": "stream",
     "text": [
      "          date source  is_actuals        model         y        q5       q95  \\\n",
      "888 2021-08-16    src       False  snaive_wday  0.894106  0.836225  1.304239   \n",
      "889 2021-08-17    src       False  snaive_wday  0.891683  0.828494  1.301303   \n",
      "890 2021-08-18    src       False  snaive_wday  0.895243  0.838485  0.996827   \n",
      "\n",
      "          q20       q80  \n",
      "888  0.854374  0.918085  \n",
      "889  0.848553  0.900619  \n",
      "890  0.853932  0.903575  \n"
     ]
    }
   ],
   "source": [
    "df_forecast = forecast.run_forecast(df1, extrapolate_years=0.5)\n",
    "print(df_forecast.tail(3))"
   ]
  },
  {
   "cell_type": "code",
   "execution_count": 48,
   "metadata": {},
   "outputs": [
    {
     "name": "stdout",
     "output_type": "stream",
     "text": [
      "          date source  is_actuals        model         y        q5       q95  \\\n",
      "357 2021-02-17    src        True      actuals  0.895243       NaN       NaN   \n",
      "890 2021-08-18    src       False  snaive_wday  0.895243  0.834931  0.992201   \n",
      "\n",
      "          q20       q80  \n",
      "357       NaN       NaN  \n",
      "890  0.854263  0.911187  \n"
     ]
    }
   ],
   "source": [
    "dict_result = forecast.run_forecast(df1, extrapolate_years=0.5,simplify_output=False, include_all_fits=True)\n",
    "# Table with actuals and forecast for best-fitting model, including prediction intervals\n",
    "print (dict_result['forecast'].groupby('model').tail(1))\n"
   ]
  },
  {
   "cell_type": "code",
   "execution_count": 49,
   "metadata": {},
   "outputs": [
    {
     "name": "stdout",
     "output_type": "stream",
     "text": [
      "           date  weight         y                 model source  \\\n",
      "357  2021-02-17     1.0  0.895243               actuals    src   \n",
      "897  2021-08-18     1.0  1.595495  (linear+season_wday)    src   \n",
      "1437 2021-08-18     1.0  1.593051                linear    src   \n",
      "1970 2021-08-18     1.0  0.895243           snaive_wday    src   \n",
      "\n",
      "                           source_long  is_actuals  is_best_fit  \n",
      "357     src:1:D:2020-02-26::2021-02-17        True        False  \n",
      "897   src:1-1:D:2020-02-26::2021-02-17       False        False  \n",
      "1437  src:1-1:D:2020-02-26::2021-02-17       False        False  \n",
      "1970  src:1-1:D:2020-02-26::2021-02-17       False         True  \n"
     ]
    }
   ],
   "source": [
    "# Table including time series actuals and forecast\n",
    "print (dict_result['data'].groupby('model').tail(1))\n",
    "\n"
   ]
  },
  {
   "cell_type": "code",
   "execution_count": 50,
   "metadata": {},
   "outputs": [
    {
     "name": "stdout",
     "output_type": "stream",
     "text": [
      "  source                 model weights         actuals_x_range freq  is_fit  \\\n",
      "0    src  (linear+season_wday)       1  2020-02-26::2021-02-17    D    True   \n",
      "1    src                linear       1  2020-02-26::2021-02-17    D    True   \n",
      "2    src           snaive_wday       1  2020-02-26::2021-02-17    D    True   \n",
      "\n",
      "       cost        aic_c  fit_time                                 params_str  \\\n",
      "0  3.720695 -1618.438226  0.001994  [ 0.   0.2  0.   0.   0.  -0.  -0.  -0. ]   \n",
      "1  3.721681 -1630.722188  0.001994                                  [0.  0.2]   \n",
      "2  0.950685 -2123.335915  0.027925                                         []   \n",
      "\n",
      "  status                       source_long  \\\n",
      "0    FIT  src:1-1:D:2020-02-26::2021-02-17   \n",
      "1    FIT  src:1-1:D:2020-02-26::2021-02-17   \n",
      "2    FIT  src:1-1:D:2020-02-26::2021-02-17   \n",
      "\n",
      "                                              params             model_obj  \\\n",
      "0  [0.0026156711631558183, 0.17767152187940144, 0...  (linear+season_wday)   \n",
      "1       [0.0026156158566265886, 0.17800254337288143]                linear   \n",
      "2                                                 []           snaive_wday   \n",
      "\n",
      "  add_mult  is_best_fit  \n",
      "0      add        False  \n",
      "1      add        False  \n",
      "2      add         True  \n"
     ]
    }
   ],
   "source": [
    "# Metadata table: model parameters and fitting output\n",
    "print (dict_result['metadata'])"
   ]
  },
  {
   "cell_type": "code",
   "execution_count": 51,
   "metadata": {},
   "outputs": [
    {
     "name": "stdout",
     "output_type": "stream",
     "text": [
      "  source                 model  success  \\\n",
      "0    src  (linear+season_wday)     True   \n",
      "1    src                linear     True   \n",
      "2    src           snaive_wday     True   \n",
      "\n",
      "                                  params_str      cost    optimality  \\\n",
      "0  [ 0.   0.2  0.   0.   0.  -0.  -0.  -0. ]  3.720695  3.748113e-12   \n",
      "1                                  [0.  0.2]  3.721681  4.934719e-12   \n",
      "2                                         []  0.950685  0.000000e+00   \n",
      "\n",
      "   iterations  status  jac_evals                                     message  \\\n",
      "0         2.0       1        2.0  `gtol` termination condition is satisfied.   \n",
      "1         2.0       1        2.0  `gtol` termination condition is satisfied.   \n",
      "2         0.0       0        0.0                          Naive model fitted   \n",
      "\n",
      "                        source_long  \\\n",
      "0  src:1-1:D:2020-02-26::2021-02-17   \n",
      "1  src:1-1:D:2020-02-26::2021-02-17   \n",
      "2  src:1-1:D:2020-02-26::2021-02-17   \n",
      "\n",
      "                                              params  \n",
      "0  [0.0026156711631558183, 0.17767152187940144, 0...  \n",
      "1       [0.0026156158566265886, 0.17800254337288143]  \n",
      "2                                                  -  \n"
     ]
    }
   ],
   "source": [
    "# Table with output data from scipy.optimize, for debugging purposes\n",
    "print(dict_result['optimize_info'])"
   ]
  },
  {
   "cell_type": "code",
   "execution_count": 52,
   "metadata": {},
   "outputs": [
    {
     "data": {
      "text/html": [
       "        <script type=\"text/javascript\">\n",
       "        window.PlotlyConfig = {MathJaxConfig: 'local'};\n",
       "        if (window.MathJax) {MathJax.Hub.Config({SVG: {font: \"STIX-Web\"}});}\n",
       "        if (typeof require !== 'undefined') {\n",
       "        require.undef(\"plotly\");\n",
       "        requirejs.config({\n",
       "            paths: {\n",
       "                'plotly': ['https://cdn.plot.ly/plotly-2.6.3.min']\n",
       "            }\n",
       "        });\n",
       "        require(['plotly'], function(Plotly) {\n",
       "            window._Plotly = Plotly;\n",
       "        });\n",
       "        }\n",
       "        </script>\n",
       "        "
      ]
     },
     "metadata": {},
     "output_type": "display_data"
    },
    {
     "data": {
      "application/vnd.plotly.v1+json": {
       "config": {
        "linkText": "Export to plot.ly",
        "plotlyServerURL": "https://plot.ly",
        "showLink": false
       },
       "data": [
        {
         "hovertemplate": "%{x|%Y-%m-%d} : %{y:.4g}",
         "legendgroup": "actuals",
         "line": {
          "color": "rgba(0,191,196,0.2)"
         },
         "marker": {
          "color": "rgba(0,191,196,0.9)",
          "size": 3
         },
         "mode": "lines+markers",
         "name": "Actuals",
         "opacity": 0.8,
         "showlegend": true,
         "type": "scatter",
         "x": [
          "2020-02-26T00:00:00",
          "2020-02-27T00:00:00",
          "2020-02-28T00:00:00",
          "2020-02-29T00:00:00",
          "2020-03-01T00:00:00",
          "2020-03-02T00:00:00",
          "2020-03-03T00:00:00",
          "2020-03-04T00:00:00",
          "2020-03-05T00:00:00",
          "2020-03-06T00:00:00",
          "2020-03-07T00:00:00",
          "2020-03-08T00:00:00",
          "2020-03-09T00:00:00",
          "2020-03-10T00:00:00",
          "2020-03-11T00:00:00",
          "2020-03-12T00:00:00",
          "2020-03-13T00:00:00",
          "2020-03-14T00:00:00",
          "2020-03-15T00:00:00",
          "2020-03-16T00:00:00",
          "2020-03-17T00:00:00",
          "2020-03-18T00:00:00",
          "2020-03-19T00:00:00",
          "2020-03-20T00:00:00",
          "2020-03-21T00:00:00",
          "2020-03-22T00:00:00",
          "2020-03-23T00:00:00",
          "2020-03-24T00:00:00",
          "2020-03-25T00:00:00",
          "2020-03-26T00:00:00",
          "2020-03-27T00:00:00",
          "2020-03-28T00:00:00",
          "2020-03-29T00:00:00",
          "2020-03-30T00:00:00",
          "2020-03-31T00:00:00",
          "2020-04-01T00:00:00",
          "2020-04-02T00:00:00",
          "2020-04-03T00:00:00",
          "2020-04-04T00:00:00",
          "2020-04-05T00:00:00",
          "2020-04-06T00:00:00",
          "2020-04-07T00:00:00",
          "2020-04-08T00:00:00",
          "2020-04-09T00:00:00",
          "2020-04-10T00:00:00",
          "2020-04-11T00:00:00",
          "2020-04-12T00:00:00",
          "2020-04-13T00:00:00",
          "2020-04-14T00:00:00",
          "2020-04-15T00:00:00",
          "2020-04-16T00:00:00",
          "2020-04-17T00:00:00",
          "2020-04-18T00:00:00",
          "2020-04-19T00:00:00",
          "2020-04-20T00:00:00",
          "2020-04-21T00:00:00",
          "2020-04-22T00:00:00",
          "2020-04-23T00:00:00",
          "2020-04-24T00:00:00",
          "2020-04-25T00:00:00",
          "2020-04-26T00:00:00",
          "2020-04-27T00:00:00",
          "2020-04-28T00:00:00",
          "2020-04-29T00:00:00",
          "2020-04-30T00:00:00",
          "2020-05-01T00:00:00",
          "2020-05-02T00:00:00",
          "2020-05-03T00:00:00",
          "2020-05-04T00:00:00",
          "2020-05-05T00:00:00",
          "2020-05-06T00:00:00",
          "2020-05-07T00:00:00",
          "2020-05-08T00:00:00",
          "2020-05-09T00:00:00",
          "2020-05-10T00:00:00",
          "2020-05-11T00:00:00",
          "2020-05-12T00:00:00",
          "2020-05-13T00:00:00",
          "2020-05-14T00:00:00",
          "2020-05-15T00:00:00",
          "2020-05-16T00:00:00",
          "2020-05-17T00:00:00",
          "2020-05-18T00:00:00",
          "2020-05-19T00:00:00",
          "2020-05-20T00:00:00",
          "2020-05-21T00:00:00",
          "2020-05-22T00:00:00",
          "2020-05-23T00:00:00",
          "2020-05-24T00:00:00",
          "2020-05-25T00:00:00",
          "2020-05-26T00:00:00",
          "2020-05-27T00:00:00",
          "2020-05-28T00:00:00",
          "2020-05-29T00:00:00",
          "2020-05-30T00:00:00",
          "2020-05-31T00:00:00",
          "2020-06-01T00:00:00",
          "2020-06-02T00:00:00",
          "2020-06-03T00:00:00",
          "2020-06-04T00:00:00",
          "2020-06-05T00:00:00",
          "2020-06-06T00:00:00",
          "2020-06-07T00:00:00",
          "2020-06-08T00:00:00",
          "2020-06-09T00:00:00",
          "2020-06-10T00:00:00",
          "2020-06-11T00:00:00",
          "2020-06-12T00:00:00",
          "2020-06-13T00:00:00",
          "2020-06-14T00:00:00",
          "2020-06-15T00:00:00",
          "2020-06-16T00:00:00",
          "2020-06-17T00:00:00",
          "2020-06-18T00:00:00",
          "2020-06-19T00:00:00",
          "2020-06-20T00:00:00",
          "2020-06-21T00:00:00",
          "2020-06-22T00:00:00",
          "2020-06-23T00:00:00",
          "2020-06-24T00:00:00",
          "2020-06-25T00:00:00",
          "2020-06-26T00:00:00",
          "2020-06-27T00:00:00",
          "2020-06-28T00:00:00",
          "2020-06-29T00:00:00",
          "2020-06-30T00:00:00",
          "2020-07-01T00:00:00",
          "2020-07-02T00:00:00",
          "2020-07-03T00:00:00",
          "2020-07-04T00:00:00",
          "2020-07-05T00:00:00",
          "2020-07-06T00:00:00",
          "2020-07-07T00:00:00",
          "2020-07-08T00:00:00",
          "2020-07-09T00:00:00",
          "2020-07-10T00:00:00",
          "2020-07-11T00:00:00",
          "2020-07-12T00:00:00",
          "2020-07-13T00:00:00",
          "2020-07-14T00:00:00",
          "2020-07-15T00:00:00",
          "2020-07-16T00:00:00",
          "2020-07-17T00:00:00",
          "2020-07-18T00:00:00",
          "2020-07-19T00:00:00",
          "2020-07-20T00:00:00",
          "2020-07-21T00:00:00",
          "2020-07-22T00:00:00",
          "2020-07-23T00:00:00",
          "2020-07-24T00:00:00",
          "2020-07-25T00:00:00",
          "2020-07-26T00:00:00",
          "2020-07-27T00:00:00",
          "2020-07-28T00:00:00",
          "2020-07-29T00:00:00",
          "2020-07-30T00:00:00",
          "2020-07-31T00:00:00",
          "2020-08-01T00:00:00",
          "2020-08-02T00:00:00",
          "2020-08-03T00:00:00",
          "2020-08-04T00:00:00",
          "2020-08-05T00:00:00",
          "2020-08-06T00:00:00",
          "2020-08-07T00:00:00",
          "2020-08-08T00:00:00",
          "2020-08-09T00:00:00",
          "2020-08-10T00:00:00",
          "2020-08-11T00:00:00",
          "2020-08-12T00:00:00",
          "2020-08-13T00:00:00",
          "2020-08-14T00:00:00",
          "2020-08-15T00:00:00",
          "2020-08-16T00:00:00",
          "2020-08-17T00:00:00",
          "2020-08-18T00:00:00",
          "2020-08-19T00:00:00",
          "2020-08-20T00:00:00",
          "2020-08-21T00:00:00",
          "2020-08-22T00:00:00",
          "2020-08-23T00:00:00",
          "2020-08-24T00:00:00",
          "2020-08-25T00:00:00",
          "2020-08-26T00:00:00",
          "2020-08-27T00:00:00",
          "2020-08-28T00:00:00",
          "2020-08-29T00:00:00",
          "2020-08-30T00:00:00",
          "2020-08-31T00:00:00",
          "2020-09-01T00:00:00",
          "2020-09-02T00:00:00",
          "2020-09-03T00:00:00",
          "2020-09-04T00:00:00",
          "2020-09-05T00:00:00",
          "2020-09-06T00:00:00",
          "2020-09-07T00:00:00",
          "2020-09-08T00:00:00",
          "2020-09-09T00:00:00",
          "2020-09-10T00:00:00",
          "2020-09-11T00:00:00",
          "2020-09-12T00:00:00",
          "2020-09-13T00:00:00",
          "2020-09-14T00:00:00",
          "2020-09-15T00:00:00",
          "2020-09-16T00:00:00",
          "2020-09-17T00:00:00",
          "2020-09-18T00:00:00",
          "2020-09-19T00:00:00",
          "2020-09-20T00:00:00",
          "2020-09-21T00:00:00",
          "2020-09-22T00:00:00",
          "2020-09-23T00:00:00",
          "2020-09-24T00:00:00",
          "2020-09-25T00:00:00",
          "2020-09-26T00:00:00",
          "2020-09-27T00:00:00",
          "2020-09-28T00:00:00",
          "2020-09-29T00:00:00",
          "2020-09-30T00:00:00",
          "2020-10-01T00:00:00",
          "2020-10-02T00:00:00",
          "2020-10-03T00:00:00",
          "2020-10-04T00:00:00",
          "2020-10-05T00:00:00",
          "2020-10-06T00:00:00",
          "2020-10-07T00:00:00",
          "2020-10-08T00:00:00",
          "2020-10-09T00:00:00",
          "2020-10-10T00:00:00",
          "2020-10-11T00:00:00",
          "2020-10-12T00:00:00",
          "2020-10-13T00:00:00",
          "2020-10-14T00:00:00",
          "2020-10-15T00:00:00",
          "2020-10-16T00:00:00",
          "2020-10-17T00:00:00",
          "2020-10-18T00:00:00",
          "2020-10-19T00:00:00",
          "2020-10-20T00:00:00",
          "2020-10-21T00:00:00",
          "2020-10-22T00:00:00",
          "2020-10-23T00:00:00",
          "2020-10-24T00:00:00",
          "2020-10-25T00:00:00",
          "2020-10-26T00:00:00",
          "2020-10-27T00:00:00",
          "2020-10-28T00:00:00",
          "2020-10-29T00:00:00",
          "2020-10-30T00:00:00",
          "2020-10-31T00:00:00",
          "2020-11-01T00:00:00",
          "2020-11-02T00:00:00",
          "2020-11-03T00:00:00",
          "2020-11-04T00:00:00",
          "2020-11-05T00:00:00",
          "2020-11-06T00:00:00",
          "2020-11-07T00:00:00",
          "2020-11-08T00:00:00",
          "2020-11-09T00:00:00",
          "2020-11-10T00:00:00",
          "2020-11-11T00:00:00",
          "2020-11-12T00:00:00",
          "2020-11-13T00:00:00",
          "2020-11-14T00:00:00",
          "2020-11-15T00:00:00",
          "2020-11-16T00:00:00",
          "2020-11-17T00:00:00",
          "2020-11-18T00:00:00",
          "2020-11-19T00:00:00",
          "2020-11-20T00:00:00",
          "2020-11-21T00:00:00",
          "2020-11-22T00:00:00",
          "2020-11-23T00:00:00",
          "2020-11-24T00:00:00",
          "2020-11-25T00:00:00",
          "2020-11-26T00:00:00",
          "2020-11-27T00:00:00",
          "2020-11-28T00:00:00",
          "2020-11-29T00:00:00",
          "2020-11-30T00:00:00",
          "2020-12-01T00:00:00",
          "2020-12-02T00:00:00",
          "2020-12-03T00:00:00",
          "2020-12-04T00:00:00",
          "2020-12-05T00:00:00",
          "2020-12-06T00:00:00",
          "2020-12-07T00:00:00",
          "2020-12-08T00:00:00",
          "2020-12-09T00:00:00",
          "2020-12-10T00:00:00",
          "2020-12-11T00:00:00",
          "2020-12-12T00:00:00",
          "2020-12-13T00:00:00",
          "2020-12-14T00:00:00",
          "2020-12-15T00:00:00",
          "2020-12-16T00:00:00",
          "2020-12-17T00:00:00",
          "2020-12-18T00:00:00",
          "2020-12-19T00:00:00",
          "2020-12-20T00:00:00",
          "2020-12-21T00:00:00",
          "2020-12-22T00:00:00",
          "2020-12-23T00:00:00",
          "2020-12-24T00:00:00",
          "2020-12-25T00:00:00",
          "2020-12-26T00:00:00",
          "2020-12-27T00:00:00",
          "2020-12-28T00:00:00",
          "2020-12-29T00:00:00",
          "2020-12-30T00:00:00",
          "2020-12-31T00:00:00",
          "2021-01-01T00:00:00",
          "2021-01-02T00:00:00",
          "2021-01-03T00:00:00",
          "2021-01-04T00:00:00",
          "2021-01-05T00:00:00",
          "2021-01-06T00:00:00",
          "2021-01-07T00:00:00",
          "2021-01-08T00:00:00",
          "2021-01-09T00:00:00",
          "2021-01-10T00:00:00",
          "2021-01-11T00:00:00",
          "2021-01-12T00:00:00",
          "2021-01-13T00:00:00",
          "2021-01-14T00:00:00",
          "2021-01-15T00:00:00",
          "2021-01-16T00:00:00",
          "2021-01-17T00:00:00",
          "2021-01-18T00:00:00",
          "2021-01-19T00:00:00",
          "2021-01-20T00:00:00",
          "2021-01-21T00:00:00",
          "2021-01-22T00:00:00",
          "2021-01-23T00:00:00",
          "2021-01-24T00:00:00",
          "2021-01-25T00:00:00",
          "2021-01-26T00:00:00",
          "2021-01-27T00:00:00",
          "2021-01-28T00:00:00",
          "2021-01-29T00:00:00",
          "2021-01-30T00:00:00",
          "2021-01-31T00:00:00",
          "2021-02-01T00:00:00",
          "2021-02-02T00:00:00",
          "2021-02-03T00:00:00",
          "2021-02-04T00:00:00",
          "2021-02-05T00:00:00",
          "2021-02-06T00:00:00",
          "2021-02-07T00:00:00",
          "2021-02-08T00:00:00",
          "2021-02-09T00:00:00",
          "2021-02-10T00:00:00",
          "2021-02-11T00:00:00",
          "2021-02-12T00:00:00",
          "2021-02-13T00:00:00",
          "2021-02-14T00:00:00",
          "2021-02-15T00:00:00",
          "2021-02-16T00:00:00",
          "2021-02-17T00:00:00"
         ],
         "xaxis": "x",
         "y": [
          0,
          0,
          0,
          0,
          0,
          0,
          0,
          0,
          0,
          0,
          0,
          0,
          0,
          0,
          0,
          0,
          0,
          0,
          0,
          0.005,
          0.006230529595015576,
          0.005376344086021506,
          0.00322061191626409,
          0.0025220680958385876,
          0.0019588638589618022,
          0.00129366106080207,
          0.0010395010395010396,
          0.0008900756564307966,
          0.0007830853563038371,
          0.0020100502512562816,
          0.001755926251097454,
          0.0015368852459016393,
          0.0014097744360902255,
          0.0262065953264905,
          0.02221444813713486,
          0.01857811585722645,
          0.015788165091994034,
          0.014023851590106008,
          0.012258687258687258,
          0.011410601976639713,
          0.010443220129923526,
          0.009049451332478267,
          0.007854050711193569,
          0.009562237453017909,
          0.008809451064263164,
          0.008346601051768225,
          0.0077956020187454934,
          0.007383696116090482,
          0.12057635974982187,
          0.4952683615819209,
          0.4610024650780608,
          0.4164242028383113,
          0.3826177096404605,
          0.5725151342681223,
          0.543160788356282,
          0.533693911186425,
          0.553314247000459,
          0.5310776241106403,
          0.5117221471790981,
          0.4915379947407457,
          0.4778446909667195,
          0.46173234884203657,
          0.4443776882638083,
          0.4283365752651064,
          0.41216006973516695,
          0.4125615496410056,
          0.42159629248197733,
          0.42220061673835757,
          0.4217915669305837,
          0.4176605603914945,
          0.40573093964979345,
          0.4076657361920264,
          0.40367203561752013,
          0.39526210904710335,
          0.39924646125667645,
          0.39732537707701926,
          0.4073585689115333,
          0.4124604890158149,
          0.3912041936357148,
          0.38571707423362733,
          0.3840161705444283,
          0.39041811846689894,
          0.39338914820964255,
          0.39279106975375616,
          0.4001762815566279,
          0.4062085801726612,
          0.4092900964066608,
          0.41044277744834456,
          0.41273805033437866,
          0.41033294389407254,
          0.4053785318821539,
          0.4046588202155791,
          0.4052683701550299,
          0.40732985643834674,
          0.40304148944707485,
          0.4011953019234766,
          0.4009520426557659,
          0.4026734703799,
          0.4085795594641243,
          0.4146137596940194,
          0.4133663481326972,
          0.41190554748040414,
          0.41047880906328515,
          0.534705376781847,
          0.5364914003053403,
          0.5358718617946806,
          0.5355630346724329,
          0.537062776752211,
          0.5401862873509431,
          0.5407192516574,
          0.5377964607647892,
          0.530774305153116,
          0.5453826081222387,
          0.546525964532757,
          0.5340536908723194,
          0.5402682143429198,
          0.5428743119664077,
          0.5438339945954251,
          0.5480056828396046,
          0.5556552033389672,
          0.5533069405608926,
          0.5509124107628861,
          0.5539569769203306,
          0.5550138638522836,
          0.5538764576686803,
          0.5622645842739263,
          0.5643763981851979,
          0.6398015042175009,
          0.6397421578201538,
          0.6282361997813576,
          0.6419274447851134,
          0.6545632187590095,
          0.6634419860133323,
          0.665345910481216,
          0.6671950171405399,
          0.6760010817252295,
          0.6761899067858793,
          0.6783160229551328,
          0.6850257855973075,
          0.6868427007344728,
          0.6864621191937147,
          0.6945457870706523,
          0.6980894558448109,
          0.6975930906181622,
          0.6953296076180346,
          0.7147489481489593,
          0.7201797139727012,
          0.7146868661655998,
          0.7083412933474683,
          0.7225563569668588,
          0.7456042209835569,
          0.7494190999842503,
          0.7560841394134807,
          0.7525595091154889,
          0.753370829439733,
          0.7497051839353405,
          0.7545034056529896,
          0.75261247095049,
          0.7546158525678052,
          0.763175749131555,
          0.7700017238173382,
          0.7661088051966494,
          0.7659270684963869,
          0.7670357765654147,
          0.7706572009406416,
          0.7764926919551878,
          0.7819635188570943,
          0.7876621977534305,
          0.7919109828945726,
          0.7817664927271623,
          0.7989513115474794,
          0.7907151315488005,
          0.7948683865053469,
          0.8034004351747396,
          0.8074435471042927,
          0.8105909996146561,
          0.8122039706165807,
          0.8084063493501457,
          0.8134203076071039,
          0.8175156408469395,
          0.8215208919138769,
          0.8263093001489102,
          0.8292487589974701,
          0.830237005405713,
          0.830209343295829,
          0.8325682831650223,
          0.8382584934253093,
          0.8363263866997999,
          0.8466966393490547,
          0.8472794854253458,
          0.8485260184113471,
          0.8466389250112604,
          0.8486536502546689,
          0.8512718122759981,
          0.8556840093794437,
          0.8583273287133599,
          0.8603448066397182,
          0.8629816210941463,
          0.862918374915113,
          0.8627145573810149,
          0.8597724719457887,
          0.8675739424384609,
          0.8697572464272455,
          0.8701950155722352,
          0.8694945847565172,
          0.8670479043900994,
          0.8694090860908432,
          0.8721165138012366,
          0.8761292134338444,
          0.8748665973771629,
          0.8813997321928734,
          0.8808966309995787,
          0.8803476960678845,
          0.8803126161113914,
          0.8817494800107094,
          0.8845019159348801,
          0.8868932471687205,
          0.888553680313702,
          0.8870594987675084,
          0.8870594987675084,
          0.888782642490584,
          0.8901519320634046,
          0.8925659117131617,
          0.891570595400694,
          0.8913106860767726,
          0.8925409132526881,
          0.8906158522498916,
          0.8859287019710438,
          0.8884026803643351,
          0.8869353577060662,
          0.8851627455106238,
          0.8804733757736785,
          0.8756152084599602,
          0.8704099763475184,
          0.8664011031394838,
          0.8664011031394838,
          0.8620507217381517,
          0.8582541675562585,
          0.8542343395790571,
          0.8502456030941293,
          0.8454769974014019,
          0.841237697781024,
          0.8391334058072036,
          0.8366941141110278,
          0.9035031907436538,
          0.9048157826881262,
          0.9032097548475022,
          0.9040681876599928,
          0.9041759663126253,
          0.9056266065360491,
          0.9073192459912361,
          0.9092081295008362,
          0.9084327887621254,
          0.9084327887621254,
          0.9088956650478826,
          0.9089211206883591,
          0.9087336680134496,
          0.9098144292402228,
          0.9096272068545299,
          0.9087066736724162,
          0.9088268574241445,
          0.9077831541107607,
          0.9026310493884467,
          0.9004551010874294,
          0.9079436205173723,
          0.9063799634558789,
          0.905402239444695,
          0.9037573680151701,
          0.9021176167293782,
          0.8982952643625597,
          0.8989643411792435,
          0.9003838617729657,
          0.9004588877259709,
          0.8974158556586881,
          0.8956624684488944,
          0.8946974760954419,
          0.8873123451577293,
          0.8838742371023985,
          0.8835084892733098,
          0.8943941609450886,
          0.8947657554783932,
          0.8929341750469086,
          0.8916090498147526,
          0.8916953276458882,
          0.8884109129345775,
          0.8903389553392248,
          0.8937068005553259,
          0.8866999422749839,
          0.8910937938443767,
          0.8891289010736478,
          0.8834556396996741,
          0.8893641972589783,
          0.888973595904229,
          0.8904523277791758,
          0.8861723305714506,
          0.8862394334860573,
          0.8827271282977555,
          0.8857341898240091,
          0.8853254773022408,
          0.8906455583642259,
          0.8883044140579474,
          0.8842172246700402,
          0.8772582501621442,
          0.8743592050006981,
          0.8912887637316051,
          0.89216738806713,
          0.8944578780100769,
          0.8929814844905521,
          0.8943316883662327,
          0.8922444099269239,
          0.8902412260482265,
          0.8933248060463389,
          0.8927332239770999,
          0.8963460528528641,
          0.8955808921438082,
          0.8932483937296081,
          0.8894513753579179,
          0.8905761228135589,
          0.8922005676573966,
          0.8921198303928426,
          0.8944397494617303,
          0.8888808764956281,
          0.8898501744557281,
          0.8883322717818473,
          0.8861716911149734,
          0.8853661458778703,
          0.8846514396215218,
          0.8882359368263005,
          0.8885235408445947,
          0.8819009500652273,
          0.8822314980807987,
          0.8849646786810937,
          0.8819990894091754,
          0.8843131785725875,
          0.8865540056674301,
          0.8839108169427032,
          0.8852157126540368,
          0.8808686071171241,
          0.8846401820121329,
          0.887947390071347,
          0.8882794076220153,
          0.8887276876893015,
          0.8895510252796976,
          0.8899782855894691,
          0.8903720860982092,
          0.8887478942095327,
          0.8922244927446488,
          0.8890605839170824,
          0.8901982647113171,
          0.8934995491983231,
          0.8920315799488714,
          0.8891425686610818,
          0.8900418874491767,
          0.8909953297503689,
          0.891253893304122,
          0.8941062421009638,
          0.8916832233401777,
          0.8952428596496134
         ],
         "yaxis": "y"
        },
        {
         "hovertemplate": "%{x|%Y-%m-%d} : %{y:.4g}",
         "legendgroup": "forecast",
         "line": {
          "color": "rgba(248,118,109,0.4)",
          "width": 1
         },
         "marker": {
          "color": "rgba(248,118,109,0.9)",
          "size": 3
         },
         "mode": "lines+markers",
         "name": "Forecast",
         "showlegend": true,
         "type": "scatter",
         "x": [
          "2020-03-04T00:00:00",
          "2020-03-05T00:00:00",
          "2020-03-06T00:00:00",
          "2020-03-07T00:00:00",
          "2020-03-08T00:00:00",
          "2020-03-09T00:00:00",
          "2020-03-10T00:00:00",
          "2020-03-11T00:00:00",
          "2020-03-12T00:00:00",
          "2020-03-13T00:00:00",
          "2020-03-14T00:00:00",
          "2020-03-15T00:00:00",
          "2020-03-16T00:00:00",
          "2020-03-17T00:00:00",
          "2020-03-18T00:00:00",
          "2020-03-19T00:00:00",
          "2020-03-20T00:00:00",
          "2020-03-21T00:00:00",
          "2020-03-22T00:00:00",
          "2020-03-23T00:00:00",
          "2020-03-24T00:00:00",
          "2020-03-25T00:00:00",
          "2020-03-26T00:00:00",
          "2020-03-27T00:00:00",
          "2020-03-28T00:00:00",
          "2020-03-29T00:00:00",
          "2020-03-30T00:00:00",
          "2020-03-31T00:00:00",
          "2020-04-01T00:00:00",
          "2020-04-02T00:00:00",
          "2020-04-03T00:00:00",
          "2020-04-04T00:00:00",
          "2020-04-05T00:00:00",
          "2020-04-06T00:00:00",
          "2020-04-07T00:00:00",
          "2020-04-08T00:00:00",
          "2020-04-09T00:00:00",
          "2020-04-10T00:00:00",
          "2020-04-11T00:00:00",
          "2020-04-12T00:00:00",
          "2020-04-13T00:00:00",
          "2020-04-14T00:00:00",
          "2020-04-15T00:00:00",
          "2020-04-16T00:00:00",
          "2020-04-17T00:00:00",
          "2020-04-18T00:00:00",
          "2020-04-19T00:00:00",
          "2020-04-20T00:00:00",
          "2020-04-21T00:00:00",
          "2020-04-22T00:00:00",
          "2020-04-23T00:00:00",
          "2020-04-24T00:00:00",
          "2020-04-25T00:00:00",
          "2020-04-26T00:00:00",
          "2020-04-27T00:00:00",
          "2020-04-28T00:00:00",
          "2020-04-29T00:00:00",
          "2020-04-30T00:00:00",
          "2020-05-01T00:00:00",
          "2020-05-02T00:00:00",
          "2020-05-03T00:00:00",
          "2020-05-04T00:00:00",
          "2020-05-05T00:00:00",
          "2020-05-06T00:00:00",
          "2020-05-07T00:00:00",
          "2020-05-08T00:00:00",
          "2020-05-09T00:00:00",
          "2020-05-10T00:00:00",
          "2020-05-11T00:00:00",
          "2020-05-12T00:00:00",
          "2020-05-13T00:00:00",
          "2020-05-14T00:00:00",
          "2020-05-15T00:00:00",
          "2020-05-16T00:00:00",
          "2020-05-17T00:00:00",
          "2020-05-18T00:00:00",
          "2020-05-19T00:00:00",
          "2020-05-20T00:00:00",
          "2020-05-21T00:00:00",
          "2020-05-22T00:00:00",
          "2020-05-23T00:00:00",
          "2020-05-24T00:00:00",
          "2020-05-25T00:00:00",
          "2020-05-26T00:00:00",
          "2020-05-27T00:00:00",
          "2020-05-28T00:00:00",
          "2020-05-29T00:00:00",
          "2020-05-30T00:00:00",
          "2020-05-31T00:00:00",
          "2020-06-01T00:00:00",
          "2020-06-02T00:00:00",
          "2020-06-03T00:00:00",
          "2020-06-04T00:00:00",
          "2020-06-05T00:00:00",
          "2020-06-06T00:00:00",
          "2020-06-07T00:00:00",
          "2020-06-08T00:00:00",
          "2020-06-09T00:00:00",
          "2020-06-10T00:00:00",
          "2020-06-11T00:00:00",
          "2020-06-12T00:00:00",
          "2020-06-13T00:00:00",
          "2020-06-14T00:00:00",
          "2020-06-15T00:00:00",
          "2020-06-16T00:00:00",
          "2020-06-17T00:00:00",
          "2020-06-18T00:00:00",
          "2020-06-19T00:00:00",
          "2020-06-20T00:00:00",
          "2020-06-21T00:00:00",
          "2020-06-22T00:00:00",
          "2020-06-23T00:00:00",
          "2020-06-24T00:00:00",
          "2020-06-25T00:00:00",
          "2020-06-26T00:00:00",
          "2020-06-27T00:00:00",
          "2020-06-28T00:00:00",
          "2020-06-29T00:00:00",
          "2020-06-30T00:00:00",
          "2020-07-01T00:00:00",
          "2020-07-02T00:00:00",
          "2020-07-03T00:00:00",
          "2020-07-04T00:00:00",
          "2020-07-05T00:00:00",
          "2020-07-06T00:00:00",
          "2020-07-07T00:00:00",
          "2020-07-08T00:00:00",
          "2020-07-09T00:00:00",
          "2020-07-10T00:00:00",
          "2020-07-11T00:00:00",
          "2020-07-12T00:00:00",
          "2020-07-13T00:00:00",
          "2020-07-14T00:00:00",
          "2020-07-15T00:00:00",
          "2020-07-16T00:00:00",
          "2020-07-17T00:00:00",
          "2020-07-18T00:00:00",
          "2020-07-19T00:00:00",
          "2020-07-20T00:00:00",
          "2020-07-21T00:00:00",
          "2020-07-22T00:00:00",
          "2020-07-23T00:00:00",
          "2020-07-24T00:00:00",
          "2020-07-25T00:00:00",
          "2020-07-26T00:00:00",
          "2020-07-27T00:00:00",
          "2020-07-28T00:00:00",
          "2020-07-29T00:00:00",
          "2020-07-30T00:00:00",
          "2020-07-31T00:00:00",
          "2020-08-01T00:00:00",
          "2020-08-02T00:00:00",
          "2020-08-03T00:00:00",
          "2020-08-04T00:00:00",
          "2020-08-05T00:00:00",
          "2020-08-06T00:00:00",
          "2020-08-07T00:00:00",
          "2020-08-08T00:00:00",
          "2020-08-09T00:00:00",
          "2020-08-10T00:00:00",
          "2020-08-11T00:00:00",
          "2020-08-12T00:00:00",
          "2020-08-13T00:00:00",
          "2020-08-14T00:00:00",
          "2020-08-15T00:00:00",
          "2020-08-16T00:00:00",
          "2020-08-17T00:00:00",
          "2020-08-18T00:00:00",
          "2020-08-19T00:00:00",
          "2020-08-20T00:00:00",
          "2020-08-21T00:00:00",
          "2020-08-22T00:00:00",
          "2020-08-23T00:00:00",
          "2020-08-24T00:00:00",
          "2020-08-25T00:00:00",
          "2020-08-26T00:00:00",
          "2020-08-27T00:00:00",
          "2020-08-28T00:00:00",
          "2020-08-29T00:00:00",
          "2020-08-30T00:00:00",
          "2020-08-31T00:00:00",
          "2020-09-01T00:00:00",
          "2020-09-02T00:00:00",
          "2020-09-03T00:00:00",
          "2020-09-04T00:00:00",
          "2020-09-05T00:00:00",
          "2020-09-06T00:00:00",
          "2020-09-07T00:00:00",
          "2020-09-08T00:00:00",
          "2020-09-09T00:00:00",
          "2020-09-10T00:00:00",
          "2020-09-11T00:00:00",
          "2020-09-12T00:00:00",
          "2020-09-13T00:00:00",
          "2020-09-14T00:00:00",
          "2020-09-15T00:00:00",
          "2020-09-16T00:00:00",
          "2020-09-17T00:00:00",
          "2020-09-18T00:00:00",
          "2020-09-19T00:00:00",
          "2020-09-20T00:00:00",
          "2020-09-21T00:00:00",
          "2020-09-22T00:00:00",
          "2020-09-23T00:00:00",
          "2020-09-24T00:00:00",
          "2020-09-25T00:00:00",
          "2020-09-26T00:00:00",
          "2020-09-27T00:00:00",
          "2020-09-28T00:00:00",
          "2020-09-29T00:00:00",
          "2020-09-30T00:00:00",
          "2020-10-01T00:00:00",
          "2020-10-02T00:00:00",
          "2020-10-03T00:00:00",
          "2020-10-04T00:00:00",
          "2020-10-05T00:00:00",
          "2020-10-06T00:00:00",
          "2020-10-07T00:00:00",
          "2020-10-08T00:00:00",
          "2020-10-09T00:00:00",
          "2020-10-10T00:00:00",
          "2020-10-11T00:00:00",
          "2020-10-12T00:00:00",
          "2020-10-13T00:00:00",
          "2020-10-14T00:00:00",
          "2020-10-15T00:00:00",
          "2020-10-16T00:00:00",
          "2020-10-17T00:00:00",
          "2020-10-18T00:00:00",
          "2020-10-19T00:00:00",
          "2020-10-20T00:00:00",
          "2020-10-21T00:00:00",
          "2020-10-22T00:00:00",
          "2020-10-23T00:00:00",
          "2020-10-24T00:00:00",
          "2020-10-25T00:00:00",
          "2020-10-26T00:00:00",
          "2020-10-27T00:00:00",
          "2020-10-28T00:00:00",
          "2020-10-29T00:00:00",
          "2020-10-30T00:00:00",
          "2020-10-31T00:00:00",
          "2020-11-01T00:00:00",
          "2020-11-02T00:00:00",
          "2020-11-03T00:00:00",
          "2020-11-04T00:00:00",
          "2020-11-05T00:00:00",
          "2020-11-06T00:00:00",
          "2020-11-07T00:00:00",
          "2020-11-08T00:00:00",
          "2020-11-09T00:00:00",
          "2020-11-10T00:00:00",
          "2020-11-11T00:00:00",
          "2020-11-12T00:00:00",
          "2020-11-13T00:00:00",
          "2020-11-14T00:00:00",
          "2020-11-15T00:00:00",
          "2020-11-16T00:00:00",
          "2020-11-17T00:00:00",
          "2020-11-18T00:00:00",
          "2020-11-19T00:00:00",
          "2020-11-20T00:00:00",
          "2020-11-21T00:00:00",
          "2020-11-22T00:00:00",
          "2020-11-23T00:00:00",
          "2020-11-24T00:00:00",
          "2020-11-25T00:00:00",
          "2020-11-26T00:00:00",
          "2020-11-27T00:00:00",
          "2020-11-28T00:00:00",
          "2020-11-29T00:00:00",
          "2020-11-30T00:00:00",
          "2020-12-01T00:00:00",
          "2020-12-02T00:00:00",
          "2020-12-03T00:00:00",
          "2020-12-04T00:00:00",
          "2020-12-05T00:00:00",
          "2020-12-06T00:00:00",
          "2020-12-07T00:00:00",
          "2020-12-08T00:00:00",
          "2020-12-09T00:00:00",
          "2020-12-10T00:00:00",
          "2020-12-11T00:00:00",
          "2020-12-12T00:00:00",
          "2020-12-13T00:00:00",
          "2020-12-14T00:00:00",
          "2020-12-15T00:00:00",
          "2020-12-16T00:00:00",
          "2020-12-17T00:00:00",
          "2020-12-18T00:00:00",
          "2020-12-19T00:00:00",
          "2020-12-20T00:00:00",
          "2020-12-21T00:00:00",
          "2020-12-22T00:00:00",
          "2020-12-23T00:00:00",
          "2020-12-24T00:00:00",
          "2020-12-25T00:00:00",
          "2020-12-26T00:00:00",
          "2020-12-27T00:00:00",
          "2020-12-28T00:00:00",
          "2020-12-29T00:00:00",
          "2020-12-30T00:00:00",
          "2020-12-31T00:00:00",
          "2021-01-01T00:00:00",
          "2021-01-02T00:00:00",
          "2021-01-03T00:00:00",
          "2021-01-04T00:00:00",
          "2021-01-05T00:00:00",
          "2021-01-06T00:00:00",
          "2021-01-07T00:00:00",
          "2021-01-08T00:00:00",
          "2021-01-09T00:00:00",
          "2021-01-10T00:00:00",
          "2021-01-11T00:00:00",
          "2021-01-12T00:00:00",
          "2021-01-13T00:00:00",
          "2021-01-14T00:00:00",
          "2021-01-15T00:00:00",
          "2021-01-16T00:00:00",
          "2021-01-17T00:00:00",
          "2021-01-18T00:00:00",
          "2021-01-19T00:00:00",
          "2021-01-20T00:00:00",
          "2021-01-21T00:00:00",
          "2021-01-22T00:00:00",
          "2021-01-23T00:00:00",
          "2021-01-24T00:00:00",
          "2021-01-25T00:00:00",
          "2021-01-26T00:00:00",
          "2021-01-27T00:00:00",
          "2021-01-28T00:00:00",
          "2021-01-29T00:00:00",
          "2021-01-30T00:00:00",
          "2021-01-31T00:00:00",
          "2021-02-01T00:00:00",
          "2021-02-02T00:00:00",
          "2021-02-03T00:00:00",
          "2021-02-04T00:00:00",
          "2021-02-05T00:00:00",
          "2021-02-06T00:00:00",
          "2021-02-07T00:00:00",
          "2021-02-08T00:00:00",
          "2021-02-09T00:00:00",
          "2021-02-10T00:00:00",
          "2021-02-11T00:00:00",
          "2021-02-12T00:00:00",
          "2021-02-13T00:00:00",
          "2021-02-14T00:00:00",
          "2021-02-15T00:00:00",
          "2021-02-16T00:00:00",
          "2021-02-17T00:00:00",
          "2021-02-18T00:00:00",
          "2021-02-19T00:00:00",
          "2021-02-20T00:00:00",
          "2021-02-21T00:00:00",
          "2021-02-22T00:00:00",
          "2021-02-23T00:00:00",
          "2021-02-24T00:00:00",
          "2021-02-25T00:00:00",
          "2021-02-26T00:00:00",
          "2021-02-27T00:00:00",
          "2021-02-28T00:00:00",
          "2021-03-01T00:00:00",
          "2021-03-02T00:00:00",
          "2021-03-03T00:00:00",
          "2021-03-04T00:00:00",
          "2021-03-05T00:00:00",
          "2021-03-06T00:00:00",
          "2021-03-07T00:00:00",
          "2021-03-08T00:00:00",
          "2021-03-09T00:00:00",
          "2021-03-10T00:00:00",
          "2021-03-11T00:00:00",
          "2021-03-12T00:00:00",
          "2021-03-13T00:00:00",
          "2021-03-14T00:00:00",
          "2021-03-15T00:00:00",
          "2021-03-16T00:00:00",
          "2021-03-17T00:00:00",
          "2021-03-18T00:00:00",
          "2021-03-19T00:00:00",
          "2021-03-20T00:00:00",
          "2021-03-21T00:00:00",
          "2021-03-22T00:00:00",
          "2021-03-23T00:00:00",
          "2021-03-24T00:00:00",
          "2021-03-25T00:00:00",
          "2021-03-26T00:00:00",
          "2021-03-27T00:00:00",
          "2021-03-28T00:00:00",
          "2021-03-29T00:00:00",
          "2021-03-30T00:00:00",
          "2021-03-31T00:00:00",
          "2021-04-01T00:00:00",
          "2021-04-02T00:00:00",
          "2021-04-03T00:00:00",
          "2021-04-04T00:00:00",
          "2021-04-05T00:00:00",
          "2021-04-06T00:00:00",
          "2021-04-07T00:00:00",
          "2021-04-08T00:00:00",
          "2021-04-09T00:00:00",
          "2021-04-10T00:00:00",
          "2021-04-11T00:00:00",
          "2021-04-12T00:00:00",
          "2021-04-13T00:00:00",
          "2021-04-14T00:00:00",
          "2021-04-15T00:00:00",
          "2021-04-16T00:00:00",
          "2021-04-17T00:00:00",
          "2021-04-18T00:00:00",
          "2021-04-19T00:00:00",
          "2021-04-20T00:00:00",
          "2021-04-21T00:00:00",
          "2021-04-22T00:00:00",
          "2021-04-23T00:00:00",
          "2021-04-24T00:00:00",
          "2021-04-25T00:00:00",
          "2021-04-26T00:00:00",
          "2021-04-27T00:00:00",
          "2021-04-28T00:00:00",
          "2021-04-29T00:00:00",
          "2021-04-30T00:00:00",
          "2021-05-01T00:00:00",
          "2021-05-02T00:00:00",
          "2021-05-03T00:00:00",
          "2021-05-04T00:00:00",
          "2021-05-05T00:00:00",
          "2021-05-06T00:00:00",
          "2021-05-07T00:00:00",
          "2021-05-08T00:00:00",
          "2021-05-09T00:00:00",
          "2021-05-10T00:00:00",
          "2021-05-11T00:00:00",
          "2021-05-12T00:00:00",
          "2021-05-13T00:00:00",
          "2021-05-14T00:00:00",
          "2021-05-15T00:00:00",
          "2021-05-16T00:00:00",
          "2021-05-17T00:00:00",
          "2021-05-18T00:00:00",
          "2021-05-19T00:00:00",
          "2021-05-20T00:00:00",
          "2021-05-21T00:00:00",
          "2021-05-22T00:00:00",
          "2021-05-23T00:00:00",
          "2021-05-24T00:00:00",
          "2021-05-25T00:00:00",
          "2021-05-26T00:00:00",
          "2021-05-27T00:00:00",
          "2021-05-28T00:00:00",
          "2021-05-29T00:00:00",
          "2021-05-30T00:00:00",
          "2021-05-31T00:00:00",
          "2021-06-01T00:00:00",
          "2021-06-02T00:00:00",
          "2021-06-03T00:00:00",
          "2021-06-04T00:00:00",
          "2021-06-05T00:00:00",
          "2021-06-06T00:00:00",
          "2021-06-07T00:00:00",
          "2021-06-08T00:00:00",
          "2021-06-09T00:00:00",
          "2021-06-10T00:00:00",
          "2021-06-11T00:00:00",
          "2021-06-12T00:00:00",
          "2021-06-13T00:00:00",
          "2021-06-14T00:00:00",
          "2021-06-15T00:00:00",
          "2021-06-16T00:00:00",
          "2021-06-17T00:00:00",
          "2021-06-18T00:00:00",
          "2021-06-19T00:00:00",
          "2021-06-20T00:00:00",
          "2021-06-21T00:00:00",
          "2021-06-22T00:00:00",
          "2021-06-23T00:00:00",
          "2021-06-24T00:00:00",
          "2021-06-25T00:00:00",
          "2021-06-26T00:00:00",
          "2021-06-27T00:00:00",
          "2021-06-28T00:00:00",
          "2021-06-29T00:00:00",
          "2021-06-30T00:00:00",
          "2021-07-01T00:00:00",
          "2021-07-02T00:00:00",
          "2021-07-03T00:00:00",
          "2021-07-04T00:00:00",
          "2021-07-05T00:00:00",
          "2021-07-06T00:00:00",
          "2021-07-07T00:00:00",
          "2021-07-08T00:00:00",
          "2021-07-09T00:00:00",
          "2021-07-10T00:00:00",
          "2021-07-11T00:00:00",
          "2021-07-12T00:00:00",
          "2021-07-13T00:00:00",
          "2021-07-14T00:00:00",
          "2021-07-15T00:00:00",
          "2021-07-16T00:00:00",
          "2021-07-17T00:00:00",
          "2021-07-18T00:00:00",
          "2021-07-19T00:00:00",
          "2021-07-20T00:00:00",
          "2021-07-21T00:00:00",
          "2021-07-22T00:00:00",
          "2021-07-23T00:00:00",
          "2021-07-24T00:00:00",
          "2021-07-25T00:00:00",
          "2021-07-26T00:00:00",
          "2021-07-27T00:00:00",
          "2021-07-28T00:00:00",
          "2021-07-29T00:00:00",
          "2021-07-30T00:00:00",
          "2021-07-31T00:00:00",
          "2021-08-01T00:00:00",
          "2021-08-02T00:00:00",
          "2021-08-03T00:00:00",
          "2021-08-04T00:00:00",
          "2021-08-05T00:00:00",
          "2021-08-06T00:00:00",
          "2021-08-07T00:00:00",
          "2021-08-08T00:00:00",
          "2021-08-09T00:00:00",
          "2021-08-10T00:00:00",
          "2021-08-11T00:00:00",
          "2021-08-12T00:00:00",
          "2021-08-13T00:00:00",
          "2021-08-14T00:00:00",
          "2021-08-15T00:00:00",
          "2021-08-16T00:00:00",
          "2021-08-17T00:00:00",
          "2021-08-18T00:00:00"
         ],
         "xaxis": "x",
         "y": [
          0,
          0,
          0,
          0,
          0,
          0,
          0,
          0,
          0,
          0,
          0,
          0,
          0,
          0,
          0,
          0,
          0,
          0,
          0,
          0.005,
          0.006230529595015576,
          0.005376344086021506,
          0.00322061191626409,
          0.0025220680958385876,
          0.0019588638589618022,
          0.00129366106080207,
          0.0010395010395010396,
          0.0008900756564307966,
          0.0007830853563038371,
          0.0020100502512562816,
          0.001755926251097454,
          0.0015368852459016393,
          0.0014097744360902255,
          0.0262065953264905,
          0.02221444813713486,
          0.01857811585722645,
          0.015788165091994034,
          0.014023851590106008,
          0.012258687258687258,
          0.011410601976639713,
          0.010443220129923526,
          0.009049451332478267,
          0.007854050711193569,
          0.009562237453017909,
          0.008809451064263164,
          0.008346601051768225,
          0.0077956020187454934,
          0.007383696116090482,
          0.12057635974982187,
          0.4952683615819209,
          0.4610024650780608,
          0.4164242028383113,
          0.3826177096404605,
          0.5725151342681223,
          0.543160788356282,
          0.533693911186425,
          0.553314247000459,
          0.5310776241106403,
          0.5117221471790981,
          0.4915379947407457,
          0.4778446909667195,
          0.46173234884203657,
          0.4443776882638083,
          0.4283365752651064,
          0.41216006973516695,
          0.4125615496410056,
          0.42159629248197733,
          0.42220061673835757,
          0.4217915669305837,
          0.4176605603914945,
          0.40573093964979345,
          0.4076657361920264,
          0.40367203561752013,
          0.39526210904710335,
          0.39924646125667645,
          0.39732537707701926,
          0.4073585689115333,
          0.4124604890158149,
          0.3912041936357148,
          0.38571707423362733,
          0.3840161705444283,
          0.39041811846689894,
          0.39338914820964255,
          0.39279106975375616,
          0.4001762815566279,
          0.4062085801726612,
          0.4092900964066608,
          0.41044277744834456,
          0.41273805033437866,
          0.41033294389407254,
          0.4053785318821539,
          0.4046588202155791,
          0.4052683701550299,
          0.40732985643834674,
          0.40304148944707485,
          0.4011953019234766,
          0.4009520426557659,
          0.4026734703799,
          0.4085795594641243,
          0.4146137596940194,
          0.4133663481326972,
          0.41190554748040414,
          0.41047880906328515,
          0.534705376781847,
          0.5364914003053403,
          0.5358718617946806,
          0.5355630346724329,
          0.537062776752211,
          0.5401862873509431,
          0.5407192516574,
          0.5377964607647892,
          0.530774305153116,
          0.5453826081222387,
          0.546525964532757,
          0.5340536908723194,
          0.5402682143429198,
          0.5428743119664077,
          0.5438339945954251,
          0.5480056828396046,
          0.5556552033389672,
          0.5533069405608926,
          0.5509124107628861,
          0.5539569769203306,
          0.5550138638522836,
          0.5538764576686803,
          0.5622645842739263,
          0.5643763981851979,
          0.6398015042175009,
          0.6397421578201538,
          0.6282361997813576,
          0.6419274447851134,
          0.6545632187590095,
          0.6634419860133323,
          0.665345910481216,
          0.6671950171405399,
          0.6760010817252295,
          0.6761899067858793,
          0.6783160229551328,
          0.6850257855973075,
          0.6868427007344728,
          0.6864621191937147,
          0.6945457870706523,
          0.6980894558448109,
          0.6975930906181622,
          0.6953296076180346,
          0.7147489481489593,
          0.7201797139727012,
          0.7146868661655998,
          0.7083412933474683,
          0.7225563569668588,
          0.7456042209835569,
          0.7494190999842503,
          0.7560841394134807,
          0.7525595091154889,
          0.753370829439733,
          0.7497051839353405,
          0.7545034056529896,
          0.75261247095049,
          0.7546158525678052,
          0.763175749131555,
          0.7700017238173382,
          0.7661088051966494,
          0.7659270684963869,
          0.7670357765654147,
          0.7706572009406416,
          0.7764926919551878,
          0.7819635188570943,
          0.7876621977534305,
          0.7919109828945726,
          0.7817664927271623,
          0.7989513115474794,
          0.7907151315488005,
          0.7948683865053469,
          0.8034004351747396,
          0.8074435471042927,
          0.8105909996146561,
          0.8122039706165807,
          0.8084063493501457,
          0.8134203076071039,
          0.8175156408469395,
          0.8215208919138769,
          0.8263093001489102,
          0.8292487589974701,
          0.830237005405713,
          0.830209343295829,
          0.8325682831650223,
          0.8382584934253093,
          0.8363263866997999,
          0.8466966393490547,
          0.8472794854253458,
          0.8485260184113471,
          0.8466389250112604,
          0.8486536502546689,
          0.8512718122759981,
          0.8556840093794437,
          0.8583273287133599,
          0.8603448066397182,
          0.8629816210941463,
          0.862918374915113,
          0.8627145573810149,
          0.8597724719457887,
          0.8675739424384609,
          0.8697572464272455,
          0.8701950155722352,
          0.8694945847565172,
          0.8670479043900994,
          0.8694090860908432,
          0.8721165138012366,
          0.8761292134338444,
          0.8748665973771629,
          0.8813997321928734,
          0.8808966309995787,
          0.8803476960678845,
          0.8803126161113914,
          0.8817494800107094,
          0.8845019159348801,
          0.8868932471687205,
          0.888553680313702,
          0.8870594987675084,
          0.8870594987675084,
          0.888782642490584,
          0.8901519320634046,
          0.8925659117131617,
          0.891570595400694,
          0.8913106860767726,
          0.8925409132526881,
          0.8906158522498916,
          0.8859287019710438,
          0.8884026803643351,
          0.8869353577060662,
          0.8851627455106238,
          0.8804733757736785,
          0.8756152084599602,
          0.8704099763475184,
          0.8664011031394838,
          0.8664011031394838,
          0.8620507217381517,
          0.8582541675562585,
          0.8542343395790571,
          0.8502456030941293,
          0.8454769974014019,
          0.841237697781024,
          0.8391334058072036,
          0.8366941141110278,
          0.9035031907436538,
          0.9048157826881262,
          0.9032097548475022,
          0.9040681876599928,
          0.9041759663126253,
          0.9056266065360491,
          0.9073192459912361,
          0.9092081295008362,
          0.9084327887621254,
          0.9084327887621254,
          0.9088956650478826,
          0.9089211206883591,
          0.9087336680134496,
          0.9098144292402228,
          0.9096272068545299,
          0.9087066736724162,
          0.9088268574241445,
          0.9077831541107607,
          0.9026310493884467,
          0.9004551010874294,
          0.9079436205173723,
          0.9063799634558789,
          0.905402239444695,
          0.9037573680151701,
          0.9021176167293782,
          0.8982952643625597,
          0.8989643411792435,
          0.9003838617729657,
          0.9004588877259709,
          0.8974158556586881,
          0.8956624684488944,
          0.8946974760954419,
          0.8873123451577293,
          0.8838742371023985,
          0.8835084892733098,
          0.8943941609450886,
          0.8947657554783932,
          0.8929341750469086,
          0.8916090498147526,
          0.8916953276458882,
          0.8884109129345775,
          0.8903389553392248,
          0.8937068005553259,
          0.8866999422749839,
          0.8910937938443767,
          0.8891289010736478,
          0.8834556396996741,
          0.8893641972589783,
          0.888973595904229,
          0.8904523277791758,
          0.8861723305714506,
          0.8862394334860573,
          0.8827271282977555,
          0.8857341898240091,
          0.8853254773022408,
          0.8906455583642259,
          0.8883044140579474,
          0.8842172246700402,
          0.8772582501621442,
          0.8743592050006981,
          0.8912887637316051,
          0.89216738806713,
          0.8944578780100769,
          0.8929814844905521,
          0.8943316883662327,
          0.8922444099269239,
          0.8902412260482265,
          0.8933248060463389,
          0.8927332239770999,
          0.8963460528528641,
          0.8955808921438082,
          0.8932483937296081,
          0.8894513753579179,
          0.8905761228135589,
          0.8922005676573966,
          0.8921198303928426,
          0.8944397494617303,
          0.8888808764956281,
          0.8898501744557281,
          0.8883322717818473,
          0.8861716911149734,
          0.8853661458778703,
          0.8846514396215218,
          0.8882359368263005,
          0.8885235408445947,
          0.8819009500652273,
          0.8822314980807987,
          0.8849646786810937,
          0.8819990894091754,
          0.8843131785725875,
          0.8865540056674301,
          0.8839108169427032,
          0.8852157126540368,
          0.8808686071171241,
          0.8846401820121329,
          0.887947390071347,
          0.8882794076220153,
          0.8887276876893015,
          0.8895510252796976,
          0.8899782855894691,
          0.8903720860982092,
          0.8887478942095327,
          0.8922244927446488,
          0.8890605839170824,
          0.8901982647113171,
          0.8934995491983231,
          0.8920315799488714,
          0.8891425686610818,
          0.8900418874491767,
          0.8909953297503689,
          0.891253893304122,
          0.8941062421009638,
          0.8916832233401777,
          0.8952428596496134,
          0.8891425686610818,
          0.8900418874491767,
          0.8909953297503689,
          0.891253893304122,
          0.8941062421009638,
          0.8916832233401777,
          0.8952428596496134,
          0.8891425686610818,
          0.8900418874491767,
          0.8909953297503689,
          0.891253893304122,
          0.8941062421009638,
          0.8916832233401777,
          0.8952428596496134,
          0.8891425686610818,
          0.8900418874491767,
          0.8909953297503689,
          0.891253893304122,
          0.8941062421009638,
          0.8916832233401777,
          0.8952428596496134,
          0.8891425686610818,
          0.8900418874491767,
          0.8909953297503689,
          0.891253893304122,
          0.8941062421009638,
          0.8916832233401777,
          0.8952428596496134,
          0.8891425686610818,
          0.8900418874491767,
          0.8909953297503689,
          0.891253893304122,
          0.8941062421009638,
          0.8916832233401777,
          0.8952428596496134,
          0.8891425686610818,
          0.8900418874491767,
          0.8909953297503689,
          0.891253893304122,
          0.8941062421009638,
          0.8916832233401777,
          0.8952428596496134,
          0.8891425686610818,
          0.8900418874491767,
          0.8909953297503689,
          0.891253893304122,
          0.8941062421009638,
          0.8916832233401777,
          0.8952428596496134,
          0.8891425686610818,
          0.8900418874491767,
          0.8909953297503689,
          0.891253893304122,
          0.8941062421009638,
          0.8916832233401777,
          0.8952428596496134,
          0.8891425686610818,
          0.8900418874491767,
          0.8909953297503689,
          0.891253893304122,
          0.8941062421009638,
          0.8916832233401777,
          0.8952428596496134,
          0.8891425686610818,
          0.8900418874491767,
          0.8909953297503689,
          0.891253893304122,
          0.8941062421009638,
          0.8916832233401777,
          0.8952428596496134,
          0.8891425686610818,
          0.8900418874491767,
          0.8909953297503689,
          0.891253893304122,
          0.8941062421009638,
          0.8916832233401777,
          0.8952428596496134,
          0.8891425686610818,
          0.8900418874491767,
          0.8909953297503689,
          0.891253893304122,
          0.8941062421009638,
          0.8916832233401777,
          0.8952428596496134,
          0.8891425686610818,
          0.8900418874491767,
          0.8909953297503689,
          0.891253893304122,
          0.8941062421009638,
          0.8916832233401777,
          0.8952428596496134,
          0.8891425686610818,
          0.8900418874491767,
          0.8909953297503689,
          0.891253893304122,
          0.8941062421009638,
          0.8916832233401777,
          0.8952428596496134,
          0.8891425686610818,
          0.8900418874491767,
          0.8909953297503689,
          0.891253893304122,
          0.8941062421009638,
          0.8916832233401777,
          0.8952428596496134,
          0.8891425686610818,
          0.8900418874491767,
          0.8909953297503689,
          0.891253893304122,
          0.8941062421009638,
          0.8916832233401777,
          0.8952428596496134,
          0.8891425686610818,
          0.8900418874491767,
          0.8909953297503689,
          0.891253893304122,
          0.8941062421009638,
          0.8916832233401777,
          0.8952428596496134,
          0.8891425686610818,
          0.8900418874491767,
          0.8909953297503689,
          0.891253893304122,
          0.8941062421009638,
          0.8916832233401777,
          0.8952428596496134,
          0.8891425686610818,
          0.8900418874491767,
          0.8909953297503689,
          0.891253893304122,
          0.8941062421009638,
          0.8916832233401777,
          0.8952428596496134,
          0.8891425686610818,
          0.8900418874491767,
          0.8909953297503689,
          0.891253893304122,
          0.8941062421009638,
          0.8916832233401777,
          0.8952428596496134,
          0.8891425686610818,
          0.8900418874491767,
          0.8909953297503689,
          0.891253893304122,
          0.8941062421009638,
          0.8916832233401777,
          0.8952428596496134,
          0.8891425686610818,
          0.8900418874491767,
          0.8909953297503689,
          0.891253893304122,
          0.8941062421009638,
          0.8916832233401777,
          0.8952428596496134,
          0.8891425686610818,
          0.8900418874491767,
          0.8909953297503689,
          0.891253893304122,
          0.8941062421009638,
          0.8916832233401777,
          0.8952428596496134,
          0.8891425686610818,
          0.8900418874491767,
          0.8909953297503689,
          0.891253893304122,
          0.8941062421009638,
          0.8916832233401777,
          0.8952428596496134,
          0.8891425686610818,
          0.8900418874491767,
          0.8909953297503689,
          0.891253893304122,
          0.8941062421009638,
          0.8916832233401777,
          0.8952428596496134
         ],
         "yaxis": "y"
        }
       ],
       "layout": {
        "autosize": false,
        "height": 240,
        "legend": {
         "bordercolor": "#FFFFFF",
         "borderwidth": 0,
         "font": {
          "color": "#000",
          "family": "sans-serif",
          "size": 12
         },
         "orientation": "h",
         "traceorder": "normal"
        },
        "margin": {
         "b": 0,
         "l": 0,
         "r": 0,
         "t": 30
        },
        "paper_bgcolor": "#FFFFFF",
        "plot_bgcolor": "#E2E2E2",
        "showlegend": true,
        "template": {
         "data": {
          "bar": [
           {
            "error_x": {
             "color": "#2a3f5f"
            },
            "error_y": {
             "color": "#2a3f5f"
            },
            "marker": {
             "line": {
              "color": "#E5ECF6",
              "width": 0.5
             },
             "pattern": {
              "fillmode": "overlay",
              "size": 10,
              "solidity": 0.2
             }
            },
            "type": "bar"
           }
          ],
          "barpolar": [
           {
            "marker": {
             "line": {
              "color": "#E5ECF6",
              "width": 0.5
             },
             "pattern": {
              "fillmode": "overlay",
              "size": 10,
              "solidity": 0.2
             }
            },
            "type": "barpolar"
           }
          ],
          "carpet": [
           {
            "aaxis": {
             "endlinecolor": "#2a3f5f",
             "gridcolor": "white",
             "linecolor": "white",
             "minorgridcolor": "white",
             "startlinecolor": "#2a3f5f"
            },
            "baxis": {
             "endlinecolor": "#2a3f5f",
             "gridcolor": "white",
             "linecolor": "white",
             "minorgridcolor": "white",
             "startlinecolor": "#2a3f5f"
            },
            "type": "carpet"
           }
          ],
          "choropleth": [
           {
            "colorbar": {
             "outlinewidth": 0,
             "ticks": ""
            },
            "type": "choropleth"
           }
          ],
          "contour": [
           {
            "colorbar": {
             "outlinewidth": 0,
             "ticks": ""
            },
            "colorscale": [
             [
              0,
              "#0d0887"
             ],
             [
              0.1111111111111111,
              "#46039f"
             ],
             [
              0.2222222222222222,
              "#7201a8"
             ],
             [
              0.3333333333333333,
              "#9c179e"
             ],
             [
              0.4444444444444444,
              "#bd3786"
             ],
             [
              0.5555555555555556,
              "#d8576b"
             ],
             [
              0.6666666666666666,
              "#ed7953"
             ],
             [
              0.7777777777777778,
              "#fb9f3a"
             ],
             [
              0.8888888888888888,
              "#fdca26"
             ],
             [
              1,
              "#f0f921"
             ]
            ],
            "type": "contour"
           }
          ],
          "contourcarpet": [
           {
            "colorbar": {
             "outlinewidth": 0,
             "ticks": ""
            },
            "type": "contourcarpet"
           }
          ],
          "heatmap": [
           {
            "colorbar": {
             "outlinewidth": 0,
             "ticks": ""
            },
            "colorscale": [
             [
              0,
              "#0d0887"
             ],
             [
              0.1111111111111111,
              "#46039f"
             ],
             [
              0.2222222222222222,
              "#7201a8"
             ],
             [
              0.3333333333333333,
              "#9c179e"
             ],
             [
              0.4444444444444444,
              "#bd3786"
             ],
             [
              0.5555555555555556,
              "#d8576b"
             ],
             [
              0.6666666666666666,
              "#ed7953"
             ],
             [
              0.7777777777777778,
              "#fb9f3a"
             ],
             [
              0.8888888888888888,
              "#fdca26"
             ],
             [
              1,
              "#f0f921"
             ]
            ],
            "type": "heatmap"
           }
          ],
          "heatmapgl": [
           {
            "colorbar": {
             "outlinewidth": 0,
             "ticks": ""
            },
            "colorscale": [
             [
              0,
              "#0d0887"
             ],
             [
              0.1111111111111111,
              "#46039f"
             ],
             [
              0.2222222222222222,
              "#7201a8"
             ],
             [
              0.3333333333333333,
              "#9c179e"
             ],
             [
              0.4444444444444444,
              "#bd3786"
             ],
             [
              0.5555555555555556,
              "#d8576b"
             ],
             [
              0.6666666666666666,
              "#ed7953"
             ],
             [
              0.7777777777777778,
              "#fb9f3a"
             ],
             [
              0.8888888888888888,
              "#fdca26"
             ],
             [
              1,
              "#f0f921"
             ]
            ],
            "type": "heatmapgl"
           }
          ],
          "histogram": [
           {
            "marker": {
             "pattern": {
              "fillmode": "overlay",
              "size": 10,
              "solidity": 0.2
             }
            },
            "type": "histogram"
           }
          ],
          "histogram2d": [
           {
            "colorbar": {
             "outlinewidth": 0,
             "ticks": ""
            },
            "colorscale": [
             [
              0,
              "#0d0887"
             ],
             [
              0.1111111111111111,
              "#46039f"
             ],
             [
              0.2222222222222222,
              "#7201a8"
             ],
             [
              0.3333333333333333,
              "#9c179e"
             ],
             [
              0.4444444444444444,
              "#bd3786"
             ],
             [
              0.5555555555555556,
              "#d8576b"
             ],
             [
              0.6666666666666666,
              "#ed7953"
             ],
             [
              0.7777777777777778,
              "#fb9f3a"
             ],
             [
              0.8888888888888888,
              "#fdca26"
             ],
             [
              1,
              "#f0f921"
             ]
            ],
            "type": "histogram2d"
           }
          ],
          "histogram2dcontour": [
           {
            "colorbar": {
             "outlinewidth": 0,
             "ticks": ""
            },
            "colorscale": [
             [
              0,
              "#0d0887"
             ],
             [
              0.1111111111111111,
              "#46039f"
             ],
             [
              0.2222222222222222,
              "#7201a8"
             ],
             [
              0.3333333333333333,
              "#9c179e"
             ],
             [
              0.4444444444444444,
              "#bd3786"
             ],
             [
              0.5555555555555556,
              "#d8576b"
             ],
             [
              0.6666666666666666,
              "#ed7953"
             ],
             [
              0.7777777777777778,
              "#fb9f3a"
             ],
             [
              0.8888888888888888,
              "#fdca26"
             ],
             [
              1,
              "#f0f921"
             ]
            ],
            "type": "histogram2dcontour"
           }
          ],
          "mesh3d": [
           {
            "colorbar": {
             "outlinewidth": 0,
             "ticks": ""
            },
            "type": "mesh3d"
           }
          ],
          "parcoords": [
           {
            "line": {
             "colorbar": {
              "outlinewidth": 0,
              "ticks": ""
             }
            },
            "type": "parcoords"
           }
          ],
          "pie": [
           {
            "automargin": true,
            "type": "pie"
           }
          ],
          "scatter": [
           {
            "marker": {
             "colorbar": {
              "outlinewidth": 0,
              "ticks": ""
             }
            },
            "type": "scatter"
           }
          ],
          "scatter3d": [
           {
            "line": {
             "colorbar": {
              "outlinewidth": 0,
              "ticks": ""
             }
            },
            "marker": {
             "colorbar": {
              "outlinewidth": 0,
              "ticks": ""
             }
            },
            "type": "scatter3d"
           }
          ],
          "scattercarpet": [
           {
            "marker": {
             "colorbar": {
              "outlinewidth": 0,
              "ticks": ""
             }
            },
            "type": "scattercarpet"
           }
          ],
          "scattergeo": [
           {
            "marker": {
             "colorbar": {
              "outlinewidth": 0,
              "ticks": ""
             }
            },
            "type": "scattergeo"
           }
          ],
          "scattergl": [
           {
            "marker": {
             "colorbar": {
              "outlinewidth": 0,
              "ticks": ""
             }
            },
            "type": "scattergl"
           }
          ],
          "scattermapbox": [
           {
            "marker": {
             "colorbar": {
              "outlinewidth": 0,
              "ticks": ""
             }
            },
            "type": "scattermapbox"
           }
          ],
          "scatterpolar": [
           {
            "marker": {
             "colorbar": {
              "outlinewidth": 0,
              "ticks": ""
             }
            },
            "type": "scatterpolar"
           }
          ],
          "scatterpolargl": [
           {
            "marker": {
             "colorbar": {
              "outlinewidth": 0,
              "ticks": ""
             }
            },
            "type": "scatterpolargl"
           }
          ],
          "scatterternary": [
           {
            "marker": {
             "colorbar": {
              "outlinewidth": 0,
              "ticks": ""
             }
            },
            "type": "scatterternary"
           }
          ],
          "surface": [
           {
            "colorbar": {
             "outlinewidth": 0,
             "ticks": ""
            },
            "colorscale": [
             [
              0,
              "#0d0887"
             ],
             [
              0.1111111111111111,
              "#46039f"
             ],
             [
              0.2222222222222222,
              "#7201a8"
             ],
             [
              0.3333333333333333,
              "#9c179e"
             ],
             [
              0.4444444444444444,
              "#bd3786"
             ],
             [
              0.5555555555555556,
              "#d8576b"
             ],
             [
              0.6666666666666666,
              "#ed7953"
             ],
             [
              0.7777777777777778,
              "#fb9f3a"
             ],
             [
              0.8888888888888888,
              "#fdca26"
             ],
             [
              1,
              "#f0f921"
             ]
            ],
            "type": "surface"
           }
          ],
          "table": [
           {
            "cells": {
             "fill": {
              "color": "#EBF0F8"
             },
             "line": {
              "color": "white"
             }
            },
            "header": {
             "fill": {
              "color": "#C8D4E3"
             },
             "line": {
              "color": "white"
             }
            },
            "type": "table"
           }
          ]
         },
         "layout": {
          "annotationdefaults": {
           "arrowcolor": "#2a3f5f",
           "arrowhead": 0,
           "arrowwidth": 1
          },
          "autotypenumbers": "strict",
          "coloraxis": {
           "colorbar": {
            "outlinewidth": 0,
            "ticks": ""
           }
          },
          "colorscale": {
           "diverging": [
            [
             0,
             "#8e0152"
            ],
            [
             0.1,
             "#c51b7d"
            ],
            [
             0.2,
             "#de77ae"
            ],
            [
             0.3,
             "#f1b6da"
            ],
            [
             0.4,
             "#fde0ef"
            ],
            [
             0.5,
             "#f7f7f7"
            ],
            [
             0.6,
             "#e6f5d0"
            ],
            [
             0.7,
             "#b8e186"
            ],
            [
             0.8,
             "#7fbc41"
            ],
            [
             0.9,
             "#4d9221"
            ],
            [
             1,
             "#276419"
            ]
           ],
           "sequential": [
            [
             0,
             "#0d0887"
            ],
            [
             0.1111111111111111,
             "#46039f"
            ],
            [
             0.2222222222222222,
             "#7201a8"
            ],
            [
             0.3333333333333333,
             "#9c179e"
            ],
            [
             0.4444444444444444,
             "#bd3786"
            ],
            [
             0.5555555555555556,
             "#d8576b"
            ],
            [
             0.6666666666666666,
             "#ed7953"
            ],
            [
             0.7777777777777778,
             "#fb9f3a"
            ],
            [
             0.8888888888888888,
             "#fdca26"
            ],
            [
             1,
             "#f0f921"
            ]
           ],
           "sequentialminus": [
            [
             0,
             "#0d0887"
            ],
            [
             0.1111111111111111,
             "#46039f"
            ],
            [
             0.2222222222222222,
             "#7201a8"
            ],
            [
             0.3333333333333333,
             "#9c179e"
            ],
            [
             0.4444444444444444,
             "#bd3786"
            ],
            [
             0.5555555555555556,
             "#d8576b"
            ],
            [
             0.6666666666666666,
             "#ed7953"
            ],
            [
             0.7777777777777778,
             "#fb9f3a"
            ],
            [
             0.8888888888888888,
             "#fdca26"
            ],
            [
             1,
             "#f0f921"
            ]
           ]
          },
          "colorway": [
           "#636efa",
           "#EF553B",
           "#00cc96",
           "#ab63fa",
           "#FFA15A",
           "#19d3f3",
           "#FF6692",
           "#B6E880",
           "#FF97FF",
           "#FECB52"
          ],
          "font": {
           "color": "#2a3f5f"
          },
          "geo": {
           "bgcolor": "white",
           "lakecolor": "white",
           "landcolor": "#E5ECF6",
           "showlakes": true,
           "showland": true,
           "subunitcolor": "white"
          },
          "hoverlabel": {
           "align": "left"
          },
          "hovermode": "closest",
          "mapbox": {
           "style": "light"
          },
          "paper_bgcolor": "white",
          "plot_bgcolor": "#E5ECF6",
          "polar": {
           "angularaxis": {
            "gridcolor": "white",
            "linecolor": "white",
            "ticks": ""
           },
           "bgcolor": "#E5ECF6",
           "radialaxis": {
            "gridcolor": "white",
            "linecolor": "white",
            "ticks": ""
           }
          },
          "scene": {
           "xaxis": {
            "backgroundcolor": "#E5ECF6",
            "gridcolor": "white",
            "gridwidth": 2,
            "linecolor": "white",
            "showbackground": true,
            "ticks": "",
            "zerolinecolor": "white"
           },
           "yaxis": {
            "backgroundcolor": "#E5ECF6",
            "gridcolor": "white",
            "gridwidth": 2,
            "linecolor": "white",
            "showbackground": true,
            "ticks": "",
            "zerolinecolor": "white"
           },
           "zaxis": {
            "backgroundcolor": "#E5ECF6",
            "gridcolor": "white",
            "gridwidth": 2,
            "linecolor": "white",
            "showbackground": true,
            "ticks": "",
            "zerolinecolor": "white"
           }
          },
          "shapedefaults": {
           "line": {
            "color": "#2a3f5f"
           }
          },
          "ternary": {
           "aaxis": {
            "gridcolor": "white",
            "linecolor": "white",
            "ticks": ""
           },
           "baxis": {
            "gridcolor": "white",
            "linecolor": "white",
            "ticks": ""
           },
           "bgcolor": "#E5ECF6",
           "caxis": {
            "gridcolor": "white",
            "linecolor": "white",
            "ticks": ""
           }
          },
          "title": {
           "x": 0.05
          },
          "xaxis": {
           "automargin": true,
           "gridcolor": "white",
           "linecolor": "white",
           "ticks": "",
           "title": {
            "standoff": 15
           },
           "zerolinecolor": "white",
           "zerolinewidth": 2
          },
          "yaxis": {
           "automargin": true,
           "gridcolor": "white",
           "linecolor": "white",
           "ticks": "",
           "title": {
            "standoff": 15
           },
           "zerolinecolor": "white",
           "zerolinewidth": 2
          }
         }
        },
        "title": {
         "text": "covid prediction in brazil"
        },
        "width": 350,
        "xaxis": {
         "anchor": "y",
         "automargin": true,
         "domain": [
          0,
          1
         ],
         "tickfont": {
          "size": 10
         }
        },
        "yaxis": {
         "anchor": "x",
         "automargin": true,
         "domain": [
          0,
          1
         ],
         "tickfont": {
          "size": 10
         }
        }
       }
      },
      "text/html": [
       "<div>                            <div id=\"bcae9dc4-f91c-4ac6-91a8-2ff5f42e2ad5\" class=\"plotly-graph-div\" style=\"height:240px; width:350px;\"></div>            <script type=\"text/javascript\">                require([\"plotly\"], function(Plotly) {                    window.PLOTLYENV=window.PLOTLYENV || {};                                    if (document.getElementById(\"bcae9dc4-f91c-4ac6-91a8-2ff5f42e2ad5\")) {                    Plotly.newPlot(                        \"bcae9dc4-f91c-4ac6-91a8-2ff5f42e2ad5\",                        [{\"hovertemplate\":\"%{x|%Y-%m-%d} : %{y:.4g}\",\"legendgroup\":\"actuals\",\"line\":{\"color\":\"rgba(0,191,196,0.2)\"},\"marker\":{\"color\":\"rgba(0,191,196,0.9)\",\"size\":3},\"mode\":\"lines+markers\",\"name\":\"Actuals\",\"opacity\":0.8,\"showlegend\":true,\"x\":[\"2020-02-26T00:00:00\",\"2020-02-27T00:00:00\",\"2020-02-28T00:00:00\",\"2020-02-29T00:00:00\",\"2020-03-01T00:00:00\",\"2020-03-02T00:00:00\",\"2020-03-03T00:00:00\",\"2020-03-04T00:00:00\",\"2020-03-05T00:00:00\",\"2020-03-06T00:00:00\",\"2020-03-07T00:00:00\",\"2020-03-08T00:00:00\",\"2020-03-09T00:00:00\",\"2020-03-10T00:00:00\",\"2020-03-11T00:00:00\",\"2020-03-12T00:00:00\",\"2020-03-13T00:00:00\",\"2020-03-14T00:00:00\",\"2020-03-15T00:00:00\",\"2020-03-16T00:00:00\",\"2020-03-17T00:00:00\",\"2020-03-18T00:00:00\",\"2020-03-19T00:00:00\",\"2020-03-20T00:00:00\",\"2020-03-21T00:00:00\",\"2020-03-22T00:00:00\",\"2020-03-23T00:00:00\",\"2020-03-24T00:00:00\",\"2020-03-25T00:00:00\",\"2020-03-26T00:00:00\",\"2020-03-27T00:00:00\",\"2020-03-28T00:00:00\",\"2020-03-29T00:00:00\",\"2020-03-30T00:00:00\",\"2020-03-31T00:00:00\",\"2020-04-01T00:00:00\",\"2020-04-02T00:00:00\",\"2020-04-03T00:00:00\",\"2020-04-04T00:00:00\",\"2020-04-05T00:00:00\",\"2020-04-06T00:00:00\",\"2020-04-07T00:00:00\",\"2020-04-08T00:00:00\",\"2020-04-09T00:00:00\",\"2020-04-10T00:00:00\",\"2020-04-11T00:00:00\",\"2020-04-12T00:00:00\",\"2020-04-13T00:00:00\",\"2020-04-14T00:00:00\",\"2020-04-15T00:00:00\",\"2020-04-16T00:00:00\",\"2020-04-17T00:00:00\",\"2020-04-18T00:00:00\",\"2020-04-19T00:00:00\",\"2020-04-20T00:00:00\",\"2020-04-21T00:00:00\",\"2020-04-22T00:00:00\",\"2020-04-23T00:00:00\",\"2020-04-24T00:00:00\",\"2020-04-25T00:00:00\",\"2020-04-26T00:00:00\",\"2020-04-27T00:00:00\",\"2020-04-28T00:00:00\",\"2020-04-29T00:00:00\",\"2020-04-30T00:00:00\",\"2020-05-01T00:00:00\",\"2020-05-02T00:00:00\",\"2020-05-03T00:00:00\",\"2020-05-04T00:00:00\",\"2020-05-05T00:00:00\",\"2020-05-06T00:00:00\",\"2020-05-07T00:00:00\",\"2020-05-08T00:00:00\",\"2020-05-09T00:00:00\",\"2020-05-10T00:00:00\",\"2020-05-11T00:00:00\",\"2020-05-12T00:00:00\",\"2020-05-13T00:00:00\",\"2020-05-14T00:00:00\",\"2020-05-15T00:00:00\",\"2020-05-16T00:00:00\",\"2020-05-17T00:00:00\",\"2020-05-18T00:00:00\",\"2020-05-19T00:00:00\",\"2020-05-20T00:00:00\",\"2020-05-21T00:00:00\",\"2020-05-22T00:00:00\",\"2020-05-23T00:00:00\",\"2020-05-24T00:00:00\",\"2020-05-25T00:00:00\",\"2020-05-26T00:00:00\",\"2020-05-27T00:00:00\",\"2020-05-28T00:00:00\",\"2020-05-29T00:00:00\",\"2020-05-30T00:00:00\",\"2020-05-31T00:00:00\",\"2020-06-01T00:00:00\",\"2020-06-02T00:00:00\",\"2020-06-03T00:00:00\",\"2020-06-04T00:00:00\",\"2020-06-05T00:00:00\",\"2020-06-06T00:00:00\",\"2020-06-07T00:00:00\",\"2020-06-08T00:00:00\",\"2020-06-09T00:00:00\",\"2020-06-10T00:00:00\",\"2020-06-11T00:00:00\",\"2020-06-12T00:00:00\",\"2020-06-13T00:00:00\",\"2020-06-14T00:00:00\",\"2020-06-15T00:00:00\",\"2020-06-16T00:00:00\",\"2020-06-17T00:00:00\",\"2020-06-18T00:00:00\",\"2020-06-19T00:00:00\",\"2020-06-20T00:00:00\",\"2020-06-21T00:00:00\",\"2020-06-22T00:00:00\",\"2020-06-23T00:00:00\",\"2020-06-24T00:00:00\",\"2020-06-25T00:00:00\",\"2020-06-26T00:00:00\",\"2020-06-27T00:00:00\",\"2020-06-28T00:00:00\",\"2020-06-29T00:00:00\",\"2020-06-30T00:00:00\",\"2020-07-01T00:00:00\",\"2020-07-02T00:00:00\",\"2020-07-03T00:00:00\",\"2020-07-04T00:00:00\",\"2020-07-05T00:00:00\",\"2020-07-06T00:00:00\",\"2020-07-07T00:00:00\",\"2020-07-08T00:00:00\",\"2020-07-09T00:00:00\",\"2020-07-10T00:00:00\",\"2020-07-11T00:00:00\",\"2020-07-12T00:00:00\",\"2020-07-13T00:00:00\",\"2020-07-14T00:00:00\",\"2020-07-15T00:00:00\",\"2020-07-16T00:00:00\",\"2020-07-17T00:00:00\",\"2020-07-18T00:00:00\",\"2020-07-19T00:00:00\",\"2020-07-20T00:00:00\",\"2020-07-21T00:00:00\",\"2020-07-22T00:00:00\",\"2020-07-23T00:00:00\",\"2020-07-24T00:00:00\",\"2020-07-25T00:00:00\",\"2020-07-26T00:00:00\",\"2020-07-27T00:00:00\",\"2020-07-28T00:00:00\",\"2020-07-29T00:00:00\",\"2020-07-30T00:00:00\",\"2020-07-31T00:00:00\",\"2020-08-01T00:00:00\",\"2020-08-02T00:00:00\",\"2020-08-03T00:00:00\",\"2020-08-04T00:00:00\",\"2020-08-05T00:00:00\",\"2020-08-06T00:00:00\",\"2020-08-07T00:00:00\",\"2020-08-08T00:00:00\",\"2020-08-09T00:00:00\",\"2020-08-10T00:00:00\",\"2020-08-11T00:00:00\",\"2020-08-12T00:00:00\",\"2020-08-13T00:00:00\",\"2020-08-14T00:00:00\",\"2020-08-15T00:00:00\",\"2020-08-16T00:00:00\",\"2020-08-17T00:00:00\",\"2020-08-18T00:00:00\",\"2020-08-19T00:00:00\",\"2020-08-20T00:00:00\",\"2020-08-21T00:00:00\",\"2020-08-22T00:00:00\",\"2020-08-23T00:00:00\",\"2020-08-24T00:00:00\",\"2020-08-25T00:00:00\",\"2020-08-26T00:00:00\",\"2020-08-27T00:00:00\",\"2020-08-28T00:00:00\",\"2020-08-29T00:00:00\",\"2020-08-30T00:00:00\",\"2020-08-31T00:00:00\",\"2020-09-01T00:00:00\",\"2020-09-02T00:00:00\",\"2020-09-03T00:00:00\",\"2020-09-04T00:00:00\",\"2020-09-05T00:00:00\",\"2020-09-06T00:00:00\",\"2020-09-07T00:00:00\",\"2020-09-08T00:00:00\",\"2020-09-09T00:00:00\",\"2020-09-10T00:00:00\",\"2020-09-11T00:00:00\",\"2020-09-12T00:00:00\",\"2020-09-13T00:00:00\",\"2020-09-14T00:00:00\",\"2020-09-15T00:00:00\",\"2020-09-16T00:00:00\",\"2020-09-17T00:00:00\",\"2020-09-18T00:00:00\",\"2020-09-19T00:00:00\",\"2020-09-20T00:00:00\",\"2020-09-21T00:00:00\",\"2020-09-22T00:00:00\",\"2020-09-23T00:00:00\",\"2020-09-24T00:00:00\",\"2020-09-25T00:00:00\",\"2020-09-26T00:00:00\",\"2020-09-27T00:00:00\",\"2020-09-28T00:00:00\",\"2020-09-29T00:00:00\",\"2020-09-30T00:00:00\",\"2020-10-01T00:00:00\",\"2020-10-02T00:00:00\",\"2020-10-03T00:00:00\",\"2020-10-04T00:00:00\",\"2020-10-05T00:00:00\",\"2020-10-06T00:00:00\",\"2020-10-07T00:00:00\",\"2020-10-08T00:00:00\",\"2020-10-09T00:00:00\",\"2020-10-10T00:00:00\",\"2020-10-11T00:00:00\",\"2020-10-12T00:00:00\",\"2020-10-13T00:00:00\",\"2020-10-14T00:00:00\",\"2020-10-15T00:00:00\",\"2020-10-16T00:00:00\",\"2020-10-17T00:00:00\",\"2020-10-18T00:00:00\",\"2020-10-19T00:00:00\",\"2020-10-20T00:00:00\",\"2020-10-21T00:00:00\",\"2020-10-22T00:00:00\",\"2020-10-23T00:00:00\",\"2020-10-24T00:00:00\",\"2020-10-25T00:00:00\",\"2020-10-26T00:00:00\",\"2020-10-27T00:00:00\",\"2020-10-28T00:00:00\",\"2020-10-29T00:00:00\",\"2020-10-30T00:00:00\",\"2020-10-31T00:00:00\",\"2020-11-01T00:00:00\",\"2020-11-02T00:00:00\",\"2020-11-03T00:00:00\",\"2020-11-04T00:00:00\",\"2020-11-05T00:00:00\",\"2020-11-06T00:00:00\",\"2020-11-07T00:00:00\",\"2020-11-08T00:00:00\",\"2020-11-09T00:00:00\",\"2020-11-10T00:00:00\",\"2020-11-11T00:00:00\",\"2020-11-12T00:00:00\",\"2020-11-13T00:00:00\",\"2020-11-14T00:00:00\",\"2020-11-15T00:00:00\",\"2020-11-16T00:00:00\",\"2020-11-17T00:00:00\",\"2020-11-18T00:00:00\",\"2020-11-19T00:00:00\",\"2020-11-20T00:00:00\",\"2020-11-21T00:00:00\",\"2020-11-22T00:00:00\",\"2020-11-23T00:00:00\",\"2020-11-24T00:00:00\",\"2020-11-25T00:00:00\",\"2020-11-26T00:00:00\",\"2020-11-27T00:00:00\",\"2020-11-28T00:00:00\",\"2020-11-29T00:00:00\",\"2020-11-30T00:00:00\",\"2020-12-01T00:00:00\",\"2020-12-02T00:00:00\",\"2020-12-03T00:00:00\",\"2020-12-04T00:00:00\",\"2020-12-05T00:00:00\",\"2020-12-06T00:00:00\",\"2020-12-07T00:00:00\",\"2020-12-08T00:00:00\",\"2020-12-09T00:00:00\",\"2020-12-10T00:00:00\",\"2020-12-11T00:00:00\",\"2020-12-12T00:00:00\",\"2020-12-13T00:00:00\",\"2020-12-14T00:00:00\",\"2020-12-15T00:00:00\",\"2020-12-16T00:00:00\",\"2020-12-17T00:00:00\",\"2020-12-18T00:00:00\",\"2020-12-19T00:00:00\",\"2020-12-20T00:00:00\",\"2020-12-21T00:00:00\",\"2020-12-22T00:00:00\",\"2020-12-23T00:00:00\",\"2020-12-24T00:00:00\",\"2020-12-25T00:00:00\",\"2020-12-26T00:00:00\",\"2020-12-27T00:00:00\",\"2020-12-28T00:00:00\",\"2020-12-29T00:00:00\",\"2020-12-30T00:00:00\",\"2020-12-31T00:00:00\",\"2021-01-01T00:00:00\",\"2021-01-02T00:00:00\",\"2021-01-03T00:00:00\",\"2021-01-04T00:00:00\",\"2021-01-05T00:00:00\",\"2021-01-06T00:00:00\",\"2021-01-07T00:00:00\",\"2021-01-08T00:00:00\",\"2021-01-09T00:00:00\",\"2021-01-10T00:00:00\",\"2021-01-11T00:00:00\",\"2021-01-12T00:00:00\",\"2021-01-13T00:00:00\",\"2021-01-14T00:00:00\",\"2021-01-15T00:00:00\",\"2021-01-16T00:00:00\",\"2021-01-17T00:00:00\",\"2021-01-18T00:00:00\",\"2021-01-19T00:00:00\",\"2021-01-20T00:00:00\",\"2021-01-21T00:00:00\",\"2021-01-22T00:00:00\",\"2021-01-23T00:00:00\",\"2021-01-24T00:00:00\",\"2021-01-25T00:00:00\",\"2021-01-26T00:00:00\",\"2021-01-27T00:00:00\",\"2021-01-28T00:00:00\",\"2021-01-29T00:00:00\",\"2021-01-30T00:00:00\",\"2021-01-31T00:00:00\",\"2021-02-01T00:00:00\",\"2021-02-02T00:00:00\",\"2021-02-03T00:00:00\",\"2021-02-04T00:00:00\",\"2021-02-05T00:00:00\",\"2021-02-06T00:00:00\",\"2021-02-07T00:00:00\",\"2021-02-08T00:00:00\",\"2021-02-09T00:00:00\",\"2021-02-10T00:00:00\",\"2021-02-11T00:00:00\",\"2021-02-12T00:00:00\",\"2021-02-13T00:00:00\",\"2021-02-14T00:00:00\",\"2021-02-15T00:00:00\",\"2021-02-16T00:00:00\",\"2021-02-17T00:00:00\"],\"xaxis\":\"x\",\"y\":[0.0,0.0,0.0,0.0,0.0,0.0,0.0,0.0,0.0,0.0,0.0,0.0,0.0,0.0,0.0,0.0,0.0,0.0,0.0,0.005,0.006230529595015576,0.005376344086021506,0.00322061191626409,0.0025220680958385876,0.0019588638589618022,0.00129366106080207,0.0010395010395010396,0.0008900756564307966,0.0007830853563038371,0.0020100502512562816,0.001755926251097454,0.0015368852459016393,0.0014097744360902255,0.0262065953264905,0.02221444813713486,0.01857811585722645,0.015788165091994034,0.014023851590106008,0.012258687258687258,0.011410601976639713,0.010443220129923526,0.009049451332478267,0.007854050711193569,0.009562237453017909,0.008809451064263164,0.008346601051768225,0.0077956020187454934,0.007383696116090482,0.12057635974982187,0.4952683615819209,0.4610024650780608,0.4164242028383113,0.3826177096404605,0.5725151342681223,0.543160788356282,0.533693911186425,0.553314247000459,0.5310776241106403,0.5117221471790981,0.4915379947407457,0.4778446909667195,0.46173234884203657,0.4443776882638083,0.4283365752651064,0.41216006973516695,0.4125615496410056,0.42159629248197733,0.42220061673835757,0.4217915669305837,0.4176605603914945,0.40573093964979345,0.4076657361920264,0.40367203561752013,0.39526210904710335,0.39924646125667645,0.39732537707701926,0.4073585689115333,0.4124604890158149,0.3912041936357148,0.38571707423362733,0.3840161705444283,0.39041811846689894,0.39338914820964255,0.39279106975375616,0.4001762815566279,0.4062085801726612,0.4092900964066608,0.41044277744834456,0.41273805033437866,0.41033294389407254,0.4053785318821539,0.4046588202155791,0.4052683701550299,0.40732985643834674,0.40304148944707485,0.4011953019234766,0.4009520426557659,0.4026734703799,0.4085795594641243,0.4146137596940194,0.4133663481326972,0.41190554748040414,0.41047880906328515,0.534705376781847,0.5364914003053403,0.5358718617946806,0.5355630346724329,0.537062776752211,0.5401862873509431,0.5407192516574,0.5377964607647892,0.530774305153116,0.5453826081222387,0.546525964532757,0.5340536908723194,0.5402682143429198,0.5428743119664077,0.5438339945954251,0.5480056828396046,0.5556552033389672,0.5533069405608926,0.5509124107628861,0.5539569769203306,0.5550138638522836,0.5538764576686803,0.5622645842739263,0.5643763981851979,0.6398015042175009,0.6397421578201538,0.6282361997813576,0.6419274447851134,0.6545632187590095,0.6634419860133323,0.665345910481216,0.6671950171405399,0.6760010817252295,0.6761899067858793,0.6783160229551328,0.6850257855973075,0.6868427007344728,0.6864621191937147,0.6945457870706523,0.6980894558448109,0.6975930906181622,0.6953296076180346,0.7147489481489593,0.7201797139727012,0.7146868661655998,0.7083412933474683,0.7225563569668588,0.7456042209835569,0.7494190999842503,0.7560841394134807,0.7525595091154889,0.753370829439733,0.7497051839353405,0.7545034056529896,0.75261247095049,0.7546158525678052,0.763175749131555,0.7700017238173382,0.7661088051966494,0.7659270684963869,0.7670357765654147,0.7706572009406416,0.7764926919551878,0.7819635188570943,0.7876621977534305,0.7919109828945726,0.7817664927271623,0.7989513115474794,0.7907151315488005,0.7948683865053469,0.8034004351747396,0.8074435471042927,0.8105909996146561,0.8122039706165807,0.8084063493501457,0.8134203076071039,0.8175156408469395,0.8215208919138769,0.8263093001489102,0.8292487589974701,0.830237005405713,0.830209343295829,0.8325682831650223,0.8382584934253093,0.8363263866997999,0.8466966393490547,0.8472794854253458,0.8485260184113471,0.8466389250112604,0.8486536502546689,0.8512718122759981,0.8556840093794437,0.8583273287133599,0.8603448066397182,0.8629816210941463,0.862918374915113,0.8627145573810149,0.8597724719457887,0.8675739424384609,0.8697572464272455,0.8701950155722352,0.8694945847565172,0.8670479043900994,0.8694090860908432,0.8721165138012366,0.8761292134338444,0.8748665973771629,0.8813997321928734,0.8808966309995787,0.8803476960678845,0.8803126161113914,0.8817494800107094,0.8845019159348801,0.8868932471687205,0.888553680313702,0.8870594987675084,0.8870594987675084,0.888782642490584,0.8901519320634046,0.8925659117131617,0.891570595400694,0.8913106860767726,0.8925409132526881,0.8906158522498916,0.8859287019710438,0.8884026803643351,0.8869353577060662,0.8851627455106238,0.8804733757736785,0.8756152084599602,0.8704099763475184,0.8664011031394838,0.8664011031394838,0.8620507217381517,0.8582541675562585,0.8542343395790571,0.8502456030941293,0.8454769974014019,0.841237697781024,0.8391334058072036,0.8366941141110278,0.9035031907436538,0.9048157826881262,0.9032097548475022,0.9040681876599928,0.9041759663126253,0.9056266065360491,0.9073192459912361,0.9092081295008362,0.9084327887621254,0.9084327887621254,0.9088956650478826,0.9089211206883591,0.9087336680134496,0.9098144292402228,0.9096272068545299,0.9087066736724162,0.9088268574241445,0.9077831541107607,0.9026310493884467,0.9004551010874294,0.9079436205173723,0.9063799634558789,0.905402239444695,0.9037573680151701,0.9021176167293782,0.8982952643625597,0.8989643411792435,0.9003838617729657,0.9004588877259709,0.8974158556586881,0.8956624684488944,0.8946974760954419,0.8873123451577293,0.8838742371023985,0.8835084892733098,0.8943941609450886,0.8947657554783932,0.8929341750469086,0.8916090498147526,0.8916953276458882,0.8884109129345775,0.8903389553392248,0.8937068005553259,0.8866999422749839,0.8910937938443767,0.8891289010736478,0.8834556396996741,0.8893641972589783,0.888973595904229,0.8904523277791758,0.8861723305714506,0.8862394334860573,0.8827271282977555,0.8857341898240091,0.8853254773022408,0.8906455583642259,0.8883044140579474,0.8842172246700402,0.8772582501621442,0.8743592050006981,0.8912887637316051,0.89216738806713,0.8944578780100769,0.8929814844905521,0.8943316883662327,0.8922444099269239,0.8902412260482265,0.8933248060463389,0.8927332239770999,0.8963460528528641,0.8955808921438082,0.8932483937296081,0.8894513753579179,0.8905761228135589,0.8922005676573966,0.8921198303928426,0.8944397494617303,0.8888808764956281,0.8898501744557281,0.8883322717818473,0.8861716911149734,0.8853661458778703,0.8846514396215218,0.8882359368263005,0.8885235408445947,0.8819009500652273,0.8822314980807987,0.8849646786810937,0.8819990894091754,0.8843131785725875,0.8865540056674301,0.8839108169427032,0.8852157126540368,0.8808686071171241,0.8846401820121329,0.887947390071347,0.8882794076220153,0.8887276876893015,0.8895510252796976,0.8899782855894691,0.8903720860982092,0.8887478942095327,0.8922244927446488,0.8890605839170824,0.8901982647113171,0.8934995491983231,0.8920315799488714,0.8891425686610818,0.8900418874491767,0.8909953297503689,0.891253893304122,0.8941062421009638,0.8916832233401777,0.8952428596496134],\"yaxis\":\"y\",\"type\":\"scatter\"},{\"hovertemplate\":\"%{x|%Y-%m-%d} : %{y:.4g}\",\"legendgroup\":\"forecast\",\"line\":{\"color\":\"rgba(248,118,109,0.4)\",\"width\":1},\"marker\":{\"color\":\"rgba(248,118,109,0.9)\",\"size\":3},\"mode\":\"lines+markers\",\"name\":\"Forecast\",\"showlegend\":true,\"x\":[\"2020-03-04T00:00:00\",\"2020-03-05T00:00:00\",\"2020-03-06T00:00:00\",\"2020-03-07T00:00:00\",\"2020-03-08T00:00:00\",\"2020-03-09T00:00:00\",\"2020-03-10T00:00:00\",\"2020-03-11T00:00:00\",\"2020-03-12T00:00:00\",\"2020-03-13T00:00:00\",\"2020-03-14T00:00:00\",\"2020-03-15T00:00:00\",\"2020-03-16T00:00:00\",\"2020-03-17T00:00:00\",\"2020-03-18T00:00:00\",\"2020-03-19T00:00:00\",\"2020-03-20T00:00:00\",\"2020-03-21T00:00:00\",\"2020-03-22T00:00:00\",\"2020-03-23T00:00:00\",\"2020-03-24T00:00:00\",\"2020-03-25T00:00:00\",\"2020-03-26T00:00:00\",\"2020-03-27T00:00:00\",\"2020-03-28T00:00:00\",\"2020-03-29T00:00:00\",\"2020-03-30T00:00:00\",\"2020-03-31T00:00:00\",\"2020-04-01T00:00:00\",\"2020-04-02T00:00:00\",\"2020-04-03T00:00:00\",\"2020-04-04T00:00:00\",\"2020-04-05T00:00:00\",\"2020-04-06T00:00:00\",\"2020-04-07T00:00:00\",\"2020-04-08T00:00:00\",\"2020-04-09T00:00:00\",\"2020-04-10T00:00:00\",\"2020-04-11T00:00:00\",\"2020-04-12T00:00:00\",\"2020-04-13T00:00:00\",\"2020-04-14T00:00:00\",\"2020-04-15T00:00:00\",\"2020-04-16T00:00:00\",\"2020-04-17T00:00:00\",\"2020-04-18T00:00:00\",\"2020-04-19T00:00:00\",\"2020-04-20T00:00:00\",\"2020-04-21T00:00:00\",\"2020-04-22T00:00:00\",\"2020-04-23T00:00:00\",\"2020-04-24T00:00:00\",\"2020-04-25T00:00:00\",\"2020-04-26T00:00:00\",\"2020-04-27T00:00:00\",\"2020-04-28T00:00:00\",\"2020-04-29T00:00:00\",\"2020-04-30T00:00:00\",\"2020-05-01T00:00:00\",\"2020-05-02T00:00:00\",\"2020-05-03T00:00:00\",\"2020-05-04T00:00:00\",\"2020-05-05T00:00:00\",\"2020-05-06T00:00:00\",\"2020-05-07T00:00:00\",\"2020-05-08T00:00:00\",\"2020-05-09T00:00:00\",\"2020-05-10T00:00:00\",\"2020-05-11T00:00:00\",\"2020-05-12T00:00:00\",\"2020-05-13T00:00:00\",\"2020-05-14T00:00:00\",\"2020-05-15T00:00:00\",\"2020-05-16T00:00:00\",\"2020-05-17T00:00:00\",\"2020-05-18T00:00:00\",\"2020-05-19T00:00:00\",\"2020-05-20T00:00:00\",\"2020-05-21T00:00:00\",\"2020-05-22T00:00:00\",\"2020-05-23T00:00:00\",\"2020-05-24T00:00:00\",\"2020-05-25T00:00:00\",\"2020-05-26T00:00:00\",\"2020-05-27T00:00:00\",\"2020-05-28T00:00:00\",\"2020-05-29T00:00:00\",\"2020-05-30T00:00:00\",\"2020-05-31T00:00:00\",\"2020-06-01T00:00:00\",\"2020-06-02T00:00:00\",\"2020-06-03T00:00:00\",\"2020-06-04T00:00:00\",\"2020-06-05T00:00:00\",\"2020-06-06T00:00:00\",\"2020-06-07T00:00:00\",\"2020-06-08T00:00:00\",\"2020-06-09T00:00:00\",\"2020-06-10T00:00:00\",\"2020-06-11T00:00:00\",\"2020-06-12T00:00:00\",\"2020-06-13T00:00:00\",\"2020-06-14T00:00:00\",\"2020-06-15T00:00:00\",\"2020-06-16T00:00:00\",\"2020-06-17T00:00:00\",\"2020-06-18T00:00:00\",\"2020-06-19T00:00:00\",\"2020-06-20T00:00:00\",\"2020-06-21T00:00:00\",\"2020-06-22T00:00:00\",\"2020-06-23T00:00:00\",\"2020-06-24T00:00:00\",\"2020-06-25T00:00:00\",\"2020-06-26T00:00:00\",\"2020-06-27T00:00:00\",\"2020-06-28T00:00:00\",\"2020-06-29T00:00:00\",\"2020-06-30T00:00:00\",\"2020-07-01T00:00:00\",\"2020-07-02T00:00:00\",\"2020-07-03T00:00:00\",\"2020-07-04T00:00:00\",\"2020-07-05T00:00:00\",\"2020-07-06T00:00:00\",\"2020-07-07T00:00:00\",\"2020-07-08T00:00:00\",\"2020-07-09T00:00:00\",\"2020-07-10T00:00:00\",\"2020-07-11T00:00:00\",\"2020-07-12T00:00:00\",\"2020-07-13T00:00:00\",\"2020-07-14T00:00:00\",\"2020-07-15T00:00:00\",\"2020-07-16T00:00:00\",\"2020-07-17T00:00:00\",\"2020-07-18T00:00:00\",\"2020-07-19T00:00:00\",\"2020-07-20T00:00:00\",\"2020-07-21T00:00:00\",\"2020-07-22T00:00:00\",\"2020-07-23T00:00:00\",\"2020-07-24T00:00:00\",\"2020-07-25T00:00:00\",\"2020-07-26T00:00:00\",\"2020-07-27T00:00:00\",\"2020-07-28T00:00:00\",\"2020-07-29T00:00:00\",\"2020-07-30T00:00:00\",\"2020-07-31T00:00:00\",\"2020-08-01T00:00:00\",\"2020-08-02T00:00:00\",\"2020-08-03T00:00:00\",\"2020-08-04T00:00:00\",\"2020-08-05T00:00:00\",\"2020-08-06T00:00:00\",\"2020-08-07T00:00:00\",\"2020-08-08T00:00:00\",\"2020-08-09T00:00:00\",\"2020-08-10T00:00:00\",\"2020-08-11T00:00:00\",\"2020-08-12T00:00:00\",\"2020-08-13T00:00:00\",\"2020-08-14T00:00:00\",\"2020-08-15T00:00:00\",\"2020-08-16T00:00:00\",\"2020-08-17T00:00:00\",\"2020-08-18T00:00:00\",\"2020-08-19T00:00:00\",\"2020-08-20T00:00:00\",\"2020-08-21T00:00:00\",\"2020-08-22T00:00:00\",\"2020-08-23T00:00:00\",\"2020-08-24T00:00:00\",\"2020-08-25T00:00:00\",\"2020-08-26T00:00:00\",\"2020-08-27T00:00:00\",\"2020-08-28T00:00:00\",\"2020-08-29T00:00:00\",\"2020-08-30T00:00:00\",\"2020-08-31T00:00:00\",\"2020-09-01T00:00:00\",\"2020-09-02T00:00:00\",\"2020-09-03T00:00:00\",\"2020-09-04T00:00:00\",\"2020-09-05T00:00:00\",\"2020-09-06T00:00:00\",\"2020-09-07T00:00:00\",\"2020-09-08T00:00:00\",\"2020-09-09T00:00:00\",\"2020-09-10T00:00:00\",\"2020-09-11T00:00:00\",\"2020-09-12T00:00:00\",\"2020-09-13T00:00:00\",\"2020-09-14T00:00:00\",\"2020-09-15T00:00:00\",\"2020-09-16T00:00:00\",\"2020-09-17T00:00:00\",\"2020-09-18T00:00:00\",\"2020-09-19T00:00:00\",\"2020-09-20T00:00:00\",\"2020-09-21T00:00:00\",\"2020-09-22T00:00:00\",\"2020-09-23T00:00:00\",\"2020-09-24T00:00:00\",\"2020-09-25T00:00:00\",\"2020-09-26T00:00:00\",\"2020-09-27T00:00:00\",\"2020-09-28T00:00:00\",\"2020-09-29T00:00:00\",\"2020-09-30T00:00:00\",\"2020-10-01T00:00:00\",\"2020-10-02T00:00:00\",\"2020-10-03T00:00:00\",\"2020-10-04T00:00:00\",\"2020-10-05T00:00:00\",\"2020-10-06T00:00:00\",\"2020-10-07T00:00:00\",\"2020-10-08T00:00:00\",\"2020-10-09T00:00:00\",\"2020-10-10T00:00:00\",\"2020-10-11T00:00:00\",\"2020-10-12T00:00:00\",\"2020-10-13T00:00:00\",\"2020-10-14T00:00:00\",\"2020-10-15T00:00:00\",\"2020-10-16T00:00:00\",\"2020-10-17T00:00:00\",\"2020-10-18T00:00:00\",\"2020-10-19T00:00:00\",\"2020-10-20T00:00:00\",\"2020-10-21T00:00:00\",\"2020-10-22T00:00:00\",\"2020-10-23T00:00:00\",\"2020-10-24T00:00:00\",\"2020-10-25T00:00:00\",\"2020-10-26T00:00:00\",\"2020-10-27T00:00:00\",\"2020-10-28T00:00:00\",\"2020-10-29T00:00:00\",\"2020-10-30T00:00:00\",\"2020-10-31T00:00:00\",\"2020-11-01T00:00:00\",\"2020-11-02T00:00:00\",\"2020-11-03T00:00:00\",\"2020-11-04T00:00:00\",\"2020-11-05T00:00:00\",\"2020-11-06T00:00:00\",\"2020-11-07T00:00:00\",\"2020-11-08T00:00:00\",\"2020-11-09T00:00:00\",\"2020-11-10T00:00:00\",\"2020-11-11T00:00:00\",\"2020-11-12T00:00:00\",\"2020-11-13T00:00:00\",\"2020-11-14T00:00:00\",\"2020-11-15T00:00:00\",\"2020-11-16T00:00:00\",\"2020-11-17T00:00:00\",\"2020-11-18T00:00:00\",\"2020-11-19T00:00:00\",\"2020-11-20T00:00:00\",\"2020-11-21T00:00:00\",\"2020-11-22T00:00:00\",\"2020-11-23T00:00:00\",\"2020-11-24T00:00:00\",\"2020-11-25T00:00:00\",\"2020-11-26T00:00:00\",\"2020-11-27T00:00:00\",\"2020-11-28T00:00:00\",\"2020-11-29T00:00:00\",\"2020-11-30T00:00:00\",\"2020-12-01T00:00:00\",\"2020-12-02T00:00:00\",\"2020-12-03T00:00:00\",\"2020-12-04T00:00:00\",\"2020-12-05T00:00:00\",\"2020-12-06T00:00:00\",\"2020-12-07T00:00:00\",\"2020-12-08T00:00:00\",\"2020-12-09T00:00:00\",\"2020-12-10T00:00:00\",\"2020-12-11T00:00:00\",\"2020-12-12T00:00:00\",\"2020-12-13T00:00:00\",\"2020-12-14T00:00:00\",\"2020-12-15T00:00:00\",\"2020-12-16T00:00:00\",\"2020-12-17T00:00:00\",\"2020-12-18T00:00:00\",\"2020-12-19T00:00:00\",\"2020-12-20T00:00:00\",\"2020-12-21T00:00:00\",\"2020-12-22T00:00:00\",\"2020-12-23T00:00:00\",\"2020-12-24T00:00:00\",\"2020-12-25T00:00:00\",\"2020-12-26T00:00:00\",\"2020-12-27T00:00:00\",\"2020-12-28T00:00:00\",\"2020-12-29T00:00:00\",\"2020-12-30T00:00:00\",\"2020-12-31T00:00:00\",\"2021-01-01T00:00:00\",\"2021-01-02T00:00:00\",\"2021-01-03T00:00:00\",\"2021-01-04T00:00:00\",\"2021-01-05T00:00:00\",\"2021-01-06T00:00:00\",\"2021-01-07T00:00:00\",\"2021-01-08T00:00:00\",\"2021-01-09T00:00:00\",\"2021-01-10T00:00:00\",\"2021-01-11T00:00:00\",\"2021-01-12T00:00:00\",\"2021-01-13T00:00:00\",\"2021-01-14T00:00:00\",\"2021-01-15T00:00:00\",\"2021-01-16T00:00:00\",\"2021-01-17T00:00:00\",\"2021-01-18T00:00:00\",\"2021-01-19T00:00:00\",\"2021-01-20T00:00:00\",\"2021-01-21T00:00:00\",\"2021-01-22T00:00:00\",\"2021-01-23T00:00:00\",\"2021-01-24T00:00:00\",\"2021-01-25T00:00:00\",\"2021-01-26T00:00:00\",\"2021-01-27T00:00:00\",\"2021-01-28T00:00:00\",\"2021-01-29T00:00:00\",\"2021-01-30T00:00:00\",\"2021-01-31T00:00:00\",\"2021-02-01T00:00:00\",\"2021-02-02T00:00:00\",\"2021-02-03T00:00:00\",\"2021-02-04T00:00:00\",\"2021-02-05T00:00:00\",\"2021-02-06T00:00:00\",\"2021-02-07T00:00:00\",\"2021-02-08T00:00:00\",\"2021-02-09T00:00:00\",\"2021-02-10T00:00:00\",\"2021-02-11T00:00:00\",\"2021-02-12T00:00:00\",\"2021-02-13T00:00:00\",\"2021-02-14T00:00:00\",\"2021-02-15T00:00:00\",\"2021-02-16T00:00:00\",\"2021-02-17T00:00:00\",\"2021-02-18T00:00:00\",\"2021-02-19T00:00:00\",\"2021-02-20T00:00:00\",\"2021-02-21T00:00:00\",\"2021-02-22T00:00:00\",\"2021-02-23T00:00:00\",\"2021-02-24T00:00:00\",\"2021-02-25T00:00:00\",\"2021-02-26T00:00:00\",\"2021-02-27T00:00:00\",\"2021-02-28T00:00:00\",\"2021-03-01T00:00:00\",\"2021-03-02T00:00:00\",\"2021-03-03T00:00:00\",\"2021-03-04T00:00:00\",\"2021-03-05T00:00:00\",\"2021-03-06T00:00:00\",\"2021-03-07T00:00:00\",\"2021-03-08T00:00:00\",\"2021-03-09T00:00:00\",\"2021-03-10T00:00:00\",\"2021-03-11T00:00:00\",\"2021-03-12T00:00:00\",\"2021-03-13T00:00:00\",\"2021-03-14T00:00:00\",\"2021-03-15T00:00:00\",\"2021-03-16T00:00:00\",\"2021-03-17T00:00:00\",\"2021-03-18T00:00:00\",\"2021-03-19T00:00:00\",\"2021-03-20T00:00:00\",\"2021-03-21T00:00:00\",\"2021-03-22T00:00:00\",\"2021-03-23T00:00:00\",\"2021-03-24T00:00:00\",\"2021-03-25T00:00:00\",\"2021-03-26T00:00:00\",\"2021-03-27T00:00:00\",\"2021-03-28T00:00:00\",\"2021-03-29T00:00:00\",\"2021-03-30T00:00:00\",\"2021-03-31T00:00:00\",\"2021-04-01T00:00:00\",\"2021-04-02T00:00:00\",\"2021-04-03T00:00:00\",\"2021-04-04T00:00:00\",\"2021-04-05T00:00:00\",\"2021-04-06T00:00:00\",\"2021-04-07T00:00:00\",\"2021-04-08T00:00:00\",\"2021-04-09T00:00:00\",\"2021-04-10T00:00:00\",\"2021-04-11T00:00:00\",\"2021-04-12T00:00:00\",\"2021-04-13T00:00:00\",\"2021-04-14T00:00:00\",\"2021-04-15T00:00:00\",\"2021-04-16T00:00:00\",\"2021-04-17T00:00:00\",\"2021-04-18T00:00:00\",\"2021-04-19T00:00:00\",\"2021-04-20T00:00:00\",\"2021-04-21T00:00:00\",\"2021-04-22T00:00:00\",\"2021-04-23T00:00:00\",\"2021-04-24T00:00:00\",\"2021-04-25T00:00:00\",\"2021-04-26T00:00:00\",\"2021-04-27T00:00:00\",\"2021-04-28T00:00:00\",\"2021-04-29T00:00:00\",\"2021-04-30T00:00:00\",\"2021-05-01T00:00:00\",\"2021-05-02T00:00:00\",\"2021-05-03T00:00:00\",\"2021-05-04T00:00:00\",\"2021-05-05T00:00:00\",\"2021-05-06T00:00:00\",\"2021-05-07T00:00:00\",\"2021-05-08T00:00:00\",\"2021-05-09T00:00:00\",\"2021-05-10T00:00:00\",\"2021-05-11T00:00:00\",\"2021-05-12T00:00:00\",\"2021-05-13T00:00:00\",\"2021-05-14T00:00:00\",\"2021-05-15T00:00:00\",\"2021-05-16T00:00:00\",\"2021-05-17T00:00:00\",\"2021-05-18T00:00:00\",\"2021-05-19T00:00:00\",\"2021-05-20T00:00:00\",\"2021-05-21T00:00:00\",\"2021-05-22T00:00:00\",\"2021-05-23T00:00:00\",\"2021-05-24T00:00:00\",\"2021-05-25T00:00:00\",\"2021-05-26T00:00:00\",\"2021-05-27T00:00:00\",\"2021-05-28T00:00:00\",\"2021-05-29T00:00:00\",\"2021-05-30T00:00:00\",\"2021-05-31T00:00:00\",\"2021-06-01T00:00:00\",\"2021-06-02T00:00:00\",\"2021-06-03T00:00:00\",\"2021-06-04T00:00:00\",\"2021-06-05T00:00:00\",\"2021-06-06T00:00:00\",\"2021-06-07T00:00:00\",\"2021-06-08T00:00:00\",\"2021-06-09T00:00:00\",\"2021-06-10T00:00:00\",\"2021-06-11T00:00:00\",\"2021-06-12T00:00:00\",\"2021-06-13T00:00:00\",\"2021-06-14T00:00:00\",\"2021-06-15T00:00:00\",\"2021-06-16T00:00:00\",\"2021-06-17T00:00:00\",\"2021-06-18T00:00:00\",\"2021-06-19T00:00:00\",\"2021-06-20T00:00:00\",\"2021-06-21T00:00:00\",\"2021-06-22T00:00:00\",\"2021-06-23T00:00:00\",\"2021-06-24T00:00:00\",\"2021-06-25T00:00:00\",\"2021-06-26T00:00:00\",\"2021-06-27T00:00:00\",\"2021-06-28T00:00:00\",\"2021-06-29T00:00:00\",\"2021-06-30T00:00:00\",\"2021-07-01T00:00:00\",\"2021-07-02T00:00:00\",\"2021-07-03T00:00:00\",\"2021-07-04T00:00:00\",\"2021-07-05T00:00:00\",\"2021-07-06T00:00:00\",\"2021-07-07T00:00:00\",\"2021-07-08T00:00:00\",\"2021-07-09T00:00:00\",\"2021-07-10T00:00:00\",\"2021-07-11T00:00:00\",\"2021-07-12T00:00:00\",\"2021-07-13T00:00:00\",\"2021-07-14T00:00:00\",\"2021-07-15T00:00:00\",\"2021-07-16T00:00:00\",\"2021-07-17T00:00:00\",\"2021-07-18T00:00:00\",\"2021-07-19T00:00:00\",\"2021-07-20T00:00:00\",\"2021-07-21T00:00:00\",\"2021-07-22T00:00:00\",\"2021-07-23T00:00:00\",\"2021-07-24T00:00:00\",\"2021-07-25T00:00:00\",\"2021-07-26T00:00:00\",\"2021-07-27T00:00:00\",\"2021-07-28T00:00:00\",\"2021-07-29T00:00:00\",\"2021-07-30T00:00:00\",\"2021-07-31T00:00:00\",\"2021-08-01T00:00:00\",\"2021-08-02T00:00:00\",\"2021-08-03T00:00:00\",\"2021-08-04T00:00:00\",\"2021-08-05T00:00:00\",\"2021-08-06T00:00:00\",\"2021-08-07T00:00:00\",\"2021-08-08T00:00:00\",\"2021-08-09T00:00:00\",\"2021-08-10T00:00:00\",\"2021-08-11T00:00:00\",\"2021-08-12T00:00:00\",\"2021-08-13T00:00:00\",\"2021-08-14T00:00:00\",\"2021-08-15T00:00:00\",\"2021-08-16T00:00:00\",\"2021-08-17T00:00:00\",\"2021-08-18T00:00:00\"],\"xaxis\":\"x\",\"y\":[0.0,0.0,0.0,0.0,0.0,0.0,0.0,0.0,0.0,0.0,0.0,0.0,0.0,0.0,0.0,0.0,0.0,0.0,0.0,0.005,0.006230529595015576,0.005376344086021506,0.00322061191626409,0.0025220680958385876,0.0019588638589618022,0.00129366106080207,0.0010395010395010396,0.0008900756564307966,0.0007830853563038371,0.0020100502512562816,0.001755926251097454,0.0015368852459016393,0.0014097744360902255,0.0262065953264905,0.02221444813713486,0.01857811585722645,0.015788165091994034,0.014023851590106008,0.012258687258687258,0.011410601976639713,0.010443220129923526,0.009049451332478267,0.007854050711193569,0.009562237453017909,0.008809451064263164,0.008346601051768225,0.0077956020187454934,0.007383696116090482,0.12057635974982187,0.4952683615819209,0.4610024650780608,0.4164242028383113,0.3826177096404605,0.5725151342681223,0.543160788356282,0.533693911186425,0.553314247000459,0.5310776241106403,0.5117221471790981,0.4915379947407457,0.4778446909667195,0.46173234884203657,0.4443776882638083,0.4283365752651064,0.41216006973516695,0.4125615496410056,0.42159629248197733,0.42220061673835757,0.4217915669305837,0.4176605603914945,0.40573093964979345,0.4076657361920264,0.40367203561752013,0.39526210904710335,0.39924646125667645,0.39732537707701926,0.4073585689115333,0.4124604890158149,0.3912041936357148,0.38571707423362733,0.3840161705444283,0.39041811846689894,0.39338914820964255,0.39279106975375616,0.4001762815566279,0.4062085801726612,0.4092900964066608,0.41044277744834456,0.41273805033437866,0.41033294389407254,0.4053785318821539,0.4046588202155791,0.4052683701550299,0.40732985643834674,0.40304148944707485,0.4011953019234766,0.4009520426557659,0.4026734703799,0.4085795594641243,0.4146137596940194,0.4133663481326972,0.41190554748040414,0.41047880906328515,0.534705376781847,0.5364914003053403,0.5358718617946806,0.5355630346724329,0.537062776752211,0.5401862873509431,0.5407192516574,0.5377964607647892,0.530774305153116,0.5453826081222387,0.546525964532757,0.5340536908723194,0.5402682143429198,0.5428743119664077,0.5438339945954251,0.5480056828396046,0.5556552033389672,0.5533069405608926,0.5509124107628861,0.5539569769203306,0.5550138638522836,0.5538764576686803,0.5622645842739263,0.5643763981851979,0.6398015042175009,0.6397421578201538,0.6282361997813576,0.6419274447851134,0.6545632187590095,0.6634419860133323,0.665345910481216,0.6671950171405399,0.6760010817252295,0.6761899067858793,0.6783160229551328,0.6850257855973075,0.6868427007344728,0.6864621191937147,0.6945457870706523,0.6980894558448109,0.6975930906181622,0.6953296076180346,0.7147489481489593,0.7201797139727012,0.7146868661655998,0.7083412933474683,0.7225563569668588,0.7456042209835569,0.7494190999842503,0.7560841394134807,0.7525595091154889,0.753370829439733,0.7497051839353405,0.7545034056529896,0.75261247095049,0.7546158525678052,0.763175749131555,0.7700017238173382,0.7661088051966494,0.7659270684963869,0.7670357765654147,0.7706572009406416,0.7764926919551878,0.7819635188570943,0.7876621977534305,0.7919109828945726,0.7817664927271623,0.7989513115474794,0.7907151315488005,0.7948683865053469,0.8034004351747396,0.8074435471042927,0.8105909996146561,0.8122039706165807,0.8084063493501457,0.8134203076071039,0.8175156408469395,0.8215208919138769,0.8263093001489102,0.8292487589974701,0.830237005405713,0.830209343295829,0.8325682831650223,0.8382584934253093,0.8363263866997999,0.8466966393490547,0.8472794854253458,0.8485260184113471,0.8466389250112604,0.8486536502546689,0.8512718122759981,0.8556840093794437,0.8583273287133599,0.8603448066397182,0.8629816210941463,0.862918374915113,0.8627145573810149,0.8597724719457887,0.8675739424384609,0.8697572464272455,0.8701950155722352,0.8694945847565172,0.8670479043900994,0.8694090860908432,0.8721165138012366,0.8761292134338444,0.8748665973771629,0.8813997321928734,0.8808966309995787,0.8803476960678845,0.8803126161113914,0.8817494800107094,0.8845019159348801,0.8868932471687205,0.888553680313702,0.8870594987675084,0.8870594987675084,0.888782642490584,0.8901519320634046,0.8925659117131617,0.891570595400694,0.8913106860767726,0.8925409132526881,0.8906158522498916,0.8859287019710438,0.8884026803643351,0.8869353577060662,0.8851627455106238,0.8804733757736785,0.8756152084599602,0.8704099763475184,0.8664011031394838,0.8664011031394838,0.8620507217381517,0.8582541675562585,0.8542343395790571,0.8502456030941293,0.8454769974014019,0.841237697781024,0.8391334058072036,0.8366941141110278,0.9035031907436538,0.9048157826881262,0.9032097548475022,0.9040681876599928,0.9041759663126253,0.9056266065360491,0.9073192459912361,0.9092081295008362,0.9084327887621254,0.9084327887621254,0.9088956650478826,0.9089211206883591,0.9087336680134496,0.9098144292402228,0.9096272068545299,0.9087066736724162,0.9088268574241445,0.9077831541107607,0.9026310493884467,0.9004551010874294,0.9079436205173723,0.9063799634558789,0.905402239444695,0.9037573680151701,0.9021176167293782,0.8982952643625597,0.8989643411792435,0.9003838617729657,0.9004588877259709,0.8974158556586881,0.8956624684488944,0.8946974760954419,0.8873123451577293,0.8838742371023985,0.8835084892733098,0.8943941609450886,0.8947657554783932,0.8929341750469086,0.8916090498147526,0.8916953276458882,0.8884109129345775,0.8903389553392248,0.8937068005553259,0.8866999422749839,0.8910937938443767,0.8891289010736478,0.8834556396996741,0.8893641972589783,0.888973595904229,0.8904523277791758,0.8861723305714506,0.8862394334860573,0.8827271282977555,0.8857341898240091,0.8853254773022408,0.8906455583642259,0.8883044140579474,0.8842172246700402,0.8772582501621442,0.8743592050006981,0.8912887637316051,0.89216738806713,0.8944578780100769,0.8929814844905521,0.8943316883662327,0.8922444099269239,0.8902412260482265,0.8933248060463389,0.8927332239770999,0.8963460528528641,0.8955808921438082,0.8932483937296081,0.8894513753579179,0.8905761228135589,0.8922005676573966,0.8921198303928426,0.8944397494617303,0.8888808764956281,0.8898501744557281,0.8883322717818473,0.8861716911149734,0.8853661458778703,0.8846514396215218,0.8882359368263005,0.8885235408445947,0.8819009500652273,0.8822314980807987,0.8849646786810937,0.8819990894091754,0.8843131785725875,0.8865540056674301,0.8839108169427032,0.8852157126540368,0.8808686071171241,0.8846401820121329,0.887947390071347,0.8882794076220153,0.8887276876893015,0.8895510252796976,0.8899782855894691,0.8903720860982092,0.8887478942095327,0.8922244927446488,0.8890605839170824,0.8901982647113171,0.8934995491983231,0.8920315799488714,0.8891425686610818,0.8900418874491767,0.8909953297503689,0.891253893304122,0.8941062421009638,0.8916832233401777,0.8952428596496134,0.8891425686610818,0.8900418874491767,0.8909953297503689,0.891253893304122,0.8941062421009638,0.8916832233401777,0.8952428596496134,0.8891425686610818,0.8900418874491767,0.8909953297503689,0.891253893304122,0.8941062421009638,0.8916832233401777,0.8952428596496134,0.8891425686610818,0.8900418874491767,0.8909953297503689,0.891253893304122,0.8941062421009638,0.8916832233401777,0.8952428596496134,0.8891425686610818,0.8900418874491767,0.8909953297503689,0.891253893304122,0.8941062421009638,0.8916832233401777,0.8952428596496134,0.8891425686610818,0.8900418874491767,0.8909953297503689,0.891253893304122,0.8941062421009638,0.8916832233401777,0.8952428596496134,0.8891425686610818,0.8900418874491767,0.8909953297503689,0.891253893304122,0.8941062421009638,0.8916832233401777,0.8952428596496134,0.8891425686610818,0.8900418874491767,0.8909953297503689,0.891253893304122,0.8941062421009638,0.8916832233401777,0.8952428596496134,0.8891425686610818,0.8900418874491767,0.8909953297503689,0.891253893304122,0.8941062421009638,0.8916832233401777,0.8952428596496134,0.8891425686610818,0.8900418874491767,0.8909953297503689,0.891253893304122,0.8941062421009638,0.8916832233401777,0.8952428596496134,0.8891425686610818,0.8900418874491767,0.8909953297503689,0.891253893304122,0.8941062421009638,0.8916832233401777,0.8952428596496134,0.8891425686610818,0.8900418874491767,0.8909953297503689,0.891253893304122,0.8941062421009638,0.8916832233401777,0.8952428596496134,0.8891425686610818,0.8900418874491767,0.8909953297503689,0.891253893304122,0.8941062421009638,0.8916832233401777,0.8952428596496134,0.8891425686610818,0.8900418874491767,0.8909953297503689,0.891253893304122,0.8941062421009638,0.8916832233401777,0.8952428596496134,0.8891425686610818,0.8900418874491767,0.8909953297503689,0.891253893304122,0.8941062421009638,0.8916832233401777,0.8952428596496134,0.8891425686610818,0.8900418874491767,0.8909953297503689,0.891253893304122,0.8941062421009638,0.8916832233401777,0.8952428596496134,0.8891425686610818,0.8900418874491767,0.8909953297503689,0.891253893304122,0.8941062421009638,0.8916832233401777,0.8952428596496134,0.8891425686610818,0.8900418874491767,0.8909953297503689,0.891253893304122,0.8941062421009638,0.8916832233401777,0.8952428596496134,0.8891425686610818,0.8900418874491767,0.8909953297503689,0.891253893304122,0.8941062421009638,0.8916832233401777,0.8952428596496134,0.8891425686610818,0.8900418874491767,0.8909953297503689,0.891253893304122,0.8941062421009638,0.8916832233401777,0.8952428596496134,0.8891425686610818,0.8900418874491767,0.8909953297503689,0.891253893304122,0.8941062421009638,0.8916832233401777,0.8952428596496134,0.8891425686610818,0.8900418874491767,0.8909953297503689,0.891253893304122,0.8941062421009638,0.8916832233401777,0.8952428596496134,0.8891425686610818,0.8900418874491767,0.8909953297503689,0.891253893304122,0.8941062421009638,0.8916832233401777,0.8952428596496134,0.8891425686610818,0.8900418874491767,0.8909953297503689,0.891253893304122,0.8941062421009638,0.8916832233401777,0.8952428596496134,0.8891425686610818,0.8900418874491767,0.8909953297503689,0.891253893304122,0.8941062421009638,0.8916832233401777,0.8952428596496134,0.8891425686610818,0.8900418874491767,0.8909953297503689,0.891253893304122,0.8941062421009638,0.8916832233401777,0.8952428596496134],\"yaxis\":\"y\",\"type\":\"scatter\"}],                        {\"autosize\":false,\"height\":240,\"legend\":{\"bordercolor\":\"#FFFFFF\",\"borderwidth\":0,\"font\":{\"color\":\"#000\",\"family\":\"sans-serif\",\"size\":12},\"orientation\":\"h\",\"traceorder\":\"normal\"},\"margin\":{\"b\":0,\"l\":0,\"r\":0,\"t\":30},\"paper_bgcolor\":\"#FFFFFF\",\"plot_bgcolor\":\"#E2E2E2\",\"showlegend\":true,\"template\":{\"data\":{\"barpolar\":[{\"marker\":{\"line\":{\"color\":\"#E5ECF6\",\"width\":0.5},\"pattern\":{\"fillmode\":\"overlay\",\"size\":10,\"solidity\":0.2}},\"type\":\"barpolar\"}],\"bar\":[{\"error_x\":{\"color\":\"#2a3f5f\"},\"error_y\":{\"color\":\"#2a3f5f\"},\"marker\":{\"line\":{\"color\":\"#E5ECF6\",\"width\":0.5},\"pattern\":{\"fillmode\":\"overlay\",\"size\":10,\"solidity\":0.2}},\"type\":\"bar\"}],\"carpet\":[{\"aaxis\":{\"endlinecolor\":\"#2a3f5f\",\"gridcolor\":\"white\",\"linecolor\":\"white\",\"minorgridcolor\":\"white\",\"startlinecolor\":\"#2a3f5f\"},\"baxis\":{\"endlinecolor\":\"#2a3f5f\",\"gridcolor\":\"white\",\"linecolor\":\"white\",\"minorgridcolor\":\"white\",\"startlinecolor\":\"#2a3f5f\"},\"type\":\"carpet\"}],\"choropleth\":[{\"colorbar\":{\"outlinewidth\":0,\"ticks\":\"\"},\"type\":\"choropleth\"}],\"contourcarpet\":[{\"colorbar\":{\"outlinewidth\":0,\"ticks\":\"\"},\"type\":\"contourcarpet\"}],\"contour\":[{\"colorbar\":{\"outlinewidth\":0,\"ticks\":\"\"},\"colorscale\":[[0.0,\"#0d0887\"],[0.1111111111111111,\"#46039f\"],[0.2222222222222222,\"#7201a8\"],[0.3333333333333333,\"#9c179e\"],[0.4444444444444444,\"#bd3786\"],[0.5555555555555556,\"#d8576b\"],[0.6666666666666666,\"#ed7953\"],[0.7777777777777778,\"#fb9f3a\"],[0.8888888888888888,\"#fdca26\"],[1.0,\"#f0f921\"]],\"type\":\"contour\"}],\"heatmapgl\":[{\"colorbar\":{\"outlinewidth\":0,\"ticks\":\"\"},\"colorscale\":[[0.0,\"#0d0887\"],[0.1111111111111111,\"#46039f\"],[0.2222222222222222,\"#7201a8\"],[0.3333333333333333,\"#9c179e\"],[0.4444444444444444,\"#bd3786\"],[0.5555555555555556,\"#d8576b\"],[0.6666666666666666,\"#ed7953\"],[0.7777777777777778,\"#fb9f3a\"],[0.8888888888888888,\"#fdca26\"],[1.0,\"#f0f921\"]],\"type\":\"heatmapgl\"}],\"heatmap\":[{\"colorbar\":{\"outlinewidth\":0,\"ticks\":\"\"},\"colorscale\":[[0.0,\"#0d0887\"],[0.1111111111111111,\"#46039f\"],[0.2222222222222222,\"#7201a8\"],[0.3333333333333333,\"#9c179e\"],[0.4444444444444444,\"#bd3786\"],[0.5555555555555556,\"#d8576b\"],[0.6666666666666666,\"#ed7953\"],[0.7777777777777778,\"#fb9f3a\"],[0.8888888888888888,\"#fdca26\"],[1.0,\"#f0f921\"]],\"type\":\"heatmap\"}],\"histogram2dcontour\":[{\"colorbar\":{\"outlinewidth\":0,\"ticks\":\"\"},\"colorscale\":[[0.0,\"#0d0887\"],[0.1111111111111111,\"#46039f\"],[0.2222222222222222,\"#7201a8\"],[0.3333333333333333,\"#9c179e\"],[0.4444444444444444,\"#bd3786\"],[0.5555555555555556,\"#d8576b\"],[0.6666666666666666,\"#ed7953\"],[0.7777777777777778,\"#fb9f3a\"],[0.8888888888888888,\"#fdca26\"],[1.0,\"#f0f921\"]],\"type\":\"histogram2dcontour\"}],\"histogram2d\":[{\"colorbar\":{\"outlinewidth\":0,\"ticks\":\"\"},\"colorscale\":[[0.0,\"#0d0887\"],[0.1111111111111111,\"#46039f\"],[0.2222222222222222,\"#7201a8\"],[0.3333333333333333,\"#9c179e\"],[0.4444444444444444,\"#bd3786\"],[0.5555555555555556,\"#d8576b\"],[0.6666666666666666,\"#ed7953\"],[0.7777777777777778,\"#fb9f3a\"],[0.8888888888888888,\"#fdca26\"],[1.0,\"#f0f921\"]],\"type\":\"histogram2d\"}],\"histogram\":[{\"marker\":{\"pattern\":{\"fillmode\":\"overlay\",\"size\":10,\"solidity\":0.2}},\"type\":\"histogram\"}],\"mesh3d\":[{\"colorbar\":{\"outlinewidth\":0,\"ticks\":\"\"},\"type\":\"mesh3d\"}],\"parcoords\":[{\"line\":{\"colorbar\":{\"outlinewidth\":0,\"ticks\":\"\"}},\"type\":\"parcoords\"}],\"pie\":[{\"automargin\":true,\"type\":\"pie\"}],\"scatter3d\":[{\"line\":{\"colorbar\":{\"outlinewidth\":0,\"ticks\":\"\"}},\"marker\":{\"colorbar\":{\"outlinewidth\":0,\"ticks\":\"\"}},\"type\":\"scatter3d\"}],\"scattercarpet\":[{\"marker\":{\"colorbar\":{\"outlinewidth\":0,\"ticks\":\"\"}},\"type\":\"scattercarpet\"}],\"scattergeo\":[{\"marker\":{\"colorbar\":{\"outlinewidth\":0,\"ticks\":\"\"}},\"type\":\"scattergeo\"}],\"scattergl\":[{\"marker\":{\"colorbar\":{\"outlinewidth\":0,\"ticks\":\"\"}},\"type\":\"scattergl\"}],\"scattermapbox\":[{\"marker\":{\"colorbar\":{\"outlinewidth\":0,\"ticks\":\"\"}},\"type\":\"scattermapbox\"}],\"scatterpolargl\":[{\"marker\":{\"colorbar\":{\"outlinewidth\":0,\"ticks\":\"\"}},\"type\":\"scatterpolargl\"}],\"scatterpolar\":[{\"marker\":{\"colorbar\":{\"outlinewidth\":0,\"ticks\":\"\"}},\"type\":\"scatterpolar\"}],\"scatter\":[{\"marker\":{\"colorbar\":{\"outlinewidth\":0,\"ticks\":\"\"}},\"type\":\"scatter\"}],\"scatterternary\":[{\"marker\":{\"colorbar\":{\"outlinewidth\":0,\"ticks\":\"\"}},\"type\":\"scatterternary\"}],\"surface\":[{\"colorbar\":{\"outlinewidth\":0,\"ticks\":\"\"},\"colorscale\":[[0.0,\"#0d0887\"],[0.1111111111111111,\"#46039f\"],[0.2222222222222222,\"#7201a8\"],[0.3333333333333333,\"#9c179e\"],[0.4444444444444444,\"#bd3786\"],[0.5555555555555556,\"#d8576b\"],[0.6666666666666666,\"#ed7953\"],[0.7777777777777778,\"#fb9f3a\"],[0.8888888888888888,\"#fdca26\"],[1.0,\"#f0f921\"]],\"type\":\"surface\"}],\"table\":[{\"cells\":{\"fill\":{\"color\":\"#EBF0F8\"},\"line\":{\"color\":\"white\"}},\"header\":{\"fill\":{\"color\":\"#C8D4E3\"},\"line\":{\"color\":\"white\"}},\"type\":\"table\"}]},\"layout\":{\"annotationdefaults\":{\"arrowcolor\":\"#2a3f5f\",\"arrowhead\":0,\"arrowwidth\":1},\"autotypenumbers\":\"strict\",\"coloraxis\":{\"colorbar\":{\"outlinewidth\":0,\"ticks\":\"\"}},\"colorscale\":{\"diverging\":[[0,\"#8e0152\"],[0.1,\"#c51b7d\"],[0.2,\"#de77ae\"],[0.3,\"#f1b6da\"],[0.4,\"#fde0ef\"],[0.5,\"#f7f7f7\"],[0.6,\"#e6f5d0\"],[0.7,\"#b8e186\"],[0.8,\"#7fbc41\"],[0.9,\"#4d9221\"],[1,\"#276419\"]],\"sequential\":[[0.0,\"#0d0887\"],[0.1111111111111111,\"#46039f\"],[0.2222222222222222,\"#7201a8\"],[0.3333333333333333,\"#9c179e\"],[0.4444444444444444,\"#bd3786\"],[0.5555555555555556,\"#d8576b\"],[0.6666666666666666,\"#ed7953\"],[0.7777777777777778,\"#fb9f3a\"],[0.8888888888888888,\"#fdca26\"],[1.0,\"#f0f921\"]],\"sequentialminus\":[[0.0,\"#0d0887\"],[0.1111111111111111,\"#46039f\"],[0.2222222222222222,\"#7201a8\"],[0.3333333333333333,\"#9c179e\"],[0.4444444444444444,\"#bd3786\"],[0.5555555555555556,\"#d8576b\"],[0.6666666666666666,\"#ed7953\"],[0.7777777777777778,\"#fb9f3a\"],[0.8888888888888888,\"#fdca26\"],[1.0,\"#f0f921\"]]},\"colorway\":[\"#636efa\",\"#EF553B\",\"#00cc96\",\"#ab63fa\",\"#FFA15A\",\"#19d3f3\",\"#FF6692\",\"#B6E880\",\"#FF97FF\",\"#FECB52\"],\"font\":{\"color\":\"#2a3f5f\"},\"geo\":{\"bgcolor\":\"white\",\"lakecolor\":\"white\",\"landcolor\":\"#E5ECF6\",\"showlakes\":true,\"showland\":true,\"subunitcolor\":\"white\"},\"hoverlabel\":{\"align\":\"left\"},\"hovermode\":\"closest\",\"mapbox\":{\"style\":\"light\"},\"paper_bgcolor\":\"white\",\"plot_bgcolor\":\"#E5ECF6\",\"polar\":{\"angularaxis\":{\"gridcolor\":\"white\",\"linecolor\":\"white\",\"ticks\":\"\"},\"bgcolor\":\"#E5ECF6\",\"radialaxis\":{\"gridcolor\":\"white\",\"linecolor\":\"white\",\"ticks\":\"\"}},\"scene\":{\"xaxis\":{\"backgroundcolor\":\"#E5ECF6\",\"gridcolor\":\"white\",\"gridwidth\":2,\"linecolor\":\"white\",\"showbackground\":true,\"ticks\":\"\",\"zerolinecolor\":\"white\"},\"yaxis\":{\"backgroundcolor\":\"#E5ECF6\",\"gridcolor\":\"white\",\"gridwidth\":2,\"linecolor\":\"white\",\"showbackground\":true,\"ticks\":\"\",\"zerolinecolor\":\"white\"},\"zaxis\":{\"backgroundcolor\":\"#E5ECF6\",\"gridcolor\":\"white\",\"gridwidth\":2,\"linecolor\":\"white\",\"showbackground\":true,\"ticks\":\"\",\"zerolinecolor\":\"white\"}},\"shapedefaults\":{\"line\":{\"color\":\"#2a3f5f\"}},\"ternary\":{\"aaxis\":{\"gridcolor\":\"white\",\"linecolor\":\"white\",\"ticks\":\"\"},\"baxis\":{\"gridcolor\":\"white\",\"linecolor\":\"white\",\"ticks\":\"\"},\"bgcolor\":\"#E5ECF6\",\"caxis\":{\"gridcolor\":\"white\",\"linecolor\":\"white\",\"ticks\":\"\"}},\"title\":{\"x\":0.05},\"xaxis\":{\"automargin\":true,\"gridcolor\":\"white\",\"linecolor\":\"white\",\"ticks\":\"\",\"title\":{\"standoff\":15},\"zerolinecolor\":\"white\",\"zerolinewidth\":2},\"yaxis\":{\"automargin\":true,\"gridcolor\":\"white\",\"linecolor\":\"white\",\"ticks\":\"\",\"title\":{\"standoff\":15},\"zerolinecolor\":\"white\",\"zerolinewidth\":2}}},\"title\":{\"text\":\"covid prediction in brazil\"},\"width\":350,\"xaxis\":{\"anchor\":\"y\",\"automargin\":true,\"domain\":[0.0,1.0],\"tickfont\":{\"size\":10}},\"yaxis\":{\"anchor\":\"x\",\"automargin\":true,\"domain\":[0.0,1.0],\"tickfont\":{\"size\":10}}},                        {\"responsive\": true}                    ).then(function(){\n",
       "                            \n",
       "var gd = document.getElementById('bcae9dc4-f91c-4ac6-91a8-2ff5f42e2ad5');\n",
       "var x = new MutationObserver(function (mutations, observer) {{\n",
       "        var display = window.getComputedStyle(gd).display;\n",
       "        if (!display || display === 'none') {{\n",
       "            console.log([gd, 'removed!']);\n",
       "            Plotly.purge(gd);\n",
       "            observer.disconnect();\n",
       "        }}\n",
       "}});\n",
       "\n",
       "// Listen for the removal of the full notebook cells\n",
       "var notebookContainer = gd.closest('#notebook-container');\n",
       "if (notebookContainer) {{\n",
       "    x.observe(notebookContainer, {childList: true});\n",
       "}}\n",
       "\n",
       "// Listen for the clearing of the current output cell\n",
       "var outputEl = gd.closest('.output');\n",
       "if (outputEl) {{\n",
       "    x.observe(outputEl, {childList: true});\n",
       "}}\n",
       "\n",
       "                        })                };                });            </script>        </div>"
      ]
     },
     "metadata": {},
     "output_type": "display_data"
    }
   ],
   "source": [
    "path_tutorial_plot = 'plot'\n",
    "# Save plot as a file\n",
    "forecast_plot.plot_forecast(df_forecast, output='html',\n",
    "path=path_tutorial_plot, width=350, height=240, title='Forecast')\n",
    "# Show plot in a jupyter notebook\n",
    "forecast_plot.plot_forecast(df_forecast, output='jupyter', width=350,\n",
    "height=240, title='covid prediction in brazil')"
   ]
  }
 ],
 "metadata": {
  "kernelspec": {
   "display_name": "Python 3",
   "language": "python",
   "name": "python3"
  },
  "language_info": {
   "codemirror_mode": {
    "name": "ipython",
    "version": 3
   },
   "file_extension": ".py",
   "mimetype": "text/x-python",
   "name": "python",
   "nbconvert_exporter": "python",
   "pygments_lexer": "ipython3",
   "version": "3.8.5"
  }
 },
 "nbformat": 4,
 "nbformat_minor": 4
}
